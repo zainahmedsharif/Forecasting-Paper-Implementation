{
 "cells": [
  {
   "cell_type": "code",
   "execution_count": 1,
   "id": "1fe17a8b",
   "metadata": {},
   "outputs": [],
   "source": [
    "import pandas as pd\n",
    "import numpy as np\n",
    "import tensorflow as tf \n",
    "from tensorflow import keras\n",
    "import pickle\n",
    "from sklearn.metrics import mean_squared_error\n",
    "from sklearn.metrics import mean_absolute_error\n",
    "import seaborn as sns \n",
    "import matplotlib.pyplot as plt\n",
    "from numpy.lib.stride_tricks import sliding_window_view\n",
    "import datetime as dt\n",
    "import random\n",
    "import os \n",
    "import h5py\n",
    "from sklearn.preprocessing import StandardScaler\n",
    "\n",
    "BATCH_SIZE = 128\n",
    "PATIENCE = 20\n",
    "MAX_EPOCH = 100\n",
    "TRAIN_STEPS = 168\n",
    "PREDICT_STEPS = 24\n",
    "WINDOW_SIZE = TRAIN_STEPS + PREDICT_STEPS \n",
    "\n"
   ]
  },
  {
   "cell_type": "code",
   "execution_count": 2,
   "id": "57e5d269",
   "metadata": {},
   "outputs": [],
   "source": [
    "FILE_DIR = 'C:\\\\Users\\\\Zain Ahmed\\\\Desktop\\\\Literature review\\\\Project Folder\\\\Data.xlsx'\n"
   ]
  },
  {
   "cell_type": "markdown",
   "id": "4cb35c9f",
   "metadata": {},
   "source": [
    "# Loading the data from execl file"
   ]
  },
  {
   "cell_type": "code",
   "execution_count": 3,
   "id": "66d8867c",
   "metadata": {},
   "outputs": [],
   "source": [
    "data = pd.read_excel(FILE_DIR)\n",
    "data['Time']=data['Time'].astype(int)-1\n",
    "data = data.loc[:,('DATE','Time',' Load(KW)   ','Temp (°C)','Dew Point Temp (°C)','Rel Hum (%)','Wind Dir (10s deg)','Wind Spd (km/h)','Visibility (km)','Stn Press (kPa)')]\n",
    "data['datetime'] = data['DATE'].astype('str') + '-' + data['Time'].astype('str')\n",
    "data['datetime']=pd.to_datetime(data['datetime'],format='%Y-%m-%d-%H')\n",
    "#data['is_weekday'] = (data['datetime'].dt.weekday<=5).astype('int')\n",
    "#data['month'] = (data['datetime']).dt.month\n",
    "data = data.set_index('datetime')\n",
    "data = data.drop(columns=['DATE','Time'])\n",
    "#data['datetime']=pd.to_datetime(data['datetime'],format='%Y-%m-%d-%H')\n"
   ]
  },
  {
   "cell_type": "markdown",
   "id": "1354109b",
   "metadata": {},
   "source": [
    "# Keeping DATE,Time and Load Columns Only \n",
    "# Also keeping daily hours between 0-23"
   ]
  },
  {
   "cell_type": "code",
   "execution_count": 4,
   "id": "69ad8fbc",
   "metadata": {},
   "outputs": [],
   "source": [
    "#data = data.loc[:,('DATE','Time',' Load(KW)   ')]\n",
    "#DROPPING WIND CHILL DUE TO HIGH NANs\n",
    "#data = data.loc[:,('DATE','Time',' Load(KW)   ','Temp (°C)','Dew Point Temp (°C)','Rel Hum (%)','Wind Dir (10s deg)','Wind Spd (km/h)','Visibility (km)','Stn Press (kPa)')]"
   ]
  },
  {
   "cell_type": "markdown",
   "id": "764631f9",
   "metadata": {},
   "source": [
    "# Concatenate Date and Time"
   ]
  },
  {
   "cell_type": "code",
   "execution_count": 5,
   "id": "746ef898",
   "metadata": {},
   "outputs": [],
   "source": [
    "#data['datetime'] = data['DATE'].astype('str') + '-' + data['Time'].astype('str')"
   ]
  },
  {
   "cell_type": "code",
   "execution_count": 6,
   "id": "00c8869f",
   "metadata": {},
   "outputs": [],
   "source": [
    "#data['datetime']=pd.to_datetime(data['datetime'],format='%Y-%m-%d-%H')"
   ]
  },
  {
   "cell_type": "code",
   "execution_count": 7,
   "id": "cf857e85",
   "metadata": {},
   "outputs": [],
   "source": [
    "#data = data.set_index('datetime')"
   ]
  },
  {
   "cell_type": "code",
   "execution_count": 8,
   "id": "b4903309",
   "metadata": {},
   "outputs": [],
   "source": [
    "#data = data.drop(columns=['DATE','Time'])"
   ]
  },
  {
   "cell_type": "code",
   "execution_count": 9,
   "id": "97fb057a",
   "metadata": {},
   "outputs": [
    {
     "name": "stdout",
     "output_type": "stream",
     "text": [
      "The number of breaks in the data are 3 which is 0.0081 percent of the total data\n"
     ]
    }
   ],
   "source": [
    "num_of_bre = (data.asfreq(freq='1H').shape[0]) - (data.shape[0])\n",
    "percen = ((num_of_bre)/data.shape[0])*100\n",
    "print('The number of breaks in the data are {} which is {:0.2} percent of the total data'.format(num_of_bre,percen))"
   ]
  },
  {
   "cell_type": "markdown",
   "id": "74f8e982",
   "metadata": {},
   "source": [
    "# We will ensure the continuity of the data"
   ]
  },
  {
   "cell_type": "code",
   "execution_count": 10,
   "id": "cb73c2a3",
   "metadata": {},
   "outputs": [],
   "source": [
    "#num_of_bre = (data.asfreq(freq='1H').shape[0]) - (data.shape[0])\n",
    "#percen = ((num_of_bre)/data.shape[0])*100\n",
    "#print('The number of breaks in the data are {} which is {:0.2} percent of the total data'.format(num_of_bre,percen))"
   ]
  },
  {
   "cell_type": "markdown",
   "id": "5ee6de35",
   "metadata": {},
   "source": [
    "# Make the data continous "
   ]
  },
  {
   "cell_type": "code",
   "execution_count": 11,
   "id": "5b250c55",
   "metadata": {},
   "outputs": [],
   "source": [
    "data = data.asfreq(freq='1H')"
   ]
  },
  {
   "cell_type": "code",
   "execution_count": 12,
   "id": "8667cf5e",
   "metadata": {},
   "outputs": [],
   "source": [
    "#data = data.asfreq(freq='1H')"
   ]
  },
  {
   "cell_type": "code",
   "execution_count": 13,
   "id": "53f60a42",
   "metadata": {},
   "outputs": [
    {
     "data": {
      "text/plain": [
       "<AxesSubplot:xlabel='datetime'>"
      ]
     },
     "execution_count": 13,
     "metadata": {},
     "output_type": "execute_result"
    },
    {
     "data": {
      "image/png": "[encoded data removed]",
      "text/plain": [
       "<Figure size 432x288 with 1 Axes>"
      ]
     },
     "metadata": {
      "needs_background": "light"
     },
     "output_type": "display_data"
    }
   ],
   "source": [
    "data.plot(y=' Load(KW)   ')"
   ]
  },
  {
   "cell_type": "code",
   "execution_count": 14,
   "id": "b8e79530",
   "metadata": {},
   "outputs": [
    {
     "data": {
      "text/plain": [
       "(37224, 8)"
      ]
     },
     "execution_count": 14,
     "metadata": {},
     "output_type": "execute_result"
    }
   ],
   "source": [
    "data.shape"
   ]
  },
  {
   "cell_type": "markdown",
   "id": "5165aaf7",
   "metadata": {},
   "source": [
    "# We will divide our data in train, validation and test sets "
   ]
  },
  {
   "cell_type": "code",
   "execution_count": 15,
   "id": "71ec559c",
   "metadata": {},
   "outputs": [],
   "source": [
    "tr_id = int((data.shape[0]*0.75)/24)*24\n",
    "val_id = int((data.shape[0]*0.90)/24)*24\n",
    "tra_data = data.iloc[:tr_id,:]\n",
    "val_data = data.iloc[tr_id:val_id,:]\n",
    "tes_data = data.iloc[val_id:,:]"
   ]
  },
  {
   "cell_type": "code",
   "execution_count": 16,
   "id": "4be6d4bc",
   "metadata": {},
   "outputs": [
    {
     "data": {
      "text/plain": [
       "27912"
      ]
     },
     "execution_count": 16,
     "metadata": {},
     "output_type": "execute_result"
    }
   ],
   "source": [
    "tr_id"
   ]
  },
  {
   "cell_type": "markdown",
   "id": "9aba52d7",
   "metadata": {},
   "source": [
    "# Now we will write the proprocessing function"
   ]
  },
  {
   "cell_type": "code",
   "execution_count": 17,
   "id": "25a06c94",
   "metadata": {},
   "outputs": [],
   "source": [
    "def pre_process(sample):\n",
    "    '''\n",
    "    Takes a dataframe and \n",
    "            \n",
    "    - replaces NA values by forward filling\n",
    "    \n",
    "    '''\n",
    "    ## Use the below line of code to sample data based on hours \n",
    "    ##sample = sample[(sample.index.dayofweek<5) & ((of_da_fi.index.hour>4) & (of_da_fi.index.hour<19))]\n",
    "    \n",
    "    #using forward filling method to fill the missing data \n",
    "        \n",
    "    sample = sample.fillna(method='ffill')\n",
    "    \n",
    "    ## This line of code checks for NA values \n",
    "    \n",
    "    check_na = int(sample.isnull().sum().sum())\n",
    "    \n",
    "    print('There are {} NA values in the dataframe'.format(check_na))\n",
    "    \n",
    "    #plt.figure(figsize=(3,3))\n",
    "    \n",
    "    #sns.violinplot(data=sample)\n",
    "    \n",
    "    #plt.xticks(rotation=90)\n",
    "        \n",
    "    return sample"
   ]
  },
  {
   "cell_type": "code",
   "execution_count": 18,
   "id": "e5ac0169",
   "metadata": {},
   "outputs": [
    {
     "name": "stdout",
     "output_type": "stream",
     "text": [
      "There are 0 NA values in the dataframe\n"
     ]
    }
   ],
   "source": [
    "train_data = pre_process(tra_data)\n"
   ]
  },
  {
   "cell_type": "code",
   "execution_count": 19,
   "id": "234a624c",
   "metadata": {},
   "outputs": [
    {
     "name": "stdout",
     "output_type": "stream",
     "text": [
      "There are 0 NA values in the dataframe\n"
     ]
    }
   ],
   "source": [
    "vali_data = pre_process(val_data)\n"
   ]
  },
  {
   "cell_type": "code",
   "execution_count": 20,
   "id": "2fbeb1a2",
   "metadata": {},
   "outputs": [
    {
     "name": "stdout",
     "output_type": "stream",
     "text": [
      "There are 0 NA values in the dataframe\n"
     ]
    }
   ],
   "source": [
    "test_data = pre_process(tes_data)"
   ]
  },
  {
   "cell_type": "code",
   "execution_count": 21,
   "id": "66e9eeb9",
   "metadata": {},
   "outputs": [
    {
     "data": {
      "text/plain": [
       " Load(KW)              0\n",
       "Temp (°C)              0\n",
       "Dew Point Temp (°C)    0\n",
       "Rel Hum (%)            0\n",
       "Wind Dir (10s deg)     0\n",
       "Wind Spd (km/h)        0\n",
       "Visibility (km)        0\n",
       "Stn Press (kPa)        0\n",
       "dtype: int64"
      ]
     },
     "execution_count": 21,
     "metadata": {},
     "output_type": "execute_result"
    }
   ],
   "source": [
    "tes_data.fillna(method='ffill').isnull().sum()"
   ]
  },
  {
   "cell_type": "markdown",
   "id": "0a53925d",
   "metadata": {},
   "source": [
    "# Rolling window function "
   ]
  },
  {
   "cell_type": "code",
   "execution_count": 23,
   "id": "bfa201b2",
   "metadata": {},
   "outputs": [],
   "source": [
    "def rolling_window(array_data,input_size,output_size,offset):\n",
    "    '''\n",
    "    The function takes a series array_data of size (size,) \n",
    "\n",
    "    and generates\n",
    "    \n",
    "    a array of size (input_size,((array_size-(input_size+output_size)/stride)+1)) as inputs \n",
    "    \n",
    "    and array of size (array_size-(input_size+output_size)/stride)+1)as output \n",
    "    \n",
    "    '''\n",
    "        \n",
    "    # Normalizing the dataset\n",
    "        \n",
    "    scaler = StandardScaler()\n",
    "    \n",
    "    scaler = scaler.fit(array_data)\n",
    "    \n",
    "    array_data = scaler.transform(array_data)\n",
    "    \n",
    "#     lab_data = array_data[:,0]\n",
    "    \n",
    "#     for i in range(input_size,len(array_data)-output_size+1,offset):\n",
    "            \n",
    "#             data.append(array_data[i-input_size:i,0:array_data.shape[1]])\n",
    "    \n",
    "#             labels.append(lab_data[i:i+output_size])\n",
    "\n",
    "        \n",
    "    data_idx = sliding_window_view(np.arange(array_data.shape[0]).reshape(-1),window_shape=input_size)[::offset][:-1]\n",
    "    \n",
    "    data = array_data[data_idx]\n",
    "\n",
    "    labels = sliding_window_view(array_data[input_size:,0].reshape(-1),window_shape=output_size)[::offset]\n",
    "\n",
    "    \n",
    "    assert data.shape[0] == labels.shape[0],\"Training rows and labels are unequal\"    \n",
    "    \n",
    "#    if output_size == offset:\n",
    "        \n",
    "#        ra_in = random.randint(0,data.shape[0]-2) \n",
    "        \n",
    "#        a = data[ra_in+1,-offset:]\n",
    "        \n",
    "#        b = labels[ra_in]\n",
    "        \n",
    "#        np.alltrue(a == b)\n",
    "    \n",
    "#    data = np.expand_dims(data,axis=2)\n",
    "    \n",
    "#    labels = np.expand_dims(labels,axis=2)\n",
    "    \n",
    "#    data = np.array(data)\n",
    "    \n",
    "#    labels = np.array(labels)\n",
    "        \n",
    "    return data,labels,scaler,array_data"
   ]
  },
  {
   "cell_type": "markdown",
   "id": "92814007",
   "metadata": {},
   "source": [
    "# We will use the rolling window of size 168 and output window of size 24"
   ]
  },
  {
   "cell_type": "code",
   "execution_count": 25,
   "id": "7d0388c9",
   "metadata": {},
   "outputs": [],
   "source": [
    "tra_data_sli,tra_lab,tra_sca,tra_stan = rolling_window(train_data,input_size=TRAIN_STEPS,output_size=24,offset=24)\n",
    "val_data_sli,val_lab,val_sca,val_stan = rolling_window(vali_data,input_size=TRAIN_STEPS,output_size=24,offset=24)\n",
    "tes_data_sli,tes_lab,test_scaler,tes_stan = rolling_window(test_data,input_size=TRAIN_STEPS,output_size=24,offset=24)"
   ]
  },
  {
   "cell_type": "code",
   "execution_count": 28,
   "id": "744e66d0",
   "metadata": {},
   "outputs": [],
   "source": [
    "np.save('tra_data_sli',tra_data_sli)\n",
    "np.save('val_data_sli',val_data_sli)\n",
    "np.save('tes_data_sli',tes_data_sli)\n",
    "np.save('tra_lab',tra_lab)\n",
    "np.save('val_lab',val_lab)\n",
    "np.save('tes_lab',tes_lab)"
   ]
  },
  {
   "cell_type": "markdown",
   "id": "ba03cfa6",
   "metadata": {},
   "source": [
    "# We will now focus on network architecture Implementation"
   ]
  },
  {
   "cell_type": "code",
   "execution_count": 29,
   "id": "a0832752",
   "metadata": {},
   "outputs": [
    {
     "name": "stdout",
     "output_type": "stream",
     "text": [
      "Number of training samples are 1156\n",
      "Number of validation samples are 225\n",
      "Number of test samples are 149\n"
     ]
    }
   ],
   "source": [
    "print(\"Number of training samples are {}\".format(tra_data_sli.shape[0]))\n",
    "print(\"Number of validation samples are {}\".format(val_data_sli.shape[0]))\n",
    "print(\"Number of test samples are {}\".format(tes_data_sli.shape[0]))"
   ]
  },
  {
   "cell_type": "code",
   "execution_count": 30,
   "id": "3e776a50",
   "metadata": {},
   "outputs": [
    {
     "data": {
      "text/plain": [
       "(1156, 24)"
      ]
     },
     "execution_count": 30,
     "metadata": {},
     "output_type": "execute_result"
    }
   ],
   "source": [
    "tra_lab.shape"
   ]
  },
  {
   "cell_type": "code",
   "execution_count": 31,
   "id": "9454561c",
   "metadata": {},
   "outputs": [
    {
     "data": {
      "text/plain": [
       "(1156, 168, 8)"
      ]
     },
     "execution_count": 31,
     "metadata": {},
     "output_type": "execute_result"
    }
   ],
   "source": [
    "tra_data_sli.shape"
   ]
  },
  {
   "cell_type": "code",
   "execution_count": 32,
   "id": "c95d33bd",
   "metadata": {},
   "outputs": [],
   "source": [
    "model = tf.keras.models.Sequential([\n",
    "    tf.keras.layers.Bidirectional(tf.keras.layers.GRU(128,return_sequences=True,input_shape=(tra_data_sli.shape[1],tra_data_sli.shape[2]))),\n",
    "    tf.keras.layers.Bidirectional(tf.keras.layers.GRU(128,return_sequences=True)),\n",
    "    tf.keras.layers.Bidirectional(tf.keras.layers.GRU(128,return_sequences=False)),\n",
    "    tf.keras.layers.Dense(units=128,activation='relu'),\n",
    "    tf.keras.layers.Dense(units=24)\n",
    "]\n",
    ")\n"
   ]
  },
  {
   "cell_type": "code",
   "execution_count": null,
   "id": "94b5fea8",
   "metadata": {},
   "outputs": [],
   "source": []
  },
  {
   "cell_type": "code",
   "execution_count": 33,
   "id": "e0f15dd8",
   "metadata": {},
   "outputs": [],
   "source": [
    "#lr_schedule = tf.keras.optimizers.schedules.ExponentialDecay(\n",
    "#    0.1,\n",
    "#    decay_steps=1000,\n",
    "#    decay_rate=0.5)\n",
    "\n",
    "adam = tf.keras.optimizers.Adam(learning_rate=0.0001, beta_1=0.9, beta_2=0.999, amsgrad=False)\n",
    "\n",
    "ear_stop = tf.keras.callbacks.EarlyStopping(\n",
    "            monitor=\"val_loss\",mode='min',min_delta=5e-4,patience=20,verbose=1\n",
    ")\n",
    "\n",
    "model_chk = tf.keras.callbacks.ModelCheckpoint(\n",
    "            'best_model_BIGRU_MultiVariate_Std_Scaler.h5',monitor=\"val_loss\",mode='min',verbose=1,save_best_only=True\n",
    ")\n"
   ]
  },
  {
   "cell_type": "code",
   "execution_count": 34,
   "id": "8a68676e",
   "metadata": {},
   "outputs": [],
   "source": [
    "model.compile(optimizer=adam,loss=tf.keras.losses.Huber(),metrics=[\"mean_squared_error\"])"
   ]
  },
  {
   "cell_type": "code",
   "execution_count": 35,
   "id": "558134de",
   "metadata": {},
   "outputs": [
    {
     "name": "stdout",
     "output_type": "stream",
     "text": [
      "Epoch 1/100\n",
      "10/10 [==============================] - ETA: 0s - loss: 0.4227 - mean_squared_error: 0.9666\n",
      "Epoch 1: val_loss improved from inf to 0.38191, saving model to best_model_BIGRU_MultiVariate_Std_Scaler.h5\n",
      "10/10 [==============================] - 40s 3s/step - loss: 0.4227 - mean_squared_error: 0.9666 - val_loss: 0.3819 - val_mean_squared_error: 0.8551\n",
      "Epoch 2/100\n",
      "10/10 [==============================] - ETA: 0s - loss: 0.3749 - mean_squared_error: 0.8414\n",
      "Epoch 2: val_loss improved from 0.38191 to 0.33338, saving model to best_model_BIGRU_MultiVariate_Std_Scaler.h5\n",
      "10/10 [==============================] - 25s 2s/step - loss: 0.3749 - mean_squared_error: 0.8414 - val_loss: 0.3334 - val_mean_squared_error: 0.7328\n",
      "Epoch 3/100\n",
      "10/10 [==============================] - ETA: 0s - loss: 0.3202 - mean_squared_error: 0.7055\n",
      "Epoch 3: val_loss improved from 0.33338 to 0.27560, saving model to best_model_BIGRU_MultiVariate_Std_Scaler.h5\n",
      "10/10 [==============================] - 29s 3s/step - loss: 0.3202 - mean_squared_error: 0.7055 - val_loss: 0.2756 - val_mean_squared_error: 0.5942\n",
      "Epoch 4/100\n",
      "10/10 [==============================] - ETA: 0s - loss: 0.2603 - mean_squared_error: 0.5644\n",
      "Epoch 4: val_loss improved from 0.27560 to 0.22322, saving model to best_model_BIGRU_MultiVariate_Std_Scaler.h5\n",
      "10/10 [==============================] - 32s 3s/step - loss: 0.2603 - mean_squared_error: 0.5644 - val_loss: 0.2232 - val_mean_squared_error: 0.4721\n",
      "Epoch 5/100\n",
      "10/10 [==============================] - ETA: 0s - loss: 0.2127 - mean_squared_error: 0.4559\n",
      "Epoch 5: val_loss improved from 0.22322 to 0.19389, saving model to best_model_BIGRU_MultiVariate_Std_Scaler.h5\n",
      "10/10 [==============================] - 33s 3s/step - loss: 0.2127 - mean_squared_error: 0.4559 - val_loss: 0.1939 - val_mean_squared_error: 0.4034\n",
      "Epoch 6/100\n",
      "10/10 [==============================] - ETA: 0s - loss: 0.1798 - mean_squared_error: 0.3783\n",
      "Epoch 6: val_loss improved from 0.19389 to 0.17871, saving model to best_model_BIGRU_MultiVariate_Std_Scaler.h5\n",
      "10/10 [==============================] - 33s 3s/step - loss: 0.1798 - mean_squared_error: 0.3783 - val_loss: 0.1787 - val_mean_squared_error: 0.3687\n",
      "Epoch 7/100\n",
      "10/10 [==============================] - ETA: 0s - loss: 0.1580 - mean_squared_error: 0.3286\n",
      "Epoch 7: val_loss improved from 0.17871 to 0.16181, saving model to best_model_BIGRU_MultiVariate_Std_Scaler.h5\n",
      "10/10 [==============================] - 33s 3s/step - loss: 0.1580 - mean_squared_error: 0.3286 - val_loss: 0.1618 - val_mean_squared_error: 0.3322\n",
      "Epoch 8/100\n",
      "10/10 [==============================] - ETA: 0s - loss: 0.1431 - mean_squared_error: 0.2968\n",
      "Epoch 8: val_loss improved from 0.16181 to 0.15050, saving model to best_model_BIGRU_MultiVariate_Std_Scaler.h5\n",
      "10/10 [==============================] - 33s 3s/step - loss: 0.1431 - mean_squared_error: 0.2968 - val_loss: 0.1505 - val_mean_squared_error: 0.3085\n",
      "Epoch 9/100\n",
      "10/10 [==============================] - ETA: 0s - loss: 0.1325 - mean_squared_error: 0.2745\n",
      "Epoch 9: val_loss improved from 0.15050 to 0.14519, saving model to best_model_BIGRU_MultiVariate_Std_Scaler.h5\n",
      "10/10 [==============================] - 35s 3s/step - loss: 0.1325 - mean_squared_error: 0.2745 - val_loss: 0.1452 - val_mean_squared_error: 0.2972\n",
      "Epoch 10/100\n",
      "10/10 [==============================] - ETA: 0s - loss: 0.1253 - mean_squared_error: 0.2592\n",
      "Epoch 10: val_loss improved from 0.14519 to 0.14167, saving model to best_model_BIGRU_MultiVariate_Std_Scaler.h5\n",
      "10/10 [==============================] - 33s 3s/step - loss: 0.1253 - mean_squared_error: 0.2592 - val_loss: 0.1417 - val_mean_squared_error: 0.2898\n",
      "Epoch 11/100\n",
      "10/10 [==============================] - ETA: 0s - loss: 0.1194 - mean_squared_error: 0.2465\n",
      "Epoch 11: val_loss improved from 0.14167 to 0.13735, saving model to best_model_BIGRU_MultiVariate_Std_Scaler.h5\n",
      "10/10 [==============================] - 32s 3s/step - loss: 0.1194 - mean_squared_error: 0.2465 - val_loss: 0.1373 - val_mean_squared_error: 0.2809\n",
      "Epoch 12/100\n",
      "10/10 [==============================] - ETA: 0s - loss: 0.1140 - mean_squared_error: 0.2346\n",
      "Epoch 12: val_loss improved from 0.13735 to 0.13479, saving model to best_model_BIGRU_MultiVariate_Std_Scaler.h5\n",
      "10/10 [==============================] - 33s 3s/step - loss: 0.1140 - mean_squared_error: 0.2346 - val_loss: 0.1348 - val_mean_squared_error: 0.2757\n",
      "Epoch 13/100\n",
      "10/10 [==============================] - ETA: 0s - loss: 0.1092 - mean_squared_error: 0.2240\n",
      "Epoch 13: val_loss improved from 0.13479 to 0.13137, saving model to best_model_BIGRU_MultiVariate_Std_Scaler.h5\n",
      "10/10 [==============================] - 33s 3s/step - loss: 0.1092 - mean_squared_error: 0.2240 - val_loss: 0.1314 - val_mean_squared_error: 0.2689\n",
      "Epoch 14/100\n",
      "10/10 [==============================] - ETA: 0s - loss: 0.1046 - mean_squared_error: 0.2147\n",
      "Epoch 14: val_loss improved from 0.13137 to 0.12412, saving model to best_model_BIGRU_MultiVariate_Std_Scaler.h5\n",
      "10/10 [==============================] - 33s 3s/step - loss: 0.1046 - mean_squared_error: 0.2147 - val_loss: 0.1241 - val_mean_squared_error: 0.2530\n",
      "Epoch 15/100\n",
      "10/10 [==============================] - ETA: 0s - loss: 0.0994 - mean_squared_error: 0.2039\n",
      "Epoch 15: val_loss improved from 0.12412 to 0.11987, saving model to best_model_BIGRU_MultiVariate_Std_Scaler.h5\n",
      "10/10 [==============================] - 33s 3s/step - loss: 0.0994 - mean_squared_error: 0.2039 - val_loss: 0.1199 - val_mean_squared_error: 0.2439\n",
      "Epoch 16/100\n",
      "10/10 [==============================] - ETA: 0s - loss: 0.0944 - mean_squared_error: 0.1936\n",
      "Epoch 16: val_loss improved from 0.11987 to 0.11319, saving model to best_model_BIGRU_MultiVariate_Std_Scaler.h5\n",
      "10/10 [==============================] - 34s 3s/step - loss: 0.0944 - mean_squared_error: 0.1936 - val_loss: 0.1132 - val_mean_squared_error: 0.2299\n",
      "Epoch 17/100\n",
      "10/10 [==============================] - ETA: 0s - loss: 0.0902 - mean_squared_error: 0.1850\n",
      "Epoch 17: val_loss improved from 0.11319 to 0.10700, saving model to best_model_BIGRU_MultiVariate_Std_Scaler.h5\n",
      "10/10 [==============================] - 34s 3s/step - loss: 0.0902 - mean_squared_error: 0.1850 - val_loss: 0.1070 - val_mean_squared_error: 0.2170\n",
      "Epoch 18/100\n",
      "10/10 [==============================] - ETA: 0s - loss: 0.0854 - mean_squared_error: 0.1751\n",
      "Epoch 18: val_loss improved from 0.10700 to 0.10297, saving model to best_model_BIGRU_MultiVariate_Std_Scaler.h5\n",
      "10/10 [==============================] - 35s 3s/step - loss: 0.0854 - mean_squared_error: 0.1751 - val_loss: 0.1030 - val_mean_squared_error: 0.2087\n",
      "Epoch 19/100\n",
      "10/10 [==============================] - ETA: 0s - loss: 0.0817 - mean_squared_error: 0.1673\n",
      "Epoch 19: val_loss improved from 0.10297 to 0.09663, saving model to best_model_BIGRU_MultiVariate_Std_Scaler.h5\n",
      "10/10 [==============================] - 34s 3s/step - loss: 0.0817 - mean_squared_error: 0.1673 - val_loss: 0.0966 - val_mean_squared_error: 0.1958\n",
      "Epoch 20/100\n",
      "10/10 [==============================] - ETA: 0s - loss: 0.0795 - mean_squared_error: 0.1630\n",
      "Epoch 20: val_loss improved from 0.09663 to 0.09225, saving model to best_model_BIGRU_MultiVariate_Std_Scaler.h5\n",
      "10/10 [==============================] - 34s 3s/step - loss: 0.0795 - mean_squared_error: 0.1630 - val_loss: 0.0923 - val_mean_squared_error: 0.1868\n",
      "Epoch 21/100\n",
      "10/10 [==============================] - ETA: 0s - loss: 0.0778 - mean_squared_error: 0.1597\n",
      "Epoch 21: val_loss did not improve from 0.09225\n",
      "10/10 [==============================] - 34s 3s/step - loss: 0.0778 - mean_squared_error: 0.1597 - val_loss: 0.0924 - val_mean_squared_error: 0.1872\n",
      "Epoch 22/100\n",
      "10/10 [==============================] - ETA: 0s - loss: 0.0744 - mean_squared_error: 0.1524\n",
      "Epoch 22: val_loss improved from 0.09225 to 0.08917, saving model to best_model_BIGRU_MultiVariate_Std_Scaler.h5\n",
      "10/10 [==============================] - 35s 3s/step - loss: 0.0744 - mean_squared_error: 0.1524 - val_loss: 0.0892 - val_mean_squared_error: 0.1802\n",
      "Epoch 23/100\n",
      "10/10 [==============================] - ETA: 0s - loss: 0.0729 - mean_squared_error: 0.1494\n",
      "Epoch 23: val_loss did not improve from 0.08917\n",
      "10/10 [==============================] - 34s 3s/step - loss: 0.0729 - mean_squared_error: 0.1494 - val_loss: 0.0892 - val_mean_squared_error: 0.1805\n"
     ]
    },
    {
     "name": "stdout",
     "output_type": "stream",
     "text": [
      "Epoch 24/100\n",
      "10/10 [==============================] - ETA: 0s - loss: 0.0716 - mean_squared_error: 0.1468\n",
      "Epoch 24: val_loss improved from 0.08917 to 0.08888, saving model to best_model_BIGRU_MultiVariate_Std_Scaler.h5\n",
      "10/10 [==============================] - 35s 3s/step - loss: 0.0716 - mean_squared_error: 0.1468 - val_loss: 0.0889 - val_mean_squared_error: 0.1799\n",
      "Epoch 25/100\n",
      "10/10 [==============================] - ETA: 0s - loss: 0.0699 - mean_squared_error: 0.1433\n",
      "Epoch 25: val_loss improved from 0.08888 to 0.08660, saving model to best_model_BIGRU_MultiVariate_Std_Scaler.h5\n",
      "10/10 [==============================] - 34s 3s/step - loss: 0.0699 - mean_squared_error: 0.1433 - val_loss: 0.0866 - val_mean_squared_error: 0.1751\n",
      "Epoch 26/100\n",
      "10/10 [==============================] - ETA: 0s - loss: 0.0689 - mean_squared_error: 0.1411\n",
      "Epoch 26: val_loss improved from 0.08660 to 0.08474, saving model to best_model_BIGRU_MultiVariate_Std_Scaler.h5\n",
      "10/10 [==============================] - 35s 3s/step - loss: 0.0689 - mean_squared_error: 0.1411 - val_loss: 0.0847 - val_mean_squared_error: 0.1713\n",
      "Epoch 27/100\n",
      "10/10 [==============================] - ETA: 0s - loss: 0.0677 - mean_squared_error: 0.1385\n",
      "Epoch 27: val_loss did not improve from 0.08474\n",
      "10/10 [==============================] - 34s 3s/step - loss: 0.0677 - mean_squared_error: 0.1385 - val_loss: 0.0856 - val_mean_squared_error: 0.1732\n",
      "Epoch 28/100\n",
      "10/10 [==============================] - ETA: 0s - loss: 0.0667 - mean_squared_error: 0.1365\n",
      "Epoch 28: val_loss improved from 0.08474 to 0.08461, saving model to best_model_BIGRU_MultiVariate_Std_Scaler.h5\n",
      "10/10 [==============================] - 35s 4s/step - loss: 0.0667 - mean_squared_error: 0.1365 - val_loss: 0.0846 - val_mean_squared_error: 0.1712\n",
      "Epoch 29/100\n",
      "10/10 [==============================] - ETA: 0s - loss: 0.0661 - mean_squared_error: 0.1353\n",
      "Epoch 29: val_loss did not improve from 0.08461\n",
      "10/10 [==============================] - 36s 4s/step - loss: 0.0661 - mean_squared_error: 0.1353 - val_loss: 0.0853 - val_mean_squared_error: 0.1727\n",
      "Epoch 30/100\n",
      "10/10 [==============================] - ETA: 0s - loss: 0.0649 - mean_squared_error: 0.1329\n",
      "Epoch 30: val_loss improved from 0.08461 to 0.08111, saving model to best_model_BIGRU_MultiVariate_Std_Scaler.h5\n",
      "10/10 [==============================] - 36s 4s/step - loss: 0.0649 - mean_squared_error: 0.1329 - val_loss: 0.0811 - val_mean_squared_error: 0.1639\n",
      "Epoch 31/100\n",
      "10/10 [==============================] - ETA: 0s - loss: 0.0644 - mean_squared_error: 0.1319\n",
      "Epoch 31: val_loss did not improve from 0.08111\n",
      "10/10 [==============================] - 36s 4s/step - loss: 0.0644 - mean_squared_error: 0.1319 - val_loss: 0.0829 - val_mean_squared_error: 0.1677\n",
      "Epoch 32/100\n",
      "10/10 [==============================] - ETA: 0s - loss: 0.0656 - mean_squared_error: 0.1343\n",
      "Epoch 32: val_loss improved from 0.08111 to 0.07941, saving model to best_model_BIGRU_MultiVariate_Std_Scaler.h5\n",
      "10/10 [==============================] - 36s 4s/step - loss: 0.0656 - mean_squared_error: 0.1343 - val_loss: 0.0794 - val_mean_squared_error: 0.1605\n",
      "Epoch 33/100\n",
      "10/10 [==============================] - ETA: 0s - loss: 0.0631 - mean_squared_error: 0.1293\n",
      "Epoch 33: val_loss did not improve from 0.07941\n",
      "10/10 [==============================] - 36s 4s/step - loss: 0.0631 - mean_squared_error: 0.1293 - val_loss: 0.0807 - val_mean_squared_error: 0.1631\n",
      "Epoch 34/100\n",
      "10/10 [==============================] - ETA: 0s - loss: 0.0622 - mean_squared_error: 0.1275\n",
      "Epoch 34: val_loss did not improve from 0.07941\n",
      "10/10 [==============================] - 36s 4s/step - loss: 0.0622 - mean_squared_error: 0.1275 - val_loss: 0.0822 - val_mean_squared_error: 0.1663\n",
      "Epoch 35/100\n",
      "10/10 [==============================] - ETA: 0s - loss: 0.0617 - mean_squared_error: 0.1264\n",
      "Epoch 35: val_loss did not improve from 0.07941\n",
      "10/10 [==============================] - 36s 4s/step - loss: 0.0617 - mean_squared_error: 0.1264 - val_loss: 0.0799 - val_mean_squared_error: 0.1612\n",
      "Epoch 36/100\n",
      "10/10 [==============================] - ETA: 0s - loss: 0.0628 - mean_squared_error: 0.1285\n",
      "Epoch 36: val_loss improved from 0.07941 to 0.07937, saving model to best_model_BIGRU_MultiVariate_Std_Scaler.h5\n",
      "10/10 [==============================] - 36s 4s/step - loss: 0.0628 - mean_squared_error: 0.1285 - val_loss: 0.0794 - val_mean_squared_error: 0.1601\n",
      "Epoch 37/100\n",
      "10/10 [==============================] - ETA: 0s - loss: 0.0610 - mean_squared_error: 0.1249\n",
      "Epoch 37: val_loss did not improve from 0.07937\n",
      "10/10 [==============================] - 39s 4s/step - loss: 0.0610 - mean_squared_error: 0.1249 - val_loss: 0.0811 - val_mean_squared_error: 0.1638\n",
      "Epoch 38/100\n",
      "10/10 [==============================] - ETA: 0s - loss: 0.0608 - mean_squared_error: 0.1245\n",
      "Epoch 38: val_loss did not improve from 0.07937\n",
      "10/10 [==============================] - 36s 4s/step - loss: 0.0608 - mean_squared_error: 0.1245 - val_loss: 0.0800 - val_mean_squared_error: 0.1619\n",
      "Epoch 39/100\n",
      "10/10 [==============================] - ETA: 0s - loss: 0.0602 - mean_squared_error: 0.1234\n",
      "Epoch 39: val_loss improved from 0.07937 to 0.07837, saving model to best_model_BIGRU_MultiVariate_Std_Scaler.h5\n",
      "10/10 [==============================] - 36s 4s/step - loss: 0.0602 - mean_squared_error: 0.1234 - val_loss: 0.0784 - val_mean_squared_error: 0.1585\n",
      "Epoch 40/100\n",
      "10/10 [==============================] - ETA: 0s - loss: 0.0595 - mean_squared_error: 0.1218\n",
      "Epoch 40: val_loss did not improve from 0.07837\n",
      "10/10 [==============================] - 35s 3s/step - loss: 0.0595 - mean_squared_error: 0.1218 - val_loss: 0.0784 - val_mean_squared_error: 0.1586\n",
      "Epoch 41/100\n",
      "10/10 [==============================] - ETA: 0s - loss: 0.0590 - mean_squared_error: 0.1207\n",
      "Epoch 41: val_loss did not improve from 0.07837\n",
      "10/10 [==============================] - 36s 4s/step - loss: 0.0590 - mean_squared_error: 0.1207 - val_loss: 0.0786 - val_mean_squared_error: 0.1590\n",
      "Epoch 42/100\n",
      "10/10 [==============================] - ETA: 0s - loss: 0.0590 - mean_squared_error: 0.1209\n",
      "Epoch 42: val_loss did not improve from 0.07837\n",
      "10/10 [==============================] - 36s 4s/step - loss: 0.0590 - mean_squared_error: 0.1209 - val_loss: 0.0785 - val_mean_squared_error: 0.1585\n",
      "Epoch 43/100\n",
      "10/10 [==============================] - ETA: 0s - loss: 0.0586 - mean_squared_error: 0.1200\n",
      "Epoch 43: val_loss did not improve from 0.07837\n",
      "10/10 [==============================] - 36s 4s/step - loss: 0.0586 - mean_squared_error: 0.1200 - val_loss: 0.0790 - val_mean_squared_error: 0.1595\n",
      "Epoch 44/100\n",
      "10/10 [==============================] - ETA: 0s - loss: 0.0583 - mean_squared_error: 0.1193\n",
      "Epoch 44: val_loss improved from 0.07837 to 0.07691, saving model to best_model_BIGRU_MultiVariate_Std_Scaler.h5\n",
      "10/10 [==============================] - 36s 4s/step - loss: 0.0583 - mean_squared_error: 0.1193 - val_loss: 0.0769 - val_mean_squared_error: 0.1553\n",
      "Epoch 45/100\n",
      "10/10 [==============================] - ETA: 0s - loss: 0.0640 - mean_squared_error: 0.1314\n",
      "Epoch 45: val_loss improved from 0.07691 to 0.07680, saving model to best_model_BIGRU_MultiVariate_Std_Scaler.h5\n",
      "10/10 [==============================] - 36s 4s/step - loss: 0.0640 - mean_squared_error: 0.1314 - val_loss: 0.0768 - val_mean_squared_error: 0.1548\n",
      "Epoch 46/100\n",
      "10/10 [==============================] - ETA: 0s - loss: 0.0604 - mean_squared_error: 0.1236\n",
      "Epoch 46: val_loss did not improve from 0.07680\n",
      "10/10 [==============================] - 36s 4s/step - loss: 0.0604 - mean_squared_error: 0.1236 - val_loss: 0.0815 - val_mean_squared_error: 0.1646\n",
      "Epoch 47/100\n",
      "10/10 [==============================] - ETA: 0s - loss: 0.0588 - mean_squared_error: 0.1204\n",
      "Epoch 47: val_loss improved from 0.07680 to 0.07674, saving model to best_model_BIGRU_MultiVariate_Std_Scaler.h5\n",
      "10/10 [==============================] - 36s 4s/step - loss: 0.0588 - mean_squared_error: 0.1204 - val_loss: 0.0767 - val_mean_squared_error: 0.1549\n",
      "Epoch 48/100\n",
      "10/10 [==============================] - ETA: 0s - loss: 0.0586 - mean_squared_error: 0.1201\n",
      "Epoch 48: val_loss did not improve from 0.07674\n",
      "10/10 [==============================] - 36s 4s/step - loss: 0.0586 - mean_squared_error: 0.1201 - val_loss: 0.0776 - val_mean_squared_error: 0.1568\n"
     ]
    },
    {
     "name": "stdout",
     "output_type": "stream",
     "text": [
      "Epoch 49/100\n",
      "10/10 [==============================] - ETA: 0s - loss: 0.0577 - mean_squared_error: 0.1182\n",
      "Epoch 49: val_loss did not improve from 0.07674\n",
      "10/10 [==============================] - 35s 3s/step - loss: 0.0577 - mean_squared_error: 0.1182 - val_loss: 0.0800 - val_mean_squared_error: 0.1619\n",
      "Epoch 50/100\n",
      "10/10 [==============================] - ETA: 0s - loss: 0.0576 - mean_squared_error: 0.1179\n",
      "Epoch 50: val_loss improved from 0.07674 to 0.07619, saving model to best_model_BIGRU_MultiVariate_Std_Scaler.h5\n",
      "10/10 [==============================] - 36s 4s/step - loss: 0.0576 - mean_squared_error: 0.1179 - val_loss: 0.0762 - val_mean_squared_error: 0.1539\n",
      "Epoch 51/100\n",
      "10/10 [==============================] - ETA: 0s - loss: 0.0582 - mean_squared_error: 0.1192\n",
      "Epoch 51: val_loss improved from 0.07619 to 0.07588, saving model to best_model_BIGRU_MultiVariate_Std_Scaler.h5\n",
      "10/10 [==============================] - 36s 4s/step - loss: 0.0582 - mean_squared_error: 0.1192 - val_loss: 0.0759 - val_mean_squared_error: 0.1533\n",
      "Epoch 52/100\n",
      "10/10 [==============================] - ETA: 0s - loss: 0.0568 - mean_squared_error: 0.1165\n",
      "Epoch 52: val_loss did not improve from 0.07588\n",
      "10/10 [==============================] - 36s 4s/step - loss: 0.0568 - mean_squared_error: 0.1165 - val_loss: 0.0767 - val_mean_squared_error: 0.1548\n",
      "Epoch 53/100\n",
      "10/10 [==============================] - ETA: 0s - loss: 0.0564 - mean_squared_error: 0.1155\n",
      "Epoch 53: val_loss did not improve from 0.07588\n",
      "10/10 [==============================] - 36s 4s/step - loss: 0.0564 - mean_squared_error: 0.1155 - val_loss: 0.0784 - val_mean_squared_error: 0.1586\n",
      "Epoch 54/100\n",
      "10/10 [==============================] - ETA: 0s - loss: 0.0587 - mean_squared_error: 0.1204\n",
      "Epoch 54: val_loss did not improve from 0.07588\n",
      "10/10 [==============================] - 36s 4s/step - loss: 0.0587 - mean_squared_error: 0.1204 - val_loss: 0.0761 - val_mean_squared_error: 0.1538\n",
      "Epoch 55/100\n",
      "10/10 [==============================] - ETA: 0s - loss: 0.0567 - mean_squared_error: 0.1160\n",
      "Epoch 55: val_loss improved from 0.07588 to 0.07438, saving model to best_model_BIGRU_MultiVariate_Std_Scaler.h5\n",
      "10/10 [==============================] - 36s 4s/step - loss: 0.0567 - mean_squared_error: 0.1160 - val_loss: 0.0744 - val_mean_squared_error: 0.1501\n",
      "Epoch 56/100\n",
      "10/10 [==============================] - ETA: 0s - loss: 0.0555 - mean_squared_error: 0.1137\n",
      "Epoch 56: val_loss did not improve from 0.07438\n",
      "10/10 [==============================] - 35s 3s/step - loss: 0.0555 - mean_squared_error: 0.1137 - val_loss: 0.0772 - val_mean_squared_error: 0.1560\n",
      "Epoch 57/100\n",
      "10/10 [==============================] - ETA: 0s - loss: 0.0558 - mean_squared_error: 0.1144\n",
      "Epoch 57: val_loss did not improve from 0.07438\n",
      "10/10 [==============================] - 36s 4s/step - loss: 0.0558 - mean_squared_error: 0.1144 - val_loss: 0.0777 - val_mean_squared_error: 0.1570\n",
      "Epoch 58/100\n",
      "10/10 [==============================] - ETA: 0s - loss: 0.0556 - mean_squared_error: 0.1140\n",
      "Epoch 58: val_loss did not improve from 0.07438\n",
      "10/10 [==============================] - 36s 4s/step - loss: 0.0556 - mean_squared_error: 0.1140 - val_loss: 0.0754 - val_mean_squared_error: 0.1522\n",
      "Epoch 59/100\n",
      "10/10 [==============================] - ETA: 0s - loss: 0.0548 - mean_squared_error: 0.1123\n",
      "Epoch 59: val_loss did not improve from 0.07438\n",
      "10/10 [==============================] - 36s 4s/step - loss: 0.0548 - mean_squared_error: 0.1123 - val_loss: 0.0783 - val_mean_squared_error: 0.1582\n",
      "Epoch 60/100\n",
      "10/10 [==============================] - ETA: 0s - loss: 0.0546 - mean_squared_error: 0.1117\n",
      "Epoch 60: val_loss did not improve from 0.07438\n",
      "10/10 [==============================] - 36s 4s/step - loss: 0.0546 - mean_squared_error: 0.1117 - val_loss: 0.0777 - val_mean_squared_error: 0.1568\n",
      "Epoch 61/100\n",
      "10/10 [==============================] - ETA: 0s - loss: 0.0548 - mean_squared_error: 0.1123\n",
      "Epoch 61: val_loss did not improve from 0.07438\n",
      "10/10 [==============================] - 36s 4s/step - loss: 0.0548 - mean_squared_error: 0.1123 - val_loss: 0.0783 - val_mean_squared_error: 0.1582\n",
      "Epoch 62/100\n",
      "10/10 [==============================] - ETA: 0s - loss: 0.0546 - mean_squared_error: 0.1119\n",
      "Epoch 62: val_loss did not improve from 0.07438\n",
      "10/10 [==============================] - 36s 4s/step - loss: 0.0546 - mean_squared_error: 0.1119 - val_loss: 0.0760 - val_mean_squared_error: 0.1535\n",
      "Epoch 63/100\n",
      "10/10 [==============================] - ETA: 0s - loss: 0.0547 - mean_squared_error: 0.1121\n",
      "Epoch 63: val_loss did not improve from 0.07438\n",
      "10/10 [==============================] - 37s 4s/step - loss: 0.0547 - mean_squared_error: 0.1121 - val_loss: 0.0751 - val_mean_squared_error: 0.1516\n",
      "Epoch 64/100\n",
      "10/10 [==============================] - ETA: 0s - loss: 0.0546 - mean_squared_error: 0.1118\n",
      "Epoch 64: val_loss did not improve from 0.07438\n",
      "10/10 [==============================] - 36s 4s/step - loss: 0.0546 - mean_squared_error: 0.1118 - val_loss: 0.0759 - val_mean_squared_error: 0.1532\n",
      "Epoch 65/100\n",
      "10/10 [==============================] - ETA: 0s - loss: 0.0552 - mean_squared_error: 0.1131\n",
      "Epoch 65: val_loss did not improve from 0.07438\n",
      "10/10 [==============================] - 36s 4s/step - loss: 0.0552 - mean_squared_error: 0.1131 - val_loss: 0.0756 - val_mean_squared_error: 0.1526\n",
      "Epoch 66/100\n",
      "10/10 [==============================] - ETA: 0s - loss: 0.0577 - mean_squared_error: 0.1180\n",
      "Epoch 66: val_loss did not improve from 0.07438\n",
      "10/10 [==============================] - 36s 4s/step - loss: 0.0577 - mean_squared_error: 0.1180 - val_loss: 0.0780 - val_mean_squared_error: 0.1575\n",
      "Epoch 67/100\n",
      "10/10 [==============================] - ETA: 0s - loss: 0.0559 - mean_squared_error: 0.1145\n",
      "Epoch 67: val_loss did not improve from 0.07438\n",
      "10/10 [==============================] - 35s 3s/step - loss: 0.0559 - mean_squared_error: 0.1145 - val_loss: 0.0752 - val_mean_squared_error: 0.1517\n",
      "Epoch 68/100\n",
      "10/10 [==============================] - ETA: 0s - loss: 0.0540 - mean_squared_error: 0.1105\n",
      "Epoch 68: val_loss did not improve from 0.07438\n",
      "10/10 [==============================] - 35s 4s/step - loss: 0.0540 - mean_squared_error: 0.1105 - val_loss: 0.0753 - val_mean_squared_error: 0.1518\n",
      "Epoch 69/100\n",
      "10/10 [==============================] - ETA: 0s - loss: 0.0536 - mean_squared_error: 0.1097\n",
      "Epoch 69: val_loss did not improve from 0.07438\n",
      "10/10 [==============================] - 35s 4s/step - loss: 0.0536 - mean_squared_error: 0.1097 - val_loss: 0.0755 - val_mean_squared_error: 0.1522\n",
      "Epoch 70/100\n",
      "10/10 [==============================] - ETA: 0s - loss: 0.0538 - mean_squared_error: 0.1101\n",
      "Epoch 70: val_loss did not improve from 0.07438\n",
      "10/10 [==============================] - 36s 4s/step - loss: 0.0538 - mean_squared_error: 0.1101 - val_loss: 0.0756 - val_mean_squared_error: 0.1525\n",
      "Epoch 71/100\n",
      "10/10 [==============================] - ETA: 0s - loss: 0.0558 - mean_squared_error: 0.1144\n",
      "Epoch 71: val_loss did not improve from 0.07438\n",
      "10/10 [==============================] - 36s 4s/step - loss: 0.0558 - mean_squared_error: 0.1144 - val_loss: 0.0748 - val_mean_squared_error: 0.1509\n",
      "Epoch 72/100\n",
      "10/10 [==============================] - ETA: 0s - loss: 0.0542 - mean_squared_error: 0.1109\n",
      "Epoch 72: val_loss did not improve from 0.07438\n",
      "10/10 [==============================] - 36s 4s/step - loss: 0.0542 - mean_squared_error: 0.1109 - val_loss: 0.0751 - val_mean_squared_error: 0.1517\n",
      "Epoch 73/100\n",
      "10/10 [==============================] - ETA: 0s - loss: 0.0536 - mean_squared_error: 0.1098\n",
      "Epoch 73: val_loss did not improve from 0.07438\n",
      "10/10 [==============================] - 36s 4s/step - loss: 0.0536 - mean_squared_error: 0.1098 - val_loss: 0.0756 - val_mean_squared_error: 0.1526\n",
      "Epoch 74/100\n",
      "10/10 [==============================] - ETA: 0s - loss: 0.0539 - mean_squared_error: 0.1106\n",
      "Epoch 74: val_loss did not improve from 0.07438\n",
      "10/10 [==============================] - 36s 4s/step - loss: 0.0539 - mean_squared_error: 0.1106 - val_loss: 0.0756 - val_mean_squared_error: 0.1526\n",
      "Epoch 75/100\n",
      "10/10 [==============================] - ETA: 0s - loss: 0.0550 - mean_squared_error: 0.1127\n",
      "Epoch 75: val_loss did not improve from 0.07438\n"
     ]
    },
    {
     "name": "stdout",
     "output_type": "stream",
     "text": [
      "10/10 [==============================] - 37s 4s/step - loss: 0.0550 - mean_squared_error: 0.1127 - val_loss: 0.0758 - val_mean_squared_error: 0.1529\n",
      "Epoch 75: early stopping\n"
     ]
    }
   ],
   "source": [
    "history = model.fit(x=tra_data_sli,y=tra_lab, epochs=MAX_EPOCH, batch_size=BATCH_SIZE,validation_data=(val_data_sli, val_lab), verbose=1,callbacks=[model_chk,ear_stop])"
   ]
  },
  {
   "cell_type": "code",
   "execution_count": 36,
   "id": "253991b6",
   "metadata": {},
   "outputs": [
    {
     "name": "stdout",
     "output_type": "stream",
     "text": [
      "5/5 [==============================] - 3s 120ms/step\n"
     ]
    }
   ],
   "source": [
    "predict = model.predict(x=tes_data_sli)"
   ]
  },
  {
   "cell_type": "code",
   "execution_count": 40,
   "id": "c8eb2db9",
   "metadata": {},
   "outputs": [
    {
     "name": "stdout",
     "output_type": "stream",
     "text": [
      "Mean Squared Error is: 325290.1455287896\n",
      "Mean Absolute Error is: 425.05618019872065\n"
     ]
    }
   ],
   "source": [
    "prediction = test_scaler.inverse_transform(np.repeat(predict.flatten().reshape(-1,1),8,axis=1))\n",
    "grou_tru = test_scaler.inverse_transform(np.repeat(tes_lab.flatten().reshape(-1,1),8,axis=1))\n",
    "print(\"Mean Squared Error is: \" + str(mean_squared_error(grou_tru[:,0],prediction[:,0])))\n",
    "print(\"Mean Absolute Error is: \" + str(mean_absolute_error(grou_tru[:,0],prediction[:,0])))"
   ]
  },
  {
   "cell_type": "code",
   "execution_count": 41,
   "id": "ba376ba4",
   "metadata": {},
   "outputs": [
    {
     "data": {
      "text/plain": [
       "<matplotlib.legend.Legend at 0x23e855d3d30>"
      ]
     },
     "execution_count": 41,
     "metadata": {},
     "output_type": "execute_result"
    },
    {
     "data": {
      "image/png": "[encoded data removed]",
      "text/plain": [
       "<Figure size 432x288 with 1 Axes>"
      ]
     },
     "metadata": {
      "needs_background": "light"
     },
     "output_type": "display_data"
    }
   ],
   "source": [
    "plt.plot(history.history['val_loss'])\n",
    "plt.plot(history.history['loss'])\n",
    "plt.legend(['val_loss', 'loss'], loc='upper left')\n"
   ]
  },
  {
   "cell_type": "code",
   "execution_count": 45,
   "id": "d7638e41",
   "metadata": {},
   "outputs": [],
   "source": [
    "def plot_compare(pred,label,day):\n",
    "    label=label[:,0].reshape(-1,24)\n",
    "    pred=pred[:,0].reshape(-1,24)\n",
    "    plt.plot(np.arange(24),pred[day],label='Bi-GRU')\n",
    "    plt.plot(np.arange(24),label[day],label='actual')\n",
    "    plt.xlabel('Hour of Day')\n",
    "    plt.ylabel('Load (kW)')\n",
    "    plt.legend()\n",
    "    plt.plot()"
   ]
  },
  {
   "cell_type": "code",
   "execution_count": 46,
   "id": "1c6d6d9a",
   "metadata": {},
   "outputs": [
    {
     "data": {
      "image/png": "[encoded data removed]",
      "text/plain": [
       "<Figure size 432x288 with 1 Axes>"
      ]
     },
     "metadata": {
      "needs_background": "light"
     },
     "output_type": "display_data"
    }
   ],
   "source": [
    "plot_compare(prediction,grou_tru,15)"
   ]
  },
  {
   "cell_type": "code",
   "execution_count": null,
   "id": "4fdbe536",
   "metadata": {},
   "outputs": [],
   "source": []
  },
  {
   "cell_type": "code",
   "execution_count": null,
   "id": "2e1acfe3",
   "metadata": {},
   "outputs": [],
   "source": []
  },
  {
   "cell_type": "code",
   "execution_count": null,
   "id": "c00fce29",
   "metadata": {},
   "outputs": [],
   "source": []
  },
  {
   "cell_type": "code",
   "execution_count": null,
   "id": "c0adcbe4",
   "metadata": {},
   "outputs": [],
   "source": []
  },
  {
   "cell_type": "code",
   "execution_count": null,
   "id": "af21915d",
   "metadata": {},
   "outputs": [],
   "source": []
  },
  {
   "cell_type": "code",
   "execution_count": null,
   "id": "fafab128",
   "metadata": {},
   "outputs": [],
   "source": []
  },
  {
   "cell_type": "code",
   "execution_count": null,
   "id": "89c67ae6",
   "metadata": {},
   "outputs": [],
   "source": []
  },
  {
   "cell_type": "code",
   "execution_count": null,
   "id": "c3a2b63b",
   "metadata": {},
   "outputs": [],
   "source": []
  },
  {
   "cell_type": "code",
   "execution_count": null,
   "id": "bb525216",
   "metadata": {},
   "outputs": [],
   "source": []
  },
  {
   "cell_type": "code",
   "execution_count": null,
   "id": "ae41a9f1",
   "metadata": {},
   "outputs": [],
   "source": []
  },
  {
   "cell_type": "code",
   "execution_count": null,
   "id": "cb22c82e",
   "metadata": {},
   "outputs": [],
   "source": []
  },
  {
   "cell_type": "code",
   "execution_count": null,
   "id": "bec46675",
   "metadata": {},
   "outputs": [],
   "source": []
  },
  {
   "cell_type": "code",
   "execution_count": null,
   "id": "36c8f5ab",
   "metadata": {},
   "outputs": [],
   "source": []
  },
  {
   "cell_type": "code",
   "execution_count": null,
   "id": "962ca98f",
   "metadata": {},
   "outputs": [],
   "source": []
  },
  {
   "cell_type": "code",
   "execution_count": null,
   "id": "d0215342",
   "metadata": {},
   "outputs": [],
   "source": []
  },
  {
   "cell_type": "code",
   "execution_count": null,
   "id": "a2863ec4",
   "metadata": {},
   "outputs": [],
   "source": []
  },
  {
   "cell_type": "code",
   "execution_count": null,
   "id": "c0ab8087",
   "metadata": {},
   "outputs": [],
   "source": []
  },
  {
   "cell_type": "code",
   "execution_count": null,
   "id": "0da7f2ff",
   "metadata": {},
   "outputs": [],
   "source": []
  },
  {
   "cell_type": "code",
   "execution_count": null,
   "id": "26c165d8",
   "metadata": {},
   "outputs": [],
   "source": []
  },
  {
   "cell_type": "code",
   "execution_count": null,
   "id": "337ba0ac",
   "metadata": {},
   "outputs": [],
   "source": []
  },
  {
   "cell_type": "code",
   "execution_count": null,
   "id": "3bb8480f",
   "metadata": {},
   "outputs": [],
   "source": []
  },
  {
   "cell_type": "code",
   "execution_count": null,
   "id": "9efaf170",
   "metadata": {},
   "outputs": [],
   "source": []
  },
  {
   "cell_type": "code",
   "execution_count": null,
   "id": "a2e17a4a",
   "metadata": {},
   "outputs": [],
   "source": []
  },
  {
   "cell_type": "code",
   "execution_count": null,
   "id": "b77f4e03",
   "metadata": {},
   "outputs": [],
   "source": []
  },
  {
   "cell_type": "code",
   "execution_count": null,
   "id": "67d39ab9",
   "metadata": {},
   "outputs": [],
   "source": []
  },
  {
   "cell_type": "code",
   "execution_count": null,
   "id": "8ec8428c",
   "metadata": {},
   "outputs": [],
   "source": []
  },
  {
   "cell_type": "code",
   "execution_count": null,
   "id": "0848e00f",
   "metadata": {},
   "outputs": [],
   "source": []
  },
  {
   "cell_type": "code",
   "execution_count": null,
   "id": "cb880bc8",
   "metadata": {},
   "outputs": [],
   "source": []
  },
  {
   "cell_type": "code",
   "execution_count": null,
   "id": "17889ee4",
   "metadata": {},
   "outputs": [],
   "source": []
  },
  {
   "cell_type": "code",
   "execution_count": null,
   "id": "c76bd6dc",
   "metadata": {},
   "outputs": [],
   "source": []
  },
  {
   "cell_type": "code",
   "execution_count": null,
   "id": "7dc528eb",
   "metadata": {},
   "outputs": [],
   "source": []
  },
  {
   "cell_type": "code",
   "execution_count": null,
   "id": "8b98575c",
   "metadata": {},
   "outputs": [],
   "source": []
  },
  {
   "cell_type": "code",
   "execution_count": null,
   "id": "d00446ce",
   "metadata": {},
   "outputs": [],
   "source": []
  },
  {
   "cell_type": "code",
   "execution_count": null,
   "id": "78ba88e3",
   "metadata": {},
   "outputs": [],
   "source": []
  },
  {
   "cell_type": "code",
   "execution_count": null,
   "id": "9ef69640",
   "metadata": {},
   "outputs": [],
   "source": []
  },
  {
   "cell_type": "code",
   "execution_count": null,
   "id": "a71a81a7",
   "metadata": {},
   "outputs": [],
   "source": []
  }
 ],
 "metadata": {
  "kernelspec": {
   "display_name": "Python 3 (ipykernel)",
   "language": "python",
   "name": "python3"
  },
  "language_info": {
   "codemirror_mode": {
    "name": "ipython",
    "version": 3
   },
   "file_extension": ".py",
   "mimetype": "text/x-python",
   "name": "python",
   "nbconvert_exporter": "python",
   "pygments_lexer": "ipython3",
   "version": "3.9.12"
  }
 },
 "nbformat": 4,
 "nbformat_minor": 5
}
