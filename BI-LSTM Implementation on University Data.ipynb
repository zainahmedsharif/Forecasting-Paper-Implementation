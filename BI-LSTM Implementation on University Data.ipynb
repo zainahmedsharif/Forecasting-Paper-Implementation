{
 "cells": [
  {
   "cell_type": "code",
   "execution_count": 1,
   "id": "1fe17a8b",
   "metadata": {},
   "outputs": [],
   "source": [
    "import pandas as pd\n",
    "import numpy as np\n",
    "import tensorflow as tf \n",
    "from tensorflow import keras\n",
    "import pickle\n",
    "from sklearn.metrics import mean_squared_error\n",
    "from sklearn.metrics import mean_absolute_error\n",
    "import seaborn as sns \n",
    "import matplotlib.pyplot as plt\n",
    "from numpy.lib.stride_tricks import sliding_window_view\n",
    "import datetime as dt\n",
    "import random\n",
    "import os \n",
    "import h5py\n",
    "from sklearn.preprocessing import StandardScaler\n",
    "\n",
    "BATCH_SIZE = 128\n",
    "PATIENCE = 20\n",
    "MAX_EPOCH = 100\n",
    "TRAIN_STEPS = 168\n",
    "PREDICT_STEPS = 24\n",
    "WINDOW_SIZE = TRAIN_STEPS + PREDICT_STEPS \n",
    "\n"
   ]
  },
  {
   "cell_type": "code",
   "execution_count": 2,
   "id": "57e5d269",
   "metadata": {},
   "outputs": [],
   "source": [
    "FILE_DIR = 'C:\\\\Users\\\\Zain Ahmed\\\\Desktop\\\\Literature review\\\\Project Folder\\\\Data.xlsx'\n"
   ]
  },
  {
   "cell_type": "markdown",
   "id": "4cb35c9f",
   "metadata": {},
   "source": [
    "# Loading the data from execl file"
   ]
  },
  {
   "cell_type": "code",
   "execution_count": 3,
   "id": "66d8867c",
   "metadata": {},
   "outputs": [],
   "source": [
    "data = pd.read_excel(FILE_DIR)\n",
    "data['Time']=data['Time'].astype(int)-1\n",
    "data = data.loc[:,('DATE','Time',' Load(KW)   ','Temp (°C)','Dew Point Temp (°C)','Rel Hum (%)','Wind Dir (10s deg)','Wind Spd (km/h)','Visibility (km)','Stn Press (kPa)')]\n",
    "data['datetime'] = data['DATE'].astype('str') + '-' + data['Time'].astype('str')\n",
    "data['datetime']=pd.to_datetime(data['datetime'],format='%Y-%m-%d-%H')\n",
    "#data['is_weekday'] = (data['datetime'].dt.weekday<=5).astype('int')\n",
    "#data['month'] = (data['datetime']).dt.month\n",
    "data = data.set_index('datetime')\n",
    "data = data.drop(columns=['DATE','Time'])\n",
    "#data['datetime']=pd.to_datetime(data['datetime'],format='%Y-%m-%d-%H')\n"
   ]
  },
  {
   "cell_type": "markdown",
   "id": "1354109b",
   "metadata": {},
   "source": [
    "# Keeping DATE,Time and Load Columns Only \n",
    "# Also keeping daily hours between 0-23"
   ]
  },
  {
   "cell_type": "code",
   "execution_count": 4,
   "id": "69ad8fbc",
   "metadata": {},
   "outputs": [],
   "source": [
    "#data = data.loc[:,('DATE','Time',' Load(KW)   ')]\n",
    "#DROPPING WIND CHILL DUE TO HIGH NANs\n",
    "#data = data.loc[:,('DATE','Time',' Load(KW)   ','Temp (°C)','Dew Point Temp (°C)','Rel Hum (%)','Wind Dir (10s deg)','Wind Spd (km/h)','Visibility (km)','Stn Press (kPa)')]"
   ]
  },
  {
   "cell_type": "markdown",
   "id": "764631f9",
   "metadata": {},
   "source": [
    "# Concatenate Date and Time"
   ]
  },
  {
   "cell_type": "code",
   "execution_count": 5,
   "id": "746ef898",
   "metadata": {},
   "outputs": [],
   "source": [
    "#data['datetime'] = data['DATE'].astype('str') + '-' + data['Time'].astype('str')"
   ]
  },
  {
   "cell_type": "code",
   "execution_count": 6,
   "id": "00c8869f",
   "metadata": {},
   "outputs": [],
   "source": [
    "#data['datetime']=pd.to_datetime(data['datetime'],format='%Y-%m-%d-%H')"
   ]
  },
  {
   "cell_type": "code",
   "execution_count": 7,
   "id": "cf857e85",
   "metadata": {},
   "outputs": [],
   "source": [
    "#data = data.set_index('datetime')"
   ]
  },
  {
   "cell_type": "code",
   "execution_count": 8,
   "id": "b4903309",
   "metadata": {},
   "outputs": [],
   "source": [
    "#data = data.drop(columns=['DATE','Time'])"
   ]
  },
  {
   "cell_type": "code",
   "execution_count": 9,
   "id": "97fb057a",
   "metadata": {},
   "outputs": [
    {
     "name": "stdout",
     "output_type": "stream",
     "text": [
      "The number of breaks in the data are 3 which is 0.0081 percent of the total data\n"
     ]
    }
   ],
   "source": [
    "num_of_bre = (data.asfreq(freq='1H').shape[0]) - (data.shape[0])\n",
    "percen = ((num_of_bre)/data.shape[0])*100\n",
    "print('The number of breaks in the data are {} which is {:0.2} percent of the total data'.format(num_of_bre,percen))"
   ]
  },
  {
   "cell_type": "markdown",
   "id": "74f8e982",
   "metadata": {},
   "source": [
    "# We will ensure the continuity of the data"
   ]
  },
  {
   "cell_type": "code",
   "execution_count": 10,
   "id": "cb73c2a3",
   "metadata": {},
   "outputs": [],
   "source": [
    "#num_of_bre = (data.asfreq(freq='1H').shape[0]) - (data.shape[0])\n",
    "#percen = ((num_of_bre)/data.shape[0])*100\n",
    "#print('The number of breaks in the data are {} which is {:0.2} percent of the total data'.format(num_of_bre,percen))"
   ]
  },
  {
   "cell_type": "markdown",
   "id": "5ee6de35",
   "metadata": {},
   "source": [
    "# Make the data continous "
   ]
  },
  {
   "cell_type": "code",
   "execution_count": 11,
   "id": "5b250c55",
   "metadata": {},
   "outputs": [],
   "source": [
    "data = data.asfreq(freq='1H')"
   ]
  },
  {
   "cell_type": "code",
   "execution_count": 12,
   "id": "8667cf5e",
   "metadata": {},
   "outputs": [],
   "source": [
    "#data = data.asfreq(freq='1H')"
   ]
  },
  {
   "cell_type": "code",
   "execution_count": 13,
   "id": "53f60a42",
   "metadata": {},
   "outputs": [
    {
     "data": {
      "text/plain": [
       "<AxesSubplot:xlabel='datetime'>"
      ]
     },
     "execution_count": 13,
     "metadata": {},
     "output_type": "execute_result"
    },
    {
     "data": {
      "image/png": "[encoded data removed]",
      "text/plain": [
       "<Figure size 432x288 with 1 Axes>"
      ]
     },
     "metadata": {
      "needs_background": "light"
     },
     "output_type": "display_data"
    }
   ],
   "source": [
    "data.plot(y=' Load(KW)   ')"
   ]
  },
  {
   "cell_type": "code",
   "execution_count": 14,
   "id": "b8e79530",
   "metadata": {},
   "outputs": [
    {
     "data": {
      "text/plain": [
       "(37224, 8)"
      ]
     },
     "execution_count": 14,
     "metadata": {},
     "output_type": "execute_result"
    }
   ],
   "source": [
    "data.shape"
   ]
  },
  {
   "cell_type": "markdown",
   "id": "5165aaf7",
   "metadata": {},
   "source": [
    "# We will divide our data in train, validation and test sets "
   ]
  },
  {
   "cell_type": "code",
   "execution_count": 15,
   "id": "71ec559c",
   "metadata": {},
   "outputs": [],
   "source": [
    "tr_id = int((data.shape[0]*0.75)/24)*24\n",
    "val_id = int((data.shape[0]*0.90)/24)*24\n",
    "tra_data = data.iloc[:tr_id,:]\n",
    "val_data = data.iloc[tr_id:val_id,:]\n",
    "tes_data = data.iloc[val_id:,:]"
   ]
  },
  {
   "cell_type": "code",
   "execution_count": 16,
   "id": "4be6d4bc",
   "metadata": {},
   "outputs": [
    {
     "data": {
      "text/plain": [
       "27912"
      ]
     },
     "execution_count": 16,
     "metadata": {},
     "output_type": "execute_result"
    }
   ],
   "source": [
    "tr_id"
   ]
  },
  {
   "cell_type": "markdown",
   "id": "9aba52d7",
   "metadata": {},
   "source": [
    "# Now we will write the proprocessing function"
   ]
  },
  {
   "cell_type": "code",
   "execution_count": 17,
   "id": "25a06c94",
   "metadata": {},
   "outputs": [],
   "source": [
    "def pre_process(sample):\n",
    "    '''\n",
    "    Takes a dataframe and \n",
    "            \n",
    "    - replaces NA values by forward filling\n",
    "    \n",
    "    '''\n",
    "    ## Use the below line of code to sample data based on hours \n",
    "    ##sample = sample[(sample.index.dayofweek<5) & ((of_da_fi.index.hour>4) & (of_da_fi.index.hour<19))]\n",
    "    \n",
    "    #using forward filling method to fill the missing data \n",
    "        \n",
    "    sample = sample.fillna(method='ffill')\n",
    "    \n",
    "    ## This line of code checks for NA values \n",
    "    \n",
    "    check_na = int(sample.isnull().sum().sum())\n",
    "    \n",
    "    print('There are {} NA values in the dataframe'.format(check_na))\n",
    "    \n",
    "    #plt.figure(figsize=(3,3))\n",
    "    \n",
    "    #sns.violinplot(data=sample)\n",
    "    \n",
    "    #plt.xticks(rotation=90)\n",
    "        \n",
    "    return sample"
   ]
  },
  {
   "cell_type": "code",
   "execution_count": 18,
   "id": "e5ac0169",
   "metadata": {},
   "outputs": [
    {
     "name": "stdout",
     "output_type": "stream",
     "text": [
      "There are 0 NA values in the dataframe\n"
     ]
    }
   ],
   "source": [
    "train_data = pre_process(tra_data)\n"
   ]
  },
  {
   "cell_type": "code",
   "execution_count": 19,
   "id": "234a624c",
   "metadata": {},
   "outputs": [
    {
     "name": "stdout",
     "output_type": "stream",
     "text": [
      "There are 0 NA values in the dataframe\n"
     ]
    }
   ],
   "source": [
    "vali_data = pre_process(val_data)\n"
   ]
  },
  {
   "cell_type": "code",
   "execution_count": 20,
   "id": "2fbeb1a2",
   "metadata": {},
   "outputs": [
    {
     "name": "stdout",
     "output_type": "stream",
     "text": [
      "There are 0 NA values in the dataframe\n"
     ]
    }
   ],
   "source": [
    "test_data = pre_process(tes_data)"
   ]
  },
  {
   "cell_type": "code",
   "execution_count": 21,
   "id": "66e9eeb9",
   "metadata": {},
   "outputs": [
    {
     "data": {
      "text/plain": [
       " Load(KW)              0\n",
       "Temp (°C)              0\n",
       "Dew Point Temp (°C)    0\n",
       "Rel Hum (%)            0\n",
       "Wind Dir (10s deg)     0\n",
       "Wind Spd (km/h)        0\n",
       "Visibility (km)        0\n",
       "Stn Press (kPa)        0\n",
       "dtype: int64"
      ]
     },
     "execution_count": 21,
     "metadata": {},
     "output_type": "execute_result"
    }
   ],
   "source": [
    "tes_data.fillna(method='ffill').isnull().sum()"
   ]
  },
  {
   "cell_type": "markdown",
   "id": "0a53925d",
   "metadata": {},
   "source": [
    "# Rolling window function "
   ]
  },
  {
   "cell_type": "code",
   "execution_count": 22,
   "id": "bfa201b2",
   "metadata": {},
   "outputs": [],
   "source": [
    "def rolling_window(array_data,input_size,output_size,offset):\n",
    "    '''\n",
    "    The function takes a series array_data of size (size,) \n",
    "\n",
    "    and generates\n",
    "    \n",
    "    a array of size (input_size,((array_size-(input_size+output_size)/stride)+1)) as inputs \n",
    "    \n",
    "    and array of size (array_size-(input_size+output_size)/stride)+1)as output \n",
    "    \n",
    "    '''\n",
    "        \n",
    "    # Normalizing the dataset\n",
    "        \n",
    "    scaler = StandardScaler()\n",
    "    \n",
    "    scaler = scaler.fit(array_data)\n",
    "    \n",
    "    array_data = scaler.transform(array_data)\n",
    "    \n",
    "#     lab_data = array_data[:,0]\n",
    "    \n",
    "#     for i in range(input_size,len(array_data)-output_size+1,offset):\n",
    "            \n",
    "#             data.append(array_data[i-input_size:i,0:array_data.shape[1]])\n",
    "    \n",
    "#             labels.append(lab_data[i:i+output_size])\n",
    "\n",
    "        \n",
    "    data_idx = sliding_window_view(np.arange(array_data.shape[0]).reshape(-1),window_shape=input_size)[::offset][:-1]\n",
    "    \n",
    "    data = array_data[data_idx]\n",
    "\n",
    "    labels = sliding_window_view(array_data[input_size:,0].reshape(-1),window_shape=output_size)[::offset]\n",
    "\n",
    "    \n",
    "    assert data.shape[0] == labels.shape[0],\"Training rows and labels are unequal\"    \n",
    "    \n",
    "#    if output_size == offset:\n",
    "        \n",
    "#        ra_in = random.randint(0,data.shape[0]-2) \n",
    "        \n",
    "#        a = data[ra_in+1,-offset:]\n",
    "        \n",
    "#        b = labels[ra_in]\n",
    "        \n",
    "#        np.alltrue(a == b)\n",
    "    \n",
    "#    data = np.expand_dims(data,axis=2)\n",
    "    \n",
    "#    labels = np.expand_dims(labels,axis=2)\n",
    "    \n",
    "#    data = np.array(data)\n",
    "    \n",
    "#    labels = np.array(labels)\n",
    "        \n",
    "    return data,labels,scaler,array_data"
   ]
  },
  {
   "cell_type": "markdown",
   "id": "92814007",
   "metadata": {},
   "source": [
    "# We will use the rolling window of size 168 and output window of size 24"
   ]
  },
  {
   "cell_type": "code",
   "execution_count": 23,
   "id": "7d0388c9",
   "metadata": {},
   "outputs": [],
   "source": [
    "tra_data_sli,tra_lab,tra_sca,tra_stan = rolling_window(train_data,input_size=TRAIN_STEPS,output_size=24,offset=24)\n",
    "val_data_sli,val_lab,val_sca,val_stan = rolling_window(vali_data,input_size=TRAIN_STEPS,output_size=24,offset=24)\n",
    "tes_data_sli,tes_lab,test_scaler,tes_stan = rolling_window(test_data,input_size=TRAIN_STEPS,output_size=24,offset=24)"
   ]
  },
  {
   "cell_type": "code",
   "execution_count": 24,
   "id": "744e66d0",
   "metadata": {},
   "outputs": [],
   "source": [
    "np.save('tra_data_sli',tra_data_sli)\n",
    "np.save('val_data_sli',val_data_sli)\n",
    "np.save('tes_data_sli',tes_data_sli)\n",
    "np.save('tra_lab',tra_lab)\n",
    "np.save('val_lab',val_lab)\n",
    "np.save('tes_lab',tes_lab)"
   ]
  },
  {
   "cell_type": "markdown",
   "id": "ba03cfa6",
   "metadata": {},
   "source": [
    "# We will now focus on network architecture Implementation"
   ]
  },
  {
   "cell_type": "code",
   "execution_count": 25,
   "id": "a0832752",
   "metadata": {},
   "outputs": [
    {
     "name": "stdout",
     "output_type": "stream",
     "text": [
      "Number of training samples are 1156\n",
      "Number of validation samples are 225\n",
      "Number of test samples are 149\n"
     ]
    }
   ],
   "source": [
    "print(\"Number of training samples are {}\".format(tra_data_sli.shape[0]))\n",
    "print(\"Number of validation samples are {}\".format(val_data_sli.shape[0]))\n",
    "print(\"Number of test samples are {}\".format(tes_data_sli.shape[0]))"
   ]
  },
  {
   "cell_type": "code",
   "execution_count": 26,
   "id": "3e776a50",
   "metadata": {},
   "outputs": [
    {
     "data": {
      "text/plain": [
       "(1156, 24)"
      ]
     },
     "execution_count": 26,
     "metadata": {},
     "output_type": "execute_result"
    }
   ],
   "source": [
    "tra_lab.shape"
   ]
  },
  {
   "cell_type": "code",
   "execution_count": 27,
   "id": "9454561c",
   "metadata": {},
   "outputs": [
    {
     "data": {
      "text/plain": [
       "(1156, 168, 8)"
      ]
     },
     "execution_count": 27,
     "metadata": {},
     "output_type": "execute_result"
    }
   ],
   "source": [
    "tra_data_sli.shape"
   ]
  },
  {
   "cell_type": "code",
   "execution_count": 28,
   "id": "c95d33bd",
   "metadata": {},
   "outputs": [],
   "source": [
    "model = tf.keras.models.Sequential([\n",
    "    tf.keras.layers.Bidirectional(tf.keras.layers.LSTM(128,return_sequences=True,input_shape=(tra_data_sli.shape[1],tra_data_sli.shape[2]))),\n",
    "    tf.keras.layers.Bidirectional(tf.keras.layers.LSTM(128,return_sequences=True)),\n",
    "    tf.keras.layers.Bidirectional(tf.keras.layers.LSTM(128,return_sequences=False)),\n",
    "    tf.keras.layers.Dense(units=128,activation='relu'),\n",
    "    tf.keras.layers.Dense(units=24)\n",
    "]\n",
    ")\n"
   ]
  },
  {
   "cell_type": "code",
   "execution_count": null,
   "id": "94b5fea8",
   "metadata": {},
   "outputs": [],
   "source": []
  },
  {
   "cell_type": "code",
   "execution_count": 29,
   "id": "e0f15dd8",
   "metadata": {},
   "outputs": [],
   "source": [
    "#lr_schedule = tf.keras.optimizers.schedules.ExponentialDecay(\n",
    "#    0.1,\n",
    "#    decay_steps=1000,\n",
    "#    decay_rate=0.5)\n",
    "\n",
    "adam = tf.keras.optimizers.Adam(learning_rate=0.0001, beta_1=0.9, beta_2=0.999, amsgrad=False)\n",
    "\n",
    "ear_stop = tf.keras.callbacks.EarlyStopping(\n",
    "            monitor=\"val_loss\",mode='min',min_delta=5e-4,patience=20,verbose=1\n",
    ")\n",
    "\n",
    "model_chk = tf.keras.callbacks.ModelCheckpoint(\n",
    "            'Bi-LSTM University Data.h5',monitor=\"val_loss\",mode='min',verbose=1,save_best_only=True\n",
    ")\n"
   ]
  },
  {
   "cell_type": "code",
   "execution_count": 30,
   "id": "8a68676e",
   "metadata": {},
   "outputs": [],
   "source": [
    "model.compile(optimizer=adam,loss=tf.keras.losses.Huber(),metrics=[\"mean_squared_error\"])"
   ]
  },
  {
   "cell_type": "code",
   "execution_count": 31,
   "id": "558134de",
   "metadata": {},
   "outputs": [
    {
     "name": "stdout",
     "output_type": "stream",
     "text": [
      "Epoch 1/100\n",
      "10/10 [==============================] - ETA: 0s - loss: 0.4187 - mean_squared_error: 0.9479\n",
      "Epoch 1: val_loss improved from inf to 0.38477, saving model to Bi-LSTM University Data.h5\n",
      "10/10 [==============================] - 51s 4s/step - loss: 0.4187 - mean_squared_error: 0.9479 - val_loss: 0.3848 - val_mean_squared_error: 0.8560\n",
      "Epoch 2/100\n",
      "10/10 [==============================] - ETA: 0s - loss: 0.3704 - mean_squared_error: 0.8199\n",
      "Epoch 2: val_loss improved from 0.38477 to 0.33488, saving model to Bi-LSTM University Data.h5\n",
      "10/10 [==============================] - 37s 4s/step - loss: 0.3704 - mean_squared_error: 0.8199 - val_loss: 0.3349 - val_mean_squared_error: 0.7286\n",
      "Epoch 3/100\n",
      "10/10 [==============================] - ETA: 0s - loss: 0.3017 - mean_squared_error: 0.6496\n",
      "Epoch 3: val_loss improved from 0.33488 to 0.26991, saving model to Bi-LSTM University Data.h5\n",
      "10/10 [==============================] - 53s 5s/step - loss: 0.3017 - mean_squared_error: 0.6496 - val_loss: 0.2699 - val_mean_squared_error: 0.5719\n",
      "Epoch 4/100\n",
      "10/10 [==============================] - ETA: 0s - loss: 0.2267 - mean_squared_error: 0.4762\n",
      "Epoch 4: val_loss improved from 0.26991 to 0.22064, saving model to Bi-LSTM University Data.h5\n",
      "10/10 [==============================] - 59s 6s/step - loss: 0.2267 - mean_squared_error: 0.4762 - val_loss: 0.2206 - val_mean_squared_error: 0.4599\n",
      "Epoch 5/100\n",
      "10/10 [==============================] - ETA: 0s - loss: 0.1825 - mean_squared_error: 0.3810\n",
      "Epoch 5: val_loss improved from 0.22064 to 0.19056, saving model to Bi-LSTM University Data.h5\n",
      "10/10 [==============================] - 71s 7s/step - loss: 0.1825 - mean_squared_error: 0.3810 - val_loss: 0.1906 - val_mean_squared_error: 0.3939\n",
      "Epoch 6/100\n",
      "10/10 [==============================] - ETA: 0s - loss: 0.1589 - mean_squared_error: 0.3305\n",
      "Epoch 6: val_loss improved from 0.19056 to 0.17181, saving model to Bi-LSTM University Data.h5\n",
      "10/10 [==============================] - 85s 8s/step - loss: 0.1589 - mean_squared_error: 0.3305 - val_loss: 0.1718 - val_mean_squared_error: 0.3530\n",
      "Epoch 7/100\n",
      "10/10 [==============================] - ETA: 0s - loss: 0.1460 - mean_squared_error: 0.3026\n",
      "Epoch 7: val_loss improved from 0.17181 to 0.16380, saving model to Bi-LSTM University Data.h5\n",
      "10/10 [==============================] - 89s 9s/step - loss: 0.1460 - mean_squared_error: 0.3026 - val_loss: 0.1638 - val_mean_squared_error: 0.3362\n",
      "Epoch 8/100\n",
      "10/10 [==============================] - ETA: 0s - loss: 0.1376 - mean_squared_error: 0.2850\n",
      "Epoch 8: val_loss improved from 0.16380 to 0.15245, saving model to Bi-LSTM University Data.h5\n",
      "10/10 [==============================] - 90s 9s/step - loss: 0.1376 - mean_squared_error: 0.2850 - val_loss: 0.1525 - val_mean_squared_error: 0.3119\n",
      "Epoch 9/100\n",
      "10/10 [==============================] - ETA: 0s - loss: 0.1299 - mean_squared_error: 0.2691\n",
      "Epoch 9: val_loss improved from 0.15245 to 0.14468, saving model to Bi-LSTM University Data.h5\n",
      "10/10 [==============================] - 88s 9s/step - loss: 0.1299 - mean_squared_error: 0.2691 - val_loss: 0.1447 - val_mean_squared_error: 0.2953\n",
      "Epoch 10/100\n",
      "10/10 [==============================] - ETA: 0s - loss: 0.1224 - mean_squared_error: 0.2522\n",
      "Epoch 10: val_loss improved from 0.14468 to 0.13944, saving model to Bi-LSTM University Data.h5\n",
      "10/10 [==============================] - 91s 9s/step - loss: 0.1224 - mean_squared_error: 0.2522 - val_loss: 0.1394 - val_mean_squared_error: 0.2843\n",
      "Epoch 11/100\n",
      "10/10 [==============================] - ETA: 0s - loss: 0.1147 - mean_squared_error: 0.2362\n",
      "Epoch 11: val_loss improved from 0.13944 to 0.13092, saving model to Bi-LSTM University Data.h5\n",
      "10/10 [==============================] - 89s 9s/step - loss: 0.1147 - mean_squared_error: 0.2362 - val_loss: 0.1309 - val_mean_squared_error: 0.2660\n",
      "Epoch 12/100\n",
      "10/10 [==============================] - ETA: 0s - loss: 0.1071 - mean_squared_error: 0.2205\n",
      "Epoch 12: val_loss improved from 0.13092 to 0.12610, saving model to Bi-LSTM University Data.h5\n",
      "10/10 [==============================] - 91s 9s/step - loss: 0.1071 - mean_squared_error: 0.2205 - val_loss: 0.1261 - val_mean_squared_error: 0.2562\n",
      "Epoch 13/100\n",
      "10/10 [==============================] - ETA: 0s - loss: 0.1031 - mean_squared_error: 0.2118\n",
      "Epoch 13: val_loss improved from 0.12610 to 0.12075, saving model to Bi-LSTM University Data.h5\n",
      "10/10 [==============================] - 84s 8s/step - loss: 0.1031 - mean_squared_error: 0.2118 - val_loss: 0.1207 - val_mean_squared_error: 0.2450\n",
      "Epoch 14/100\n",
      "10/10 [==============================] - ETA: 0s - loss: 0.0967 - mean_squared_error: 0.1985\n",
      "Epoch 14: val_loss improved from 0.12075 to 0.11688, saving model to Bi-LSTM University Data.h5\n",
      "10/10 [==============================] - 61s 6s/step - loss: 0.0967 - mean_squared_error: 0.1985 - val_loss: 0.1169 - val_mean_squared_error: 0.2371\n",
      "Epoch 15/100\n",
      "10/10 [==============================] - ETA: 0s - loss: 0.0959 - mean_squared_error: 0.1973\n",
      "Epoch 15: val_loss improved from 0.11688 to 0.11346, saving model to Bi-LSTM University Data.h5\n",
      "10/10 [==============================] - 63s 6s/step - loss: 0.0959 - mean_squared_error: 0.1973 - val_loss: 0.1135 - val_mean_squared_error: 0.2302\n",
      "Epoch 16/100\n",
      "10/10 [==============================] - ETA: 0s - loss: 0.0904 - mean_squared_error: 0.1852\n",
      "Epoch 16: val_loss improved from 0.11346 to 0.11003, saving model to Bi-LSTM University Data.h5\n",
      "10/10 [==============================] - 60s 6s/step - loss: 0.0904 - mean_squared_error: 0.1852 - val_loss: 0.1100 - val_mean_squared_error: 0.2228\n",
      "Epoch 17/100\n",
      "10/10 [==============================] - ETA: 0s - loss: 0.0868 - mean_squared_error: 0.1780\n",
      "Epoch 17: val_loss did not improve from 0.11003\n",
      "10/10 [==============================] - 65s 6s/step - loss: 0.0868 - mean_squared_error: 0.1780 - val_loss: 0.1111 - val_mean_squared_error: 0.2256\n",
      "Epoch 18/100\n",
      "10/10 [==============================] - ETA: 0s - loss: 0.0919 - mean_squared_error: 0.1888\n",
      "Epoch 18: val_loss improved from 0.11003 to 0.10771, saving model to Bi-LSTM University Data.h5\n",
      "10/10 [==============================] - 65s 6s/step - loss: 0.0919 - mean_squared_error: 0.1888 - val_loss: 0.1077 - val_mean_squared_error: 0.2183\n",
      "Epoch 19/100\n",
      "10/10 [==============================] - ETA: 0s - loss: 0.0853 - mean_squared_error: 0.1751\n",
      "Epoch 19: val_loss improved from 0.10771 to 0.10427, saving model to Bi-LSTM University Data.h5\n",
      "10/10 [==============================] - 67s 7s/step - loss: 0.0853 - mean_squared_error: 0.1751 - val_loss: 0.1043 - val_mean_squared_error: 0.2113\n",
      "Epoch 20/100\n",
      "10/10 [==============================] - ETA: 0s - loss: 0.0818 - mean_squared_error: 0.1677\n",
      "Epoch 20: val_loss improved from 0.10427 to 0.10309, saving model to Bi-LSTM University Data.h5\n",
      "10/10 [==============================] - 66s 7s/step - loss: 0.0818 - mean_squared_error: 0.1677 - val_loss: 0.1031 - val_mean_squared_error: 0.2089\n",
      "Epoch 21/100\n",
      "10/10 [==============================] - ETA: 0s - loss: 0.0804 - mean_squared_error: 0.1649\n",
      "Epoch 21: val_loss improved from 0.10309 to 0.10137, saving model to Bi-LSTM University Data.h5\n",
      "10/10 [==============================] - 65s 6s/step - loss: 0.0804 - mean_squared_error: 0.1649 - val_loss: 0.1014 - val_mean_squared_error: 0.2054\n",
      "Epoch 22/100\n",
      "10/10 [==============================] - ETA: 0s - loss: 0.0787 - mean_squared_error: 0.1613\n",
      "Epoch 22: val_loss did not improve from 0.10137\n",
      "10/10 [==============================] - 66s 7s/step - loss: 0.0787 - mean_squared_error: 0.1613 - val_loss: 0.1039 - val_mean_squared_error: 0.2110\n",
      "Epoch 23/100\n",
      "10/10 [==============================] - ETA: 0s - loss: 0.0780 - mean_squared_error: 0.1598\n",
      "Epoch 23: val_loss improved from 0.10137 to 0.09995, saving model to Bi-LSTM University Data.h5\n",
      "10/10 [==============================] - 65s 7s/step - loss: 0.0780 - mean_squared_error: 0.1598 - val_loss: 0.0999 - val_mean_squared_error: 0.2025\n",
      "Epoch 24/100\n",
      "10/10 [==============================] - ETA: 0s - loss: 0.0762 - mean_squared_error: 0.1562\n",
      "Epoch 24: val_loss improved from 0.09995 to 0.09978, saving model to Bi-LSTM University Data.h5\n",
      "10/10 [==============================] - 65s 6s/step - loss: 0.0762 - mean_squared_error: 0.1562 - val_loss: 0.0998 - val_mean_squared_error: 0.2024\n"
     ]
    },
    {
     "name": "stdout",
     "output_type": "stream",
     "text": [
      "Epoch 25/100\n",
      "10/10 [==============================] - ETA: 0s - loss: 0.0750 - mean_squared_error: 0.1538\n",
      "Epoch 25: val_loss did not improve from 0.09978\n",
      "10/10 [==============================] - 68s 7s/step - loss: 0.0750 - mean_squared_error: 0.1538 - val_loss: 0.1031 - val_mean_squared_error: 0.2093\n",
      "Epoch 26/100\n",
      "10/10 [==============================] - ETA: 0s - loss: 0.0747 - mean_squared_error: 0.1531\n",
      "Epoch 26: val_loss did not improve from 0.09978\n",
      "10/10 [==============================] - 68s 7s/step - loss: 0.0747 - mean_squared_error: 0.1531 - val_loss: 0.1006 - val_mean_squared_error: 0.2041\n",
      "Epoch 27/100\n",
      "10/10 [==============================] - ETA: 0s - loss: 0.0726 - mean_squared_error: 0.1488\n",
      "Epoch 27: val_loss improved from 0.09978 to 0.09721, saving model to Bi-LSTM University Data.h5\n",
      "10/10 [==============================] - 68s 7s/step - loss: 0.0726 - mean_squared_error: 0.1488 - val_loss: 0.0972 - val_mean_squared_error: 0.1972\n",
      "Epoch 28/100\n",
      "10/10 [==============================] - ETA: 0s - loss: 0.0717 - mean_squared_error: 0.1469\n",
      "Epoch 28: val_loss improved from 0.09721 to 0.09676, saving model to Bi-LSTM University Data.h5\n",
      "10/10 [==============================] - 57s 6s/step - loss: 0.0717 - mean_squared_error: 0.1469 - val_loss: 0.0968 - val_mean_squared_error: 0.1964\n",
      "Epoch 29/100\n",
      "10/10 [==============================] - ETA: 0s - loss: 0.0714 - mean_squared_error: 0.1463\n",
      "Epoch 29: val_loss did not improve from 0.09676\n",
      "10/10 [==============================] - 57s 6s/step - loss: 0.0714 - mean_squared_error: 0.1463 - val_loss: 0.0984 - val_mean_squared_error: 0.1999\n",
      "Epoch 30/100\n",
      "10/10 [==============================] - ETA: 0s - loss: 0.0705 - mean_squared_error: 0.1445\n",
      "Epoch 30: val_loss improved from 0.09676 to 0.09604, saving model to Bi-LSTM University Data.h5\n",
      "10/10 [==============================] - 58s 6s/step - loss: 0.0705 - mean_squared_error: 0.1445 - val_loss: 0.0960 - val_mean_squared_error: 0.1952\n",
      "Epoch 31/100\n",
      "10/10 [==============================] - ETA: 0s - loss: 0.0692 - mean_squared_error: 0.1418\n",
      "Epoch 31: val_loss did not improve from 0.09604\n",
      "10/10 [==============================] - 59s 6s/step - loss: 0.0692 - mean_squared_error: 0.1418 - val_loss: 0.0963 - val_mean_squared_error: 0.1959\n",
      "Epoch 32/100\n",
      "10/10 [==============================] - ETA: 0s - loss: 0.0721 - mean_squared_error: 0.1479\n",
      "Epoch 32: val_loss improved from 0.09604 to 0.09462, saving model to Bi-LSTM University Data.h5\n",
      "10/10 [==============================] - 59s 6s/step - loss: 0.0721 - mean_squared_error: 0.1479 - val_loss: 0.0946 - val_mean_squared_error: 0.1920\n",
      "Epoch 33/100\n",
      "10/10 [==============================] - ETA: 0s - loss: 0.0724 - mean_squared_error: 0.1482\n",
      "Epoch 33: val_loss did not improve from 0.09462\n",
      "10/10 [==============================] - 59s 6s/step - loss: 0.0724 - mean_squared_error: 0.1482 - val_loss: 0.0973 - val_mean_squared_error: 0.1979\n",
      "Epoch 34/100\n",
      "10/10 [==============================] - ETA: 0s - loss: 0.0705 - mean_squared_error: 0.1446\n",
      "Epoch 34: val_loss did not improve from 0.09462\n",
      "10/10 [==============================] - 59s 6s/step - loss: 0.0705 - mean_squared_error: 0.1446 - val_loss: 0.0982 - val_mean_squared_error: 0.2002\n",
      "Epoch 35/100\n",
      "10/10 [==============================] - ETA: 0s - loss: 0.0692 - mean_squared_error: 0.1418\n",
      "Epoch 35: val_loss improved from 0.09462 to 0.09418, saving model to Bi-LSTM University Data.h5\n",
      "10/10 [==============================] - 59s 6s/step - loss: 0.0692 - mean_squared_error: 0.1418 - val_loss: 0.0942 - val_mean_squared_error: 0.1915\n",
      "Epoch 36/100\n",
      "10/10 [==============================] - ETA: 0s - loss: 0.0670 - mean_squared_error: 0.1371\n",
      "Epoch 36: val_loss did not improve from 0.09418\n",
      "10/10 [==============================] - 58s 6s/step - loss: 0.0670 - mean_squared_error: 0.1371 - val_loss: 0.0943 - val_mean_squared_error: 0.1921\n",
      "Epoch 37/100\n",
      "10/10 [==============================] - ETA: 0s - loss: 0.0654 - mean_squared_error: 0.1340\n",
      "Epoch 37: val_loss improved from 0.09418 to 0.09260, saving model to Bi-LSTM University Data.h5\n",
      "10/10 [==============================] - 58s 6s/step - loss: 0.0654 - mean_squared_error: 0.1340 - val_loss: 0.0926 - val_mean_squared_error: 0.1884\n",
      "Epoch 38/100\n",
      "10/10 [==============================] - ETA: 0s - loss: 0.0642 - mean_squared_error: 0.1314\n",
      "Epoch 38: val_loss did not improve from 0.09260\n",
      "10/10 [==============================] - 59s 6s/step - loss: 0.0642 - mean_squared_error: 0.1314 - val_loss: 0.0947 - val_mean_squared_error: 0.1931\n",
      "Epoch 39/100\n",
      "10/10 [==============================] - ETA: 0s - loss: 0.0644 - mean_squared_error: 0.1319\n",
      "Epoch 39: val_loss did not improve from 0.09260\n",
      "10/10 [==============================] - 59s 6s/step - loss: 0.0644 - mean_squared_error: 0.1319 - val_loss: 0.0930 - val_mean_squared_error: 0.1893\n",
      "Epoch 40/100\n",
      "10/10 [==============================] - ETA: 0s - loss: 0.0637 - mean_squared_error: 0.1304\n",
      "Epoch 40: val_loss did not improve from 0.09260\n",
      "10/10 [==============================] - 59s 6s/step - loss: 0.0637 - mean_squared_error: 0.1304 - val_loss: 0.0936 - val_mean_squared_error: 0.1905\n",
      "Epoch 41/100\n",
      "10/10 [==============================] - ETA: 0s - loss: 0.0629 - mean_squared_error: 0.1288\n",
      "Epoch 41: val_loss did not improve from 0.09260\n",
      "10/10 [==============================] - 58s 6s/step - loss: 0.0629 - mean_squared_error: 0.1288 - val_loss: 0.0943 - val_mean_squared_error: 0.1920\n",
      "Epoch 42/100\n",
      "10/10 [==============================] - ETA: 0s - loss: 0.0622 - mean_squared_error: 0.1273\n",
      "Epoch 42: val_loss improved from 0.09260 to 0.09152, saving model to Bi-LSTM University Data.h5\n",
      "10/10 [==============================] - 59s 6s/step - loss: 0.0622 - mean_squared_error: 0.1273 - val_loss: 0.0915 - val_mean_squared_error: 0.1861\n",
      "Epoch 43/100\n",
      "10/10 [==============================] - ETA: 0s - loss: 0.0612 - mean_squared_error: 0.1253\n",
      "Epoch 43: val_loss did not improve from 0.09152\n",
      "10/10 [==============================] - 58s 6s/step - loss: 0.0612 - mean_squared_error: 0.1253 - val_loss: 0.0932 - val_mean_squared_error: 0.1899\n",
      "Epoch 44/100\n",
      "10/10 [==============================] - ETA: 0s - loss: 0.0624 - mean_squared_error: 0.1278\n",
      "Epoch 44: val_loss improved from 0.09152 to 0.09111, saving model to Bi-LSTM University Data.h5\n",
      "10/10 [==============================] - 59s 6s/step - loss: 0.0624 - mean_squared_error: 0.1278 - val_loss: 0.0911 - val_mean_squared_error: 0.1858\n",
      "Epoch 45/100\n",
      "10/10 [==============================] - ETA: 0s - loss: 0.0617 - mean_squared_error: 0.1263\n",
      "Epoch 45: val_loss did not improve from 0.09111\n",
      "10/10 [==============================] - 59s 6s/step - loss: 0.0617 - mean_squared_error: 0.1263 - val_loss: 0.0926 - val_mean_squared_error: 0.1888\n",
      "Epoch 46/100\n",
      "10/10 [==============================] - ETA: 0s - loss: 0.0602 - mean_squared_error: 0.1231\n",
      "Epoch 46: val_loss improved from 0.09111 to 0.08934, saving model to Bi-LSTM University Data.h5\n",
      "10/10 [==============================] - 58s 6s/step - loss: 0.0602 - mean_squared_error: 0.1231 - val_loss: 0.0893 - val_mean_squared_error: 0.1822\n",
      "Epoch 47/100\n",
      "10/10 [==============================] - ETA: 0s - loss: 0.0602 - mean_squared_error: 0.1233\n",
      "Epoch 47: val_loss did not improve from 0.08934\n",
      "10/10 [==============================] - 59s 6s/step - loss: 0.0602 - mean_squared_error: 0.1233 - val_loss: 0.0904 - val_mean_squared_error: 0.1845\n",
      "Epoch 48/100\n",
      "10/10 [==============================] - ETA: 0s - loss: 0.0597 - mean_squared_error: 0.1222\n",
      "Epoch 48: val_loss improved from 0.08934 to 0.08839, saving model to Bi-LSTM University Data.h5\n",
      "10/10 [==============================] - 59s 6s/step - loss: 0.0597 - mean_squared_error: 0.1222 - val_loss: 0.0884 - val_mean_squared_error: 0.1800\n",
      "Epoch 49/100\n",
      "10/10 [==============================] - ETA: 0s - loss: 0.0591 - mean_squared_error: 0.1210\n",
      "Epoch 49: val_loss improved from 0.08839 to 0.08804, saving model to Bi-LSTM University Data.h5\n",
      "10/10 [==============================] - 58s 6s/step - loss: 0.0591 - mean_squared_error: 0.1210 - val_loss: 0.0880 - val_mean_squared_error: 0.1797\n",
      "Epoch 50/100\n"
     ]
    },
    {
     "name": "stdout",
     "output_type": "stream",
     "text": [
      "10/10 [==============================] - ETA: 0s - loss: 0.0579 - mean_squared_error: 0.1186\n",
      "Epoch 50: val_loss improved from 0.08804 to 0.08750, saving model to Bi-LSTM University Data.h5\n",
      "10/10 [==============================] - 59s 6s/step - loss: 0.0579 - mean_squared_error: 0.1186 - val_loss: 0.0875 - val_mean_squared_error: 0.1779\n",
      "Epoch 51/100\n",
      "10/10 [==============================] - ETA: 0s - loss: 0.0585 - mean_squared_error: 0.1196\n",
      "Epoch 51: val_loss did not improve from 0.08750\n",
      "10/10 [==============================] - 59s 6s/step - loss: 0.0585 - mean_squared_error: 0.1196 - val_loss: 0.0896 - val_mean_squared_error: 0.1825\n",
      "Epoch 52/100\n",
      "10/10 [==============================] - ETA: 0s - loss: 0.0579 - mean_squared_error: 0.1186\n",
      "Epoch 52: val_loss did not improve from 0.08750\n",
      "10/10 [==============================] - 60s 6s/step - loss: 0.0579 - mean_squared_error: 0.1186 - val_loss: 0.0880 - val_mean_squared_error: 0.1793\n",
      "Epoch 53/100\n",
      "10/10 [==============================] - ETA: 0s - loss: 0.0571 - mean_squared_error: 0.1170\n",
      "Epoch 53: val_loss did not improve from 0.08750\n",
      "10/10 [==============================] - 59s 6s/step - loss: 0.0571 - mean_squared_error: 0.1170 - val_loss: 0.0905 - val_mean_squared_error: 0.1848\n",
      "Epoch 54/100\n",
      "10/10 [==============================] - ETA: 0s - loss: 0.0564 - mean_squared_error: 0.1154\n",
      "Epoch 54: val_loss did not improve from 0.08750\n",
      "10/10 [==============================] - 59s 6s/step - loss: 0.0564 - mean_squared_error: 0.1154 - val_loss: 0.0878 - val_mean_squared_error: 0.1790\n",
      "Epoch 55/100\n",
      "10/10 [==============================] - ETA: 0s - loss: 0.0554 - mean_squared_error: 0.1135\n",
      "Epoch 55: val_loss did not improve from 0.08750\n",
      "10/10 [==============================] - 59s 6s/step - loss: 0.0554 - mean_squared_error: 0.1135 - val_loss: 0.0878 - val_mean_squared_error: 0.1794\n",
      "Epoch 56/100\n",
      "10/10 [==============================] - ETA: 0s - loss: 0.0562 - mean_squared_error: 0.1150\n",
      "Epoch 56: val_loss did not improve from 0.08750\n",
      "10/10 [==============================] - 59s 6s/step - loss: 0.0562 - mean_squared_error: 0.1150 - val_loss: 0.0876 - val_mean_squared_error: 0.1790\n",
      "Epoch 57/100\n",
      "10/10 [==============================] - ETA: 0s - loss: 0.0565 - mean_squared_error: 0.1155\n",
      "Epoch 57: val_loss did not improve from 0.08750\n",
      "10/10 [==============================] - 58s 6s/step - loss: 0.0565 - mean_squared_error: 0.1155 - val_loss: 0.0893 - val_mean_squared_error: 0.1819\n",
      "Epoch 58/100\n",
      "10/10 [==============================] - ETA: 0s - loss: 0.0543 - mean_squared_error: 0.1110\n",
      "Epoch 58: val_loss did not improve from 0.08750\n",
      "10/10 [==============================] - 60s 6s/step - loss: 0.0543 - mean_squared_error: 0.1110 - val_loss: 0.0888 - val_mean_squared_error: 0.1814\n",
      "Epoch 59/100\n",
      "10/10 [==============================] - ETA: 0s - loss: 0.0542 - mean_squared_error: 0.1108\n",
      "Epoch 59: val_loss did not improve from 0.08750\n",
      "10/10 [==============================] - 59s 6s/step - loss: 0.0542 - mean_squared_error: 0.1108 - val_loss: 0.0890 - val_mean_squared_error: 0.1818\n",
      "Epoch 60/100\n",
      "10/10 [==============================] - ETA: 0s - loss: 0.0572 - mean_squared_error: 0.1173\n",
      "Epoch 60: val_loss improved from 0.08750 to 0.08739, saving model to Bi-LSTM University Data.h5\n",
      "10/10 [==============================] - 60s 6s/step - loss: 0.0572 - mean_squared_error: 0.1173 - val_loss: 0.0874 - val_mean_squared_error: 0.1781\n",
      "Epoch 61/100\n",
      "10/10 [==============================] - ETA: 0s - loss: 0.0547 - mean_squared_error: 0.1119\n",
      "Epoch 61: val_loss did not improve from 0.08739\n",
      "10/10 [==============================] - 59s 6s/step - loss: 0.0547 - mean_squared_error: 0.1119 - val_loss: 0.0902 - val_mean_squared_error: 0.1851\n",
      "Epoch 62/100\n",
      "10/10 [==============================] - ETA: 0s - loss: 0.0538 - mean_squared_error: 0.1101\n",
      "Epoch 62: val_loss did not improve from 0.08739\n",
      "10/10 [==============================] - 60s 6s/step - loss: 0.0538 - mean_squared_error: 0.1101 - val_loss: 0.0882 - val_mean_squared_error: 0.1798\n",
      "Epoch 63/100\n",
      "10/10 [==============================] - ETA: 0s - loss: 0.0537 - mean_squared_error: 0.1099\n",
      "Epoch 63: val_loss improved from 0.08739 to 0.08650, saving model to Bi-LSTM University Data.h5\n",
      "10/10 [==============================] - 59s 6s/step - loss: 0.0537 - mean_squared_error: 0.1099 - val_loss: 0.0865 - val_mean_squared_error: 0.1764\n",
      "Epoch 64/100\n",
      "10/10 [==============================] - ETA: 0s - loss: 0.0524 - mean_squared_error: 0.1073\n",
      "Epoch 64: val_loss did not improve from 0.08650\n",
      "10/10 [==============================] - 59s 6s/step - loss: 0.0524 - mean_squared_error: 0.1073 - val_loss: 0.0882 - val_mean_squared_error: 0.1798\n",
      "Epoch 65/100\n",
      "10/10 [==============================] - ETA: 0s - loss: 0.0527 - mean_squared_error: 0.1077\n",
      "Epoch 65: val_loss did not improve from 0.08650\n",
      "10/10 [==============================] - 59s 6s/step - loss: 0.0527 - mean_squared_error: 0.1077 - val_loss: 0.0904 - val_mean_squared_error: 0.1852\n",
      "Epoch 66/100\n",
      "10/10 [==============================] - ETA: 0s - loss: 0.0521 - mean_squared_error: 0.1065\n",
      "Epoch 66: val_loss improved from 0.08650 to 0.08647, saving model to Bi-LSTM University Data.h5\n",
      "10/10 [==============================] - 59s 6s/step - loss: 0.0521 - mean_squared_error: 0.1065 - val_loss: 0.0865 - val_mean_squared_error: 0.1763\n",
      "Epoch 67/100\n",
      "10/10 [==============================] - ETA: 0s - loss: 0.0514 - mean_squared_error: 0.1052\n",
      "Epoch 67: val_loss did not improve from 0.08647\n",
      "10/10 [==============================] - 59s 6s/step - loss: 0.0514 - mean_squared_error: 0.1052 - val_loss: 0.0902 - val_mean_squared_error: 0.1850\n",
      "Epoch 68/100\n",
      "10/10 [==============================] - ETA: 0s - loss: 0.0510 - mean_squared_error: 0.1043\n",
      "Epoch 68: val_loss did not improve from 0.08647\n",
      "10/10 [==============================] - 59s 6s/step - loss: 0.0510 - mean_squared_error: 0.1043 - val_loss: 0.0877 - val_mean_squared_error: 0.1793\n",
      "Epoch 69/100\n",
      "10/10 [==============================] - ETA: 0s - loss: 0.0514 - mean_squared_error: 0.1050\n",
      "Epoch 69: val_loss improved from 0.08647 to 0.08535, saving model to Bi-LSTM University Data.h5\n",
      "10/10 [==============================] - 60s 6s/step - loss: 0.0514 - mean_squared_error: 0.1050 - val_loss: 0.0854 - val_mean_squared_error: 0.1750\n",
      "Epoch 70/100\n",
      "10/10 [==============================] - ETA: 0s - loss: 0.0513 - mean_squared_error: 0.1048\n",
      "Epoch 70: val_loss improved from 0.08535 to 0.08414, saving model to Bi-LSTM University Data.h5\n",
      "10/10 [==============================] - 60s 6s/step - loss: 0.0513 - mean_squared_error: 0.1048 - val_loss: 0.0841 - val_mean_squared_error: 0.1722\n",
      "Epoch 71/100\n",
      "10/10 [==============================] - ETA: 0s - loss: 0.0501 - mean_squared_error: 0.1025\n",
      "Epoch 71: val_loss did not improve from 0.08414\n",
      "10/10 [==============================] - 59s 6s/step - loss: 0.0501 - mean_squared_error: 0.1025 - val_loss: 0.0896 - val_mean_squared_error: 0.1833\n",
      "Epoch 72/100\n",
      "10/10 [==============================] - ETA: 0s - loss: 0.0511 - mean_squared_error: 0.1045\n",
      "Epoch 72: val_loss did not improve from 0.08414\n",
      "10/10 [==============================] - 59s 6s/step - loss: 0.0511 - mean_squared_error: 0.1045 - val_loss: 0.0876 - val_mean_squared_error: 0.1784\n",
      "Epoch 73/100\n",
      "10/10 [==============================] - ETA: 0s - loss: 0.0501 - mean_squared_error: 0.1024\n",
      "Epoch 73: val_loss did not improve from 0.08414\n",
      "10/10 [==============================] - 60s 6s/step - loss: 0.0501 - mean_squared_error: 0.1024 - val_loss: 0.0875 - val_mean_squared_error: 0.1789\n",
      "Epoch 74/100\n",
      "10/10 [==============================] - ETA: 0s - loss: 0.0487 - mean_squared_error: 0.0996\n",
      "Epoch 74: val_loss did not improve from 0.08414\n",
      "10/10 [==============================] - 59s 6s/step - loss: 0.0487 - mean_squared_error: 0.0996 - val_loss: 0.0857 - val_mean_squared_error: 0.1752\n",
      "Epoch 75/100\n",
      "10/10 [==============================] - ETA: 0s - loss: 0.0475 - mean_squared_error: 0.0971\n",
      "Epoch 75: val_loss did not improve from 0.08414\n",
      "10/10 [==============================] - 59s 6s/step - loss: 0.0475 - mean_squared_error: 0.0971 - val_loss: 0.0873 - val_mean_squared_error: 0.1787\n",
      "Epoch 76/100\n"
     ]
    },
    {
     "name": "stdout",
     "output_type": "stream",
     "text": [
      "10/10 [==============================] - ETA: 0s - loss: 0.0472 - mean_squared_error: 0.0964\n",
      "Epoch 76: val_loss did not improve from 0.08414\n",
      "10/10 [==============================] - 59s 6s/step - loss: 0.0472 - mean_squared_error: 0.0964 - val_loss: 0.0859 - val_mean_squared_error: 0.1756\n",
      "Epoch 77/100\n",
      "10/10 [==============================] - ETA: 0s - loss: 0.0482 - mean_squared_error: 0.0985\n",
      "Epoch 77: val_loss did not improve from 0.08414\n",
      "10/10 [==============================] - 59s 6s/step - loss: 0.0482 - mean_squared_error: 0.0985 - val_loss: 0.0869 - val_mean_squared_error: 0.1771\n",
      "Epoch 78/100\n",
      "10/10 [==============================] - ETA: 0s - loss: 0.0495 - mean_squared_error: 0.1011\n",
      "Epoch 78: val_loss did not improve from 0.08414\n",
      "10/10 [==============================] - 59s 6s/step - loss: 0.0495 - mean_squared_error: 0.1011 - val_loss: 0.0881 - val_mean_squared_error: 0.1799\n",
      "Epoch 79/100\n",
      "10/10 [==============================] - ETA: 0s - loss: 0.0492 - mean_squared_error: 0.1004\n",
      "Epoch 79: val_loss did not improve from 0.08414\n",
      "10/10 [==============================] - 59s 6s/step - loss: 0.0492 - mean_squared_error: 0.1004 - val_loss: 0.0891 - val_mean_squared_error: 0.1824\n",
      "Epoch 80/100\n",
      "10/10 [==============================] - ETA: 0s - loss: 0.0491 - mean_squared_error: 0.1005\n",
      "Epoch 80: val_loss did not improve from 0.08414\n",
      "10/10 [==============================] - 59s 6s/step - loss: 0.0491 - mean_squared_error: 0.1005 - val_loss: 0.0893 - val_mean_squared_error: 0.1822\n",
      "Epoch 81/100\n",
      "10/10 [==============================] - ETA: 0s - loss: 0.0478 - mean_squared_error: 0.0977\n",
      "Epoch 81: val_loss did not improve from 0.08414\n",
      "10/10 [==============================] - 59s 6s/step - loss: 0.0478 - mean_squared_error: 0.0977 - val_loss: 0.0876 - val_mean_squared_error: 0.1792\n",
      "Epoch 82/100\n",
      "10/10 [==============================] - ETA: 0s - loss: 0.0464 - mean_squared_error: 0.0949\n",
      "Epoch 82: val_loss did not improve from 0.08414\n",
      "10/10 [==============================] - 59s 6s/step - loss: 0.0464 - mean_squared_error: 0.0949 - val_loss: 0.0855 - val_mean_squared_error: 0.1748\n",
      "Epoch 83/100\n",
      "10/10 [==============================] - ETA: 0s - loss: 0.0456 - mean_squared_error: 0.0932\n",
      "Epoch 83: val_loss did not improve from 0.08414\n",
      "10/10 [==============================] - 59s 6s/step - loss: 0.0456 - mean_squared_error: 0.0932 - val_loss: 0.0873 - val_mean_squared_error: 0.1786\n",
      "Epoch 84/100\n",
      "10/10 [==============================] - ETA: 0s - loss: 0.0474 - mean_squared_error: 0.0968\n",
      "Epoch 84: val_loss did not improve from 0.08414\n",
      "10/10 [==============================] - 59s 6s/step - loss: 0.0474 - mean_squared_error: 0.0968 - val_loss: 0.0911 - val_mean_squared_error: 0.1861\n",
      "Epoch 85/100\n",
      "10/10 [==============================] - ETA: 0s - loss: 0.0486 - mean_squared_error: 0.0990\n",
      "Epoch 85: val_loss did not improve from 0.08414\n",
      "10/10 [==============================] - 60s 6s/step - loss: 0.0486 - mean_squared_error: 0.0990 - val_loss: 0.0909 - val_mean_squared_error: 0.1864\n",
      "Epoch 86/100\n",
      "10/10 [==============================] - ETA: 0s - loss: 0.0491 - mean_squared_error: 0.1002\n",
      "Epoch 86: val_loss did not improve from 0.08414\n",
      "10/10 [==============================] - 59s 6s/step - loss: 0.0491 - mean_squared_error: 0.1002 - val_loss: 0.0852 - val_mean_squared_error: 0.1747\n",
      "Epoch 87/100\n",
      "10/10 [==============================] - ETA: 0s - loss: 0.0478 - mean_squared_error: 0.0977\n",
      "Epoch 87: val_loss did not improve from 0.08414\n",
      "10/10 [==============================] - 59s 6s/step - loss: 0.0478 - mean_squared_error: 0.0977 - val_loss: 0.0880 - val_mean_squared_error: 0.1800\n",
      "Epoch 88/100\n",
      "10/10 [==============================] - ETA: 0s - loss: 0.0457 - mean_squared_error: 0.0934\n",
      "Epoch 88: val_loss did not improve from 0.08414\n",
      "10/10 [==============================] - 59s 6s/step - loss: 0.0457 - mean_squared_error: 0.0934 - val_loss: 0.0889 - val_mean_squared_error: 0.1822\n",
      "Epoch 89/100\n",
      "10/10 [==============================] - ETA: 0s - loss: 0.0466 - mean_squared_error: 0.0951\n",
      "Epoch 89: val_loss did not improve from 0.08414\n",
      "10/10 [==============================] - 59s 6s/step - loss: 0.0466 - mean_squared_error: 0.0951 - val_loss: 0.0889 - val_mean_squared_error: 0.1827\n",
      "Epoch 90/100\n",
      "10/10 [==============================] - ETA: 0s - loss: 0.0487 - mean_squared_error: 0.0995\n",
      "Epoch 90: val_loss did not improve from 0.08414\n",
      "10/10 [==============================] - 59s 6s/step - loss: 0.0487 - mean_squared_error: 0.0995 - val_loss: 0.0861 - val_mean_squared_error: 0.1754\n",
      "Epoch 90: early stopping\n"
     ]
    }
   ],
   "source": [
    "history = model.fit(x=tra_data_sli,y=tra_lab, epochs=MAX_EPOCH, batch_size=BATCH_SIZE,validation_data=(val_data_sli, val_lab), verbose=1,callbacks=[model_chk,ear_stop])"
   ]
  },
  {
   "cell_type": "code",
   "execution_count": 32,
   "id": "253991b6",
   "metadata": {},
   "outputs": [
    {
     "name": "stdout",
     "output_type": "stream",
     "text": [
      "5/5 [==============================] - 4s 248ms/step\n"
     ]
    }
   ],
   "source": [
    "predict = model.predict(x=tes_data_sli)"
   ]
  },
  {
   "cell_type": "code",
   "execution_count": 33,
   "id": "c8eb2db9",
   "metadata": {},
   "outputs": [
    {
     "name": "stdout",
     "output_type": "stream",
     "text": [
      "Mean Squared Error is: 380076.435559065\n",
      "Mean Absolute Error is: 474.0348435643002\n"
     ]
    }
   ],
   "source": [
    "prediction = test_scaler.inverse_transform(np.repeat(predict.flatten().reshape(-1,1),8,axis=1))\n",
    "grou_tru = test_scaler.inverse_transform(np.repeat(tes_lab.flatten().reshape(-1,1),8,axis=1))\n",
    "print(\"Mean Squared Error is: \" + str(mean_squared_error(grou_tru[:,0],prediction[:,0])))\n",
    "print(\"Mean Absolute Error is: \" + str(mean_absolute_error(grou_tru[:,0],prediction[:,0])))"
   ]
  },
  {
   "cell_type": "code",
   "execution_count": 34,
   "id": "ba376ba4",
   "metadata": {},
   "outputs": [
    {
     "data": {
      "text/plain": [
       "<matplotlib.legend.Legend at 0x1e5b07baee0>"
      ]
     },
     "execution_count": 34,
     "metadata": {},
     "output_type": "execute_result"
    },
    {
     "data": {
      "image/png": "[encoded data removed]",
      "text/plain": [
       "<Figure size 432x288 with 1 Axes>"
      ]
     },
     "metadata": {
      "needs_background": "light"
     },
     "output_type": "display_data"
    }
   ],
   "source": [
    "plt.plot(history.history['val_loss'])\n",
    "plt.plot(history.history['loss'])\n",
    "plt.legend(['val_loss', 'loss'], loc='upper left')\n"
   ]
  },
  {
   "cell_type": "code",
   "execution_count": 35,
   "id": "d7638e41",
   "metadata": {},
   "outputs": [],
   "source": [
    "def plot_compare(pred,label,day):\n",
    "    label=label[:,0].reshape(-1,24)\n",
    "    pred=pred[:,0].reshape(-1,24)\n",
    "    plt.plot(np.arange(24),pred[day],label='Bi-LSTM')\n",
    "    plt.plot(np.arange(24),label[day],label='actual')\n",
    "    plt.xlabel('Hour of Day')\n",
    "    plt.ylabel('Load (kW)')\n",
    "    plt.legend()\n",
    "    plt.plot()"
   ]
  },
  {
   "cell_type": "code",
   "execution_count": 36,
   "id": "1c6d6d9a",
   "metadata": {},
   "outputs": [
    {
     "data": {
      "image/png": "[encoded data removed]",
      "text/plain": [
       "<Figure size 432x288 with 1 Axes>"
      ]
     },
     "metadata": {
      "needs_background": "light"
     },
     "output_type": "display_data"
    }
   ],
   "source": [
    "plot_compare(prediction,grou_tru,15)"
   ]
  },
  {
   "cell_type": "code",
   "execution_count": null,
   "id": "4fdbe536",
   "metadata": {},
   "outputs": [],
   "source": []
  },
  {
   "cell_type": "code",
   "execution_count": null,
   "id": "2e1acfe3",
   "metadata": {},
   "outputs": [],
   "source": []
  },
  {
   "cell_type": "code",
   "execution_count": null,
   "id": "c00fce29",
   "metadata": {},
   "outputs": [],
   "source": []
  },
  {
   "cell_type": "code",
   "execution_count": null,
   "id": "c0adcbe4",
   "metadata": {},
   "outputs": [],
   "source": []
  },
  {
   "cell_type": "code",
   "execution_count": null,
   "id": "af21915d",
   "metadata": {},
   "outputs": [],
   "source": []
  },
  {
   "cell_type": "code",
   "execution_count": null,
   "id": "fafab128",
   "metadata": {},
   "outputs": [],
   "source": []
  },
  {
   "cell_type": "code",
   "execution_count": null,
   "id": "89c67ae6",
   "metadata": {},
   "outputs": [],
   "source": []
  },
  {
   "cell_type": "code",
   "execution_count": null,
   "id": "c3a2b63b",
   "metadata": {},
   "outputs": [],
   "source": []
  },
  {
   "cell_type": "code",
   "execution_count": null,
   "id": "bb525216",
   "metadata": {},
   "outputs": [],
   "source": []
  },
  {
   "cell_type": "code",
   "execution_count": null,
   "id": "ae41a9f1",
   "metadata": {},
   "outputs": [],
   "source": []
  },
  {
   "cell_type": "code",
   "execution_count": null,
   "id": "cb22c82e",
   "metadata": {},
   "outputs": [],
   "source": []
  },
  {
   "cell_type": "code",
   "execution_count": null,
   "id": "bec46675",
   "metadata": {},
   "outputs": [],
   "source": []
  },
  {
   "cell_type": "code",
   "execution_count": null,
   "id": "36c8f5ab",
   "metadata": {},
   "outputs": [],
   "source": []
  },
  {
   "cell_type": "code",
   "execution_count": null,
   "id": "962ca98f",
   "metadata": {},
   "outputs": [],
   "source": []
  },
  {
   "cell_type": "code",
   "execution_count": null,
   "id": "d0215342",
   "metadata": {},
   "outputs": [],
   "source": []
  },
  {
   "cell_type": "code",
   "execution_count": null,
   "id": "a2863ec4",
   "metadata": {},
   "outputs": [],
   "source": []
  },
  {
   "cell_type": "code",
   "execution_count": null,
   "id": "c0ab8087",
   "metadata": {},
   "outputs": [],
   "source": []
  },
  {
   "cell_type": "code",
   "execution_count": null,
   "id": "0da7f2ff",
   "metadata": {},
   "outputs": [],
   "source": []
  },
  {
   "cell_type": "code",
   "execution_count": null,
   "id": "26c165d8",
   "metadata": {},
   "outputs": [],
   "source": []
  },
  {
   "cell_type": "code",
   "execution_count": null,
   "id": "337ba0ac",
   "metadata": {},
   "outputs": [],
   "source": []
  },
  {
   "cell_type": "code",
   "execution_count": null,
   "id": "3bb8480f",
   "metadata": {},
   "outputs": [],
   "source": []
  },
  {
   "cell_type": "code",
   "execution_count": null,
   "id": "9efaf170",
   "metadata": {},
   "outputs": [],
   "source": []
  },
  {
   "cell_type": "code",
   "execution_count": null,
   "id": "a2e17a4a",
   "metadata": {},
   "outputs": [],
   "source": []
  },
  {
   "cell_type": "code",
   "execution_count": null,
   "id": "b77f4e03",
   "metadata": {},
   "outputs": [],
   "source": []
  },
  {
   "cell_type": "code",
   "execution_count": null,
   "id": "67d39ab9",
   "metadata": {},
   "outputs": [],
   "source": []
  },
  {
   "cell_type": "code",
   "execution_count": null,
   "id": "8ec8428c",
   "metadata": {},
   "outputs": [],
   "source": []
  },
  {
   "cell_type": "code",
   "execution_count": null,
   "id": "0848e00f",
   "metadata": {},
   "outputs": [],
   "source": []
  },
  {
   "cell_type": "code",
   "execution_count": null,
   "id": "cb880bc8",
   "metadata": {},
   "outputs": [],
   "source": []
  },
  {
   "cell_type": "code",
   "execution_count": null,
   "id": "17889ee4",
   "metadata": {},
   "outputs": [],
   "source": []
  },
  {
   "cell_type": "code",
   "execution_count": null,
   "id": "c76bd6dc",
   "metadata": {},
   "outputs": [],
   "source": []
  },
  {
   "cell_type": "code",
   "execution_count": null,
   "id": "7dc528eb",
   "metadata": {},
   "outputs": [],
   "source": []
  },
  {
   "cell_type": "code",
   "execution_count": null,
   "id": "8b98575c",
   "metadata": {},
   "outputs": [],
   "source": []
  },
  {
   "cell_type": "code",
   "execution_count": null,
   "id": "d00446ce",
   "metadata": {},
   "outputs": [],
   "source": []
  },
  {
   "cell_type": "code",
   "execution_count": null,
   "id": "78ba88e3",
   "metadata": {},
   "outputs": [],
   "source": []
  },
  {
   "cell_type": "code",
   "execution_count": null,
   "id": "9ef69640",
   "metadata": {},
   "outputs": [],
   "source": []
  },
  {
   "cell_type": "code",
   "execution_count": null,
   "id": "70255351",
   "metadata": {},
   "outputs": [],
   "source": []
  },
  {
   "cell_type": "code",
   "execution_count": null,
   "id": "3e801f70",
   "metadata": {},
   "outputs": [],
   "source": []
  }
 ],
 "metadata": {
  "kernelspec": {
   "display_name": "Python 3 (ipykernel)",
   "language": "python",
   "name": "python3"
  },
  "language_info": {
   "codemirror_mode": {
    "name": "ipython",
    "version": 3
   },
   "file_extension": ".py",
   "mimetype": "text/x-python",
   "name": "python",
   "nbconvert_exporter": "python",
   "pygments_lexer": "ipython3",
   "version": "3.9.12"
  }
 },
 "nbformat": 4,
 "nbformat_minor": 5
}
