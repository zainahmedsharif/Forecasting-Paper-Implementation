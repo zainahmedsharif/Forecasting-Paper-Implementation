{
 "cells": [
  {
   "cell_type": "code",
   "execution_count": 1,
   "id": "1fe17a8b",
   "metadata": {},
   "outputs": [],
   "source": [
    "import pandas as pd\n",
    "import numpy as np\n",
    "import tensorflow as tf \n",
    "from tensorflow import keras\n",
    "import pickle\n",
    "from sklearn.metrics import mean_squared_error\n",
    "from sklearn.metrics import mean_absolute_error\n",
    "import seaborn as sns \n",
    "import matplotlib.pyplot as plt\n",
    "from numpy.lib.stride_tricks import sliding_window_view\n",
    "import datetime as dt\n",
    "import random\n",
    "import os \n",
    "import h5py\n",
    "from sklearn.preprocessing import StandardScaler\n",
    "\n",
    "BATCH_SIZE = 128\n",
    "PATIENCE = 20\n",
    "MAX_EPOCH = 100\n",
    "TRAIN_STEPS = 168\n",
    "PREDICT_STEPS = 24\n",
    "WINDOW_SIZE = TRAIN_STEPS + PREDICT_STEPS \n",
    "\n"
   ]
  },
  {
   "cell_type": "code",
   "execution_count": 2,
   "id": "57e5d269",
   "metadata": {},
   "outputs": [],
   "source": [
    "FILE_DIR = 'C:\\\\Users\\\\Zain Ahmed\\\\Desktop\\\\Literature review\\\\Project Folder\\\\Data.xlsx'\n"
   ]
  },
  {
   "cell_type": "markdown",
   "id": "4cb35c9f",
   "metadata": {},
   "source": [
    "# Loading the data from execl file"
   ]
  },
  {
   "cell_type": "code",
   "execution_count": 3,
   "id": "66d8867c",
   "metadata": {},
   "outputs": [],
   "source": [
    "data = pd.read_excel(FILE_DIR)\n",
    "data['Time']=data['Time'].astype(int)-1\n",
    "data = data.loc[:,('DATE','Time',' Load(KW)   ','Temp (°C)','Dew Point Temp (°C)','Rel Hum (%)','Wind Dir (10s deg)','Wind Spd (km/h)','Visibility (km)','Stn Press (kPa)')]\n",
    "data['datetime'] = data['DATE'].astype('str') + '-' + data['Time'].astype('str')\n",
    "data['datetime']=pd.to_datetime(data['datetime'],format='%Y-%m-%d-%H')\n",
    "#data['is_weekday'] = (data['datetime'].dt.weekday<=5).astype('int')\n",
    "#data['month'] = (data['datetime']).dt.month\n",
    "data = data.set_index('datetime')\n",
    "data = data.drop(columns=['DATE','Time'])\n",
    "#data['datetime']=pd.to_datetime(data['datetime'],format='%Y-%m-%d-%H')\n"
   ]
  },
  {
   "cell_type": "markdown",
   "id": "1354109b",
   "metadata": {},
   "source": [
    "# Keeping DATE,Time and Load Columns Only \n",
    "# Also keeping daily hours between 0-23"
   ]
  },
  {
   "cell_type": "code",
   "execution_count": 4,
   "id": "69ad8fbc",
   "metadata": {},
   "outputs": [],
   "source": [
    "#data = data.loc[:,('DATE','Time',' Load(KW)   ')]\n",
    "#DROPPING WIND CHILL DUE TO HIGH NANs\n",
    "#data = data.loc[:,('DATE','Time',' Load(KW)   ','Temp (°C)','Dew Point Temp (°C)','Rel Hum (%)','Wind Dir (10s deg)','Wind Spd (km/h)','Visibility (km)','Stn Press (kPa)')]"
   ]
  },
  {
   "cell_type": "markdown",
   "id": "764631f9",
   "metadata": {},
   "source": [
    "# Concatenate Date and Time"
   ]
  },
  {
   "cell_type": "code",
   "execution_count": 5,
   "id": "746ef898",
   "metadata": {},
   "outputs": [],
   "source": [
    "#data['datetime'] = data['DATE'].astype('str') + '-' + data['Time'].astype('str')"
   ]
  },
  {
   "cell_type": "code",
   "execution_count": 6,
   "id": "00c8869f",
   "metadata": {},
   "outputs": [],
   "source": [
    "#data['datetime']=pd.to_datetime(data['datetime'],format='%Y-%m-%d-%H')"
   ]
  },
  {
   "cell_type": "code",
   "execution_count": 7,
   "id": "cf857e85",
   "metadata": {},
   "outputs": [],
   "source": [
    "#data = data.set_index('datetime')"
   ]
  },
  {
   "cell_type": "code",
   "execution_count": 8,
   "id": "b4903309",
   "metadata": {},
   "outputs": [],
   "source": [
    "#data = data.drop(columns=['DATE','Time'])"
   ]
  },
  {
   "cell_type": "code",
   "execution_count": 9,
   "id": "97fb057a",
   "metadata": {},
   "outputs": [
    {
     "name": "stdout",
     "output_type": "stream",
     "text": [
      "The number of breaks in the data are 3 which is 0.0081 percent of the total data\n"
     ]
    }
   ],
   "source": [
    "num_of_bre = (data.asfreq(freq='1H').shape[0]) - (data.shape[0])\n",
    "percen = ((num_of_bre)/data.shape[0])*100\n",
    "print('The number of breaks in the data are {} which is {:0.2} percent of the total data'.format(num_of_bre,percen))"
   ]
  },
  {
   "cell_type": "markdown",
   "id": "74f8e982",
   "metadata": {},
   "source": [
    "# We will ensure the continuity of the data"
   ]
  },
  {
   "cell_type": "code",
   "execution_count": 10,
   "id": "cb73c2a3",
   "metadata": {},
   "outputs": [],
   "source": [
    "#num_of_bre = (data.asfreq(freq='1H').shape[0]) - (data.shape[0])\n",
    "#percen = ((num_of_bre)/data.shape[0])*100\n",
    "#print('The number of breaks in the data are {} which is {:0.2} percent of the total data'.format(num_of_bre,percen))"
   ]
  },
  {
   "cell_type": "markdown",
   "id": "5ee6de35",
   "metadata": {},
   "source": [
    "# Make the data continous "
   ]
  },
  {
   "cell_type": "code",
   "execution_count": 11,
   "id": "5b250c55",
   "metadata": {},
   "outputs": [],
   "source": [
    "data = data.asfreq(freq='1H')"
   ]
  },
  {
   "cell_type": "code",
   "execution_count": 12,
   "id": "8667cf5e",
   "metadata": {},
   "outputs": [],
   "source": [
    "#data = data.asfreq(freq='1H')"
   ]
  },
  {
   "cell_type": "code",
   "execution_count": 13,
   "id": "53f60a42",
   "metadata": {},
   "outputs": [
    {
     "data": {
      "text/plain": [
       "<AxesSubplot:xlabel='datetime'>"
      ]
     },
     "execution_count": 13,
     "metadata": {},
     "output_type": "execute_result"
    },
    {
     "data": {
      "image/png": "[encoded data removed]",
      "text/plain": [
       "<Figure size 432x288 with 1 Axes>"
      ]
     },
     "metadata": {
      "needs_background": "light"
     },
     "output_type": "display_data"
    }
   ],
   "source": [
    "data.plot(y=' Load(KW)   ')"
   ]
  },
  {
   "cell_type": "code",
   "execution_count": 14,
   "id": "b8e79530",
   "metadata": {},
   "outputs": [
    {
     "data": {
      "text/plain": [
       "(37224, 8)"
      ]
     },
     "execution_count": 14,
     "metadata": {},
     "output_type": "execute_result"
    }
   ],
   "source": [
    "data.shape"
   ]
  },
  {
   "cell_type": "markdown",
   "id": "5165aaf7",
   "metadata": {},
   "source": [
    "# We will divide our data in train, validation and test sets "
   ]
  },
  {
   "cell_type": "code",
   "execution_count": 15,
   "id": "71ec559c",
   "metadata": {},
   "outputs": [],
   "source": [
    "tr_id = int((data.shape[0]*0.75)/24)*24\n",
    "val_id = int((data.shape[0]*0.90)/24)*24\n",
    "tra_data = data.iloc[:tr_id,:]\n",
    "val_data = data.iloc[tr_id:val_id,:]\n",
    "tes_data = data.iloc[val_id:,:]"
   ]
  },
  {
   "cell_type": "code",
   "execution_count": 16,
   "id": "4be6d4bc",
   "metadata": {},
   "outputs": [
    {
     "data": {
      "text/plain": [
       "27912"
      ]
     },
     "execution_count": 16,
     "metadata": {},
     "output_type": "execute_result"
    }
   ],
   "source": [
    "tr_id"
   ]
  },
  {
   "cell_type": "markdown",
   "id": "9aba52d7",
   "metadata": {},
   "source": [
    "# Now we will write the proprocessing function"
   ]
  },
  {
   "cell_type": "code",
   "execution_count": 17,
   "id": "25a06c94",
   "metadata": {},
   "outputs": [],
   "source": [
    "def pre_process(sample):\n",
    "    '''\n",
    "    Takes a dataframe and \n",
    "            \n",
    "    - replaces NA values by forward filling\n",
    "    \n",
    "    '''\n",
    "    ## Use the below line of code to sample data based on hours \n",
    "    ##sample = sample[(sample.index.dayofweek<5) & ((of_da_fi.index.hour>4) & (of_da_fi.index.hour<19))]\n",
    "    \n",
    "    #using forward filling method to fill the missing data \n",
    "        \n",
    "    sample = sample.fillna(method='ffill')\n",
    "    \n",
    "    ## This line of code checks for NA values \n",
    "    \n",
    "    check_na = int(sample.isnull().sum().sum())\n",
    "    \n",
    "    print('There are {} NA values in the dataframe'.format(check_na))\n",
    "    \n",
    "    #plt.figure(figsize=(3,3))\n",
    "    \n",
    "    #sns.violinplot(data=sample)\n",
    "    \n",
    "    #plt.xticks(rotation=90)\n",
    "        \n",
    "    return sample"
   ]
  },
  {
   "cell_type": "code",
   "execution_count": 18,
   "id": "e5ac0169",
   "metadata": {},
   "outputs": [
    {
     "name": "stdout",
     "output_type": "stream",
     "text": [
      "There are 0 NA values in the dataframe\n"
     ]
    }
   ],
   "source": [
    "train_data = pre_process(tra_data)\n"
   ]
  },
  {
   "cell_type": "code",
   "execution_count": 19,
   "id": "234a624c",
   "metadata": {},
   "outputs": [
    {
     "name": "stdout",
     "output_type": "stream",
     "text": [
      "There are 0 NA values in the dataframe\n"
     ]
    }
   ],
   "source": [
    "vali_data = pre_process(val_data)\n"
   ]
  },
  {
   "cell_type": "code",
   "execution_count": 20,
   "id": "2fbeb1a2",
   "metadata": {},
   "outputs": [
    {
     "name": "stdout",
     "output_type": "stream",
     "text": [
      "There are 0 NA values in the dataframe\n"
     ]
    }
   ],
   "source": [
    "test_data = pre_process(tes_data)"
   ]
  },
  {
   "cell_type": "code",
   "execution_count": 21,
   "id": "66e9eeb9",
   "metadata": {},
   "outputs": [
    {
     "data": {
      "text/plain": [
       " Load(KW)              0\n",
       "Temp (°C)              0\n",
       "Dew Point Temp (°C)    0\n",
       "Rel Hum (%)            0\n",
       "Wind Dir (10s deg)     0\n",
       "Wind Spd (km/h)        0\n",
       "Visibility (km)        0\n",
       "Stn Press (kPa)        0\n",
       "dtype: int64"
      ]
     },
     "execution_count": 21,
     "metadata": {},
     "output_type": "execute_result"
    }
   ],
   "source": [
    "tes_data.fillna(method='ffill').isnull().sum()"
   ]
  },
  {
   "cell_type": "markdown",
   "id": "0a53925d",
   "metadata": {},
   "source": [
    "# Rolling window function "
   ]
  },
  {
   "cell_type": "code",
   "execution_count": 22,
   "id": "bfa201b2",
   "metadata": {},
   "outputs": [],
   "source": [
    "def rolling_window(array_data,input_size,output_size,offset):\n",
    "    '''\n",
    "    The function takes a series array_data of size (size,) \n",
    "\n",
    "    and generates\n",
    "    \n",
    "    a array of size (input_size,((array_size-(input_size+output_size)/stride)+1)) as inputs \n",
    "    \n",
    "    and array of size (array_size-(input_size+output_size)/stride)+1)as output \n",
    "    \n",
    "    '''\n",
    "        \n",
    "    # Normalizing the dataset\n",
    "        \n",
    "    scaler = StandardScaler()\n",
    "    \n",
    "    scaler = scaler.fit(array_data)\n",
    "    \n",
    "    array_data = scaler.transform(array_data)\n",
    "    \n",
    "#     lab_data = array_data[:,0]\n",
    "    \n",
    "#     for i in range(input_size,len(array_data)-output_size+1,offset):\n",
    "            \n",
    "#             data.append(array_data[i-input_size:i,0:array_data.shape[1]])\n",
    "    \n",
    "#             labels.append(lab_data[i:i+output_size])\n",
    "\n",
    "        \n",
    "    data_idx = sliding_window_view(np.arange(array_data.shape[0]).reshape(-1),window_shape=input_size)[::offset][:-1]\n",
    "    \n",
    "    data = array_data[data_idx]\n",
    "\n",
    "    labels = sliding_window_view(array_data[input_size:,0].reshape(-1),window_shape=output_size)[::offset]\n",
    "\n",
    "    \n",
    "    assert data.shape[0] == labels.shape[0],\"Training rows and labels are unequal\"    \n",
    "    \n",
    "#    if output_size == offset:\n",
    "        \n",
    "#        ra_in = random.randint(0,data.shape[0]-2) \n",
    "        \n",
    "#        a = data[ra_in+1,-offset:]\n",
    "        \n",
    "#        b = labels[ra_in]\n",
    "        \n",
    "#        np.alltrue(a == b)\n",
    "    \n",
    "#    data = np.expand_dims(data,axis=2)\n",
    "    \n",
    "#    labels = np.expand_dims(labels,axis=2)\n",
    "    \n",
    "#    data = np.array(data)\n",
    "    \n",
    "#    labels = np.array(labels)\n",
    "        \n",
    "    return data,labels,scaler,array_data"
   ]
  },
  {
   "cell_type": "markdown",
   "id": "92814007",
   "metadata": {},
   "source": [
    "# We will use the rolling window of size 168 and output window of size 24"
   ]
  },
  {
   "cell_type": "code",
   "execution_count": 23,
   "id": "7d0388c9",
   "metadata": {},
   "outputs": [],
   "source": [
    "tra_data_sli,tra_lab,tra_sca,tra_stan = rolling_window(train_data,input_size=TRAIN_STEPS,output_size=24,offset=24)\n",
    "val_data_sli,val_lab,val_sca,val_stan = rolling_window(vali_data,input_size=TRAIN_STEPS,output_size=24,offset=24)\n",
    "tes_data_sli,tes_lab,test_scaler,tes_stan = rolling_window(test_data,input_size=TRAIN_STEPS,output_size=24,offset=24)"
   ]
  },
  {
   "cell_type": "code",
   "execution_count": 24,
   "id": "744e66d0",
   "metadata": {},
   "outputs": [],
   "source": [
    "np.save('tra_data_sli',tra_data_sli)\n",
    "np.save('val_data_sli',val_data_sli)\n",
    "np.save('tes_data_sli',tes_data_sli)\n",
    "np.save('tra_lab',tra_lab)\n",
    "np.save('val_lab',val_lab)\n",
    "np.save('tes_lab',tes_lab)"
   ]
  },
  {
   "cell_type": "markdown",
   "id": "ba03cfa6",
   "metadata": {},
   "source": [
    "# We will now focus on network architecture Implementation"
   ]
  },
  {
   "cell_type": "code",
   "execution_count": 25,
   "id": "a0832752",
   "metadata": {},
   "outputs": [
    {
     "name": "stdout",
     "output_type": "stream",
     "text": [
      "Number of training samples are 1156\n",
      "Number of validation samples are 225\n",
      "Number of test samples are 149\n"
     ]
    }
   ],
   "source": [
    "print(\"Number of training samples are {}\".format(tra_data_sli.shape[0]))\n",
    "print(\"Number of validation samples are {}\".format(val_data_sli.shape[0]))\n",
    "print(\"Number of test samples are {}\".format(tes_data_sli.shape[0]))"
   ]
  },
  {
   "cell_type": "code",
   "execution_count": 26,
   "id": "3e776a50",
   "metadata": {},
   "outputs": [
    {
     "data": {
      "text/plain": [
       "(1156, 24)"
      ]
     },
     "execution_count": 26,
     "metadata": {},
     "output_type": "execute_result"
    }
   ],
   "source": [
    "tra_lab.shape"
   ]
  },
  {
   "cell_type": "code",
   "execution_count": 27,
   "id": "9454561c",
   "metadata": {},
   "outputs": [
    {
     "data": {
      "text/plain": [
       "(1156, 168, 8)"
      ]
     },
     "execution_count": 27,
     "metadata": {},
     "output_type": "execute_result"
    }
   ],
   "source": [
    "tra_data_sli.shape"
   ]
  },
  {
   "cell_type": "code",
   "execution_count": 28,
   "id": "c95d33bd",
   "metadata": {},
   "outputs": [],
   "source": [
    "model = tf.keras.models.Sequential([\n",
    "    tf.keras.layers.GRU(128,return_sequences=True,input_shape=(tra_data_sli.shape[1],tra_data_sli.shape[2])),\n",
    "    tf.keras.layers.GRU(128,return_sequences=True),\n",
    "    tf.keras.layers.GRU(128,return_sequences=False),\n",
    "    tf.keras.layers.Dense(units=128,activation='relu'),\n",
    "    tf.keras.layers.Dense(units=24)\n",
    "]\n",
    ")\n"
   ]
  },
  {
   "cell_type": "code",
   "execution_count": null,
   "id": "94b5fea8",
   "metadata": {},
   "outputs": [],
   "source": []
  },
  {
   "cell_type": "code",
   "execution_count": 29,
   "id": "e0f15dd8",
   "metadata": {},
   "outputs": [],
   "source": [
    "#lr_schedule = tf.keras.optimizers.schedules.ExponentialDecay(\n",
    "#    0.1,\n",
    "#    decay_steps=1000,\n",
    "#    decay_rate=0.5)\n",
    "\n",
    "adam = tf.keras.optimizers.Adam(learning_rate=0.0001, beta_1=0.9, beta_2=0.999, amsgrad=False)\n",
    "\n",
    "ear_stop = tf.keras.callbacks.EarlyStopping(\n",
    "            monitor=\"val_loss\",mode='min',min_delta=5e-4,patience=20,verbose=1\n",
    ")\n",
    "\n",
    "model_chk = tf.keras.callbacks.ModelCheckpoint(\n",
    "            'best_model_GRU_MultiVariate_Std_Scaler.h5',monitor=\"val_loss\",mode='min',verbose=1,save_best_only=True\n",
    ")\n"
   ]
  },
  {
   "cell_type": "code",
   "execution_count": 30,
   "id": "8a68676e",
   "metadata": {},
   "outputs": [],
   "source": [
    "model.compile(optimizer=adam,loss=tf.keras.losses.Huber(),metrics=[\"mean_squared_error\"])"
   ]
  },
  {
   "cell_type": "code",
   "execution_count": 31,
   "id": "558134de",
   "metadata": {},
   "outputs": [
    {
     "name": "stdout",
     "output_type": "stream",
     "text": [
      "Epoch 1/100\n",
      "10/10 [==============================] - ETA: 0s - loss: 0.4235 - mean_squared_error: 0.9654\n",
      "Epoch 1: val_loss improved from inf to 0.39571, saving model to best_model_GRU_MultiVariate_Std_Scaler.h5\n",
      "10/10 [==============================] - 25s 1s/step - loss: 0.4235 - mean_squared_error: 0.9654 - val_loss: 0.3957 - val_mean_squared_error: 0.8898\n",
      "Epoch 2/100\n",
      "10/10 [==============================] - ETA: 0s - loss: 0.3955 - mean_squared_error: 0.8908\n",
      "Epoch 2: val_loss improved from 0.39571 to 0.36843, saving model to best_model_GRU_MultiVariate_Std_Scaler.h5\n",
      "10/10 [==============================] - 10s 957ms/step - loss: 0.3955 - mean_squared_error: 0.8908 - val_loss: 0.3684 - val_mean_squared_error: 0.8192\n",
      "Epoch 3/100\n",
      "10/10 [==============================] - ETA: 0s - loss: 0.3622 - mean_squared_error: 0.8045\n",
      "Epoch 3: val_loss improved from 0.36843 to 0.33410, saving model to best_model_GRU_MultiVariate_Std_Scaler.h5\n",
      "10/10 [==============================] - 10s 960ms/step - loss: 0.3622 - mean_squared_error: 0.8045 - val_loss: 0.3341 - val_mean_squared_error: 0.7334\n",
      "Epoch 4/100\n",
      "10/10 [==============================] - ETA: 0s - loss: 0.3188 - mean_squared_error: 0.6962\n",
      "Epoch 4: val_loss improved from 0.33410 to 0.29130, saving model to best_model_GRU_MultiVariate_Std_Scaler.h5\n",
      "10/10 [==============================] - 10s 1s/step - loss: 0.3188 - mean_squared_error: 0.6962 - val_loss: 0.2913 - val_mean_squared_error: 0.6292\n",
      "Epoch 5/100\n",
      "10/10 [==============================] - ETA: 0s - loss: 0.2670 - mean_squared_error: 0.5715\n",
      "Epoch 5: val_loss improved from 0.29130 to 0.25114, saving model to best_model_GRU_MultiVariate_Std_Scaler.h5\n",
      "10/10 [==============================] - 11s 1s/step - loss: 0.2670 - mean_squared_error: 0.5715 - val_loss: 0.2511 - val_mean_squared_error: 0.5333\n",
      "Epoch 6/100\n",
      "10/10 [==============================] - ETA: 0s - loss: 0.2205 - mean_squared_error: 0.4628\n",
      "Epoch 6: val_loss improved from 0.25114 to 0.22478, saving model to best_model_GRU_MultiVariate_Std_Scaler.h5\n",
      "10/10 [==============================] - 10s 1s/step - loss: 0.2205 - mean_squared_error: 0.4628 - val_loss: 0.2248 - val_mean_squared_error: 0.4720\n",
      "Epoch 7/100\n",
      "10/10 [==============================] - ETA: 0s - loss: 0.1882 - mean_squared_error: 0.3908\n",
      "Epoch 7: val_loss improved from 0.22478 to 0.20694, saving model to best_model_GRU_MultiVariate_Std_Scaler.h5\n",
      "10/10 [==============================] - 10s 1s/step - loss: 0.1882 - mean_squared_error: 0.3908 - val_loss: 0.2069 - val_mean_squared_error: 0.4324\n",
      "Epoch 8/100\n",
      "10/10 [==============================] - ETA: 0s - loss: 0.1678 - mean_squared_error: 0.3474\n",
      "Epoch 8: val_loss improved from 0.20694 to 0.19445, saving model to best_model_GRU_MultiVariate_Std_Scaler.h5\n",
      "10/10 [==============================] - 11s 1s/step - loss: 0.1678 - mean_squared_error: 0.3474 - val_loss: 0.1945 - val_mean_squared_error: 0.4049\n",
      "Epoch 9/100\n",
      "10/10 [==============================] - ETA: 0s - loss: 0.1554 - mean_squared_error: 0.3210\n",
      "Epoch 9: val_loss improved from 0.19445 to 0.18366, saving model to best_model_GRU_MultiVariate_Std_Scaler.h5\n",
      "10/10 [==============================] - 11s 1s/step - loss: 0.1554 - mean_squared_error: 0.3210 - val_loss: 0.1837 - val_mean_squared_error: 0.3810\n",
      "Epoch 10/100\n",
      "10/10 [==============================] - ETA: 0s - loss: 0.1478 - mean_squared_error: 0.3053\n",
      "Epoch 10: val_loss improved from 0.18366 to 0.17526, saving model to best_model_GRU_MultiVariate_Std_Scaler.h5\n",
      "10/10 [==============================] - 12s 1s/step - loss: 0.1478 - mean_squared_error: 0.3053 - val_loss: 0.1753 - val_mean_squared_error: 0.3624\n",
      "Epoch 11/100\n",
      "10/10 [==============================] - ETA: 0s - loss: 0.1430 - mean_squared_error: 0.2958\n",
      "Epoch 11: val_loss improved from 0.17526 to 0.17124, saving model to best_model_GRU_MultiVariate_Std_Scaler.h5\n",
      "10/10 [==============================] - 11s 1s/step - loss: 0.1430 - mean_squared_error: 0.2958 - val_loss: 0.1712 - val_mean_squared_error: 0.3535\n",
      "Epoch 12/100\n",
      "10/10 [==============================] - ETA: 0s - loss: 0.1402 - mean_squared_error: 0.2901\n",
      "Epoch 12: val_loss improved from 0.17124 to 0.16635, saving model to best_model_GRU_MultiVariate_Std_Scaler.h5\n",
      "10/10 [==============================] - 11s 1s/step - loss: 0.1402 - mean_squared_error: 0.2901 - val_loss: 0.1663 - val_mean_squared_error: 0.3429\n",
      "Epoch 13/100\n",
      "10/10 [==============================] - ETA: 0s - loss: 0.1364 - mean_squared_error: 0.2817\n",
      "Epoch 13: val_loss improved from 0.16635 to 0.16452, saving model to best_model_GRU_MultiVariate_Std_Scaler.h5\n",
      "10/10 [==============================] - 14s 1s/step - loss: 0.1364 - mean_squared_error: 0.2817 - val_loss: 0.1645 - val_mean_squared_error: 0.3392\n",
      "Epoch 14/100\n",
      "10/10 [==============================] - ETA: 0s - loss: 0.1340 - mean_squared_error: 0.2766\n",
      "Epoch 14: val_loss improved from 0.16452 to 0.16228, saving model to best_model_GRU_MultiVariate_Std_Scaler.h5\n",
      "10/10 [==============================] - 12s 1s/step - loss: 0.1340 - mean_squared_error: 0.2766 - val_loss: 0.1623 - val_mean_squared_error: 0.3343\n",
      "Epoch 15/100\n",
      "10/10 [==============================] - ETA: 0s - loss: 0.1322 - mean_squared_error: 0.2732\n",
      "Epoch 15: val_loss improved from 0.16228 to 0.15873, saving model to best_model_GRU_MultiVariate_Std_Scaler.h5\n",
      "10/10 [==============================] - 14s 1s/step - loss: 0.1322 - mean_squared_error: 0.2732 - val_loss: 0.1587 - val_mean_squared_error: 0.3265\n",
      "Epoch 16/100\n",
      "10/10 [==============================] - ETA: 0s - loss: 0.1305 - mean_squared_error: 0.2698\n",
      "Epoch 16: val_loss improved from 0.15873 to 0.15824, saving model to best_model_GRU_MultiVariate_Std_Scaler.h5\n",
      "10/10 [==============================] - 14s 1s/step - loss: 0.1305 - mean_squared_error: 0.2698 - val_loss: 0.1582 - val_mean_squared_error: 0.3254\n",
      "Epoch 17/100\n",
      "10/10 [==============================] - ETA: 0s - loss: 0.1289 - mean_squared_error: 0.2660\n",
      "Epoch 17: val_loss improved from 0.15824 to 0.15540, saving model to best_model_GRU_MultiVariate_Std_Scaler.h5\n",
      "10/10 [==============================] - 14s 1s/step - loss: 0.1289 - mean_squared_error: 0.2660 - val_loss: 0.1554 - val_mean_squared_error: 0.3191\n",
      "Epoch 18/100\n",
      "10/10 [==============================] - ETA: 0s - loss: 0.1269 - mean_squared_error: 0.2620\n",
      "Epoch 18: val_loss improved from 0.15540 to 0.15345, saving model to best_model_GRU_MultiVariate_Std_Scaler.h5\n",
      "10/10 [==============================] - 14s 1s/step - loss: 0.1269 - mean_squared_error: 0.2620 - val_loss: 0.1535 - val_mean_squared_error: 0.3150\n",
      "Epoch 19/100\n",
      "10/10 [==============================] - ETA: 0s - loss: 0.1254 - mean_squared_error: 0.2585\n",
      "Epoch 19: val_loss improved from 0.15345 to 0.15190, saving model to best_model_GRU_MultiVariate_Std_Scaler.h5\n",
      "10/10 [==============================] - 14s 1s/step - loss: 0.1254 - mean_squared_error: 0.2585 - val_loss: 0.1519 - val_mean_squared_error: 0.3118\n",
      "Epoch 20/100\n",
      "10/10 [==============================] - ETA: 0s - loss: 0.1237 - mean_squared_error: 0.2552\n",
      "Epoch 20: val_loss improved from 0.15190 to 0.15062, saving model to best_model_GRU_MultiVariate_Std_Scaler.h5\n",
      "10/10 [==============================] - 14s 1s/step - loss: 0.1237 - mean_squared_error: 0.2552 - val_loss: 0.1506 - val_mean_squared_error: 0.3092\n",
      "Epoch 21/100\n",
      "10/10 [==============================] - ETA: 0s - loss: 0.1223 - mean_squared_error: 0.2520\n",
      "Epoch 21: val_loss improved from 0.15062 to 0.14913, saving model to best_model_GRU_MultiVariate_Std_Scaler.h5\n",
      "10/10 [==============================] - 14s 1s/step - loss: 0.1223 - mean_squared_error: 0.2520 - val_loss: 0.1491 - val_mean_squared_error: 0.3058\n",
      "Epoch 22/100\n",
      "10/10 [==============================] - ETA: 0s - loss: 0.1204 - mean_squared_error: 0.2481\n",
      "Epoch 22: val_loss did not improve from 0.14913\n",
      "10/10 [==============================] - 15s 1s/step - loss: 0.1204 - mean_squared_error: 0.2481 - val_loss: 0.1494 - val_mean_squared_error: 0.3062\n",
      "Epoch 23/100\n",
      "10/10 [==============================] - ETA: 0s - loss: 0.1192 - mean_squared_error: 0.2455\n",
      "Epoch 23: val_loss improved from 0.14913 to 0.14779, saving model to best_model_GRU_MultiVariate_Std_Scaler.h5\n",
      "10/10 [==============================] - 15s 2s/step - loss: 0.1192 - mean_squared_error: 0.2455 - val_loss: 0.1478 - val_mean_squared_error: 0.3025\n"
     ]
    },
    {
     "name": "stdout",
     "output_type": "stream",
     "text": [
      "Epoch 24/100\n",
      "10/10 [==============================] - ETA: 0s - loss: 0.1181 - mean_squared_error: 0.2434\n",
      "Epoch 24: val_loss improved from 0.14779 to 0.14398, saving model to best_model_GRU_MultiVariate_Std_Scaler.h5\n",
      "10/10 [==============================] - 15s 1s/step - loss: 0.1181 - mean_squared_error: 0.2434 - val_loss: 0.1440 - val_mean_squared_error: 0.2943\n",
      "Epoch 25/100\n",
      "10/10 [==============================] - ETA: 0s - loss: 0.1169 - mean_squared_error: 0.2413\n",
      "Epoch 25: val_loss improved from 0.14398 to 0.14129, saving model to best_model_GRU_MultiVariate_Std_Scaler.h5\n",
      "10/10 [==============================] - 14s 1s/step - loss: 0.1169 - mean_squared_error: 0.2413 - val_loss: 0.1413 - val_mean_squared_error: 0.2887\n",
      "Epoch 26/100\n",
      "10/10 [==============================] - ETA: 0s - loss: 0.1158 - mean_squared_error: 0.2389\n",
      "Epoch 26: val_loss improved from 0.14129 to 0.13989, saving model to best_model_GRU_MultiVariate_Std_Scaler.h5\n",
      "10/10 [==============================] - 14s 1s/step - loss: 0.1158 - mean_squared_error: 0.2389 - val_loss: 0.1399 - val_mean_squared_error: 0.2858\n",
      "Epoch 27/100\n",
      "10/10 [==============================] - ETA: 0s - loss: 0.1130 - mean_squared_error: 0.2327\n",
      "Epoch 27: val_loss did not improve from 0.13989\n",
      "10/10 [==============================] - 14s 1s/step - loss: 0.1130 - mean_squared_error: 0.2327 - val_loss: 0.1423 - val_mean_squared_error: 0.2912\n",
      "Epoch 28/100\n",
      "10/10 [==============================] - ETA: 0s - loss: 0.1121 - mean_squared_error: 0.2306\n",
      "Epoch 28: val_loss did not improve from 0.13989\n",
      "10/10 [==============================] - 15s 1s/step - loss: 0.1121 - mean_squared_error: 0.2306 - val_loss: 0.1404 - val_mean_squared_error: 0.2871\n",
      "Epoch 29/100\n",
      "10/10 [==============================] - ETA: 0s - loss: 0.1107 - mean_squared_error: 0.2278\n",
      "Epoch 29: val_loss improved from 0.13989 to 0.13804, saving model to best_model_GRU_MultiVariate_Std_Scaler.h5\n",
      "10/10 [==============================] - 13s 1s/step - loss: 0.1107 - mean_squared_error: 0.2278 - val_loss: 0.1380 - val_mean_squared_error: 0.2823\n",
      "Epoch 30/100\n",
      "10/10 [==============================] - ETA: 0s - loss: 0.1099 - mean_squared_error: 0.2265\n",
      "Epoch 30: val_loss improved from 0.13804 to 0.13646, saving model to best_model_GRU_MultiVariate_Std_Scaler.h5\n",
      "10/10 [==============================] - 13s 1s/step - loss: 0.1099 - mean_squared_error: 0.2265 - val_loss: 0.1365 - val_mean_squared_error: 0.2787\n",
      "Epoch 31/100\n",
      "10/10 [==============================] - ETA: 0s - loss: 0.1078 - mean_squared_error: 0.2219\n",
      "Epoch 31: val_loss improved from 0.13646 to 0.13539, saving model to best_model_GRU_MultiVariate_Std_Scaler.h5\n",
      "10/10 [==============================] - 13s 1s/step - loss: 0.1078 - mean_squared_error: 0.2219 - val_loss: 0.1354 - val_mean_squared_error: 0.2767\n",
      "Epoch 32/100\n",
      "10/10 [==============================] - ETA: 0s - loss: 0.1069 - mean_squared_error: 0.2200\n",
      "Epoch 32: val_loss improved from 0.13539 to 0.13383, saving model to best_model_GRU_MultiVariate_Std_Scaler.h5\n",
      "10/10 [==============================] - 14s 1s/step - loss: 0.1069 - mean_squared_error: 0.2200 - val_loss: 0.1338 - val_mean_squared_error: 0.2733\n",
      "Epoch 33/100\n",
      "10/10 [==============================] - ETA: 0s - loss: 0.1069 - mean_squared_error: 0.2200\n",
      "Epoch 33: val_loss did not improve from 0.13383\n",
      "10/10 [==============================] - 13s 1s/step - loss: 0.1069 - mean_squared_error: 0.2200 - val_loss: 0.1347 - val_mean_squared_error: 0.2748\n",
      "Epoch 34/100\n",
      "10/10 [==============================] - ETA: 0s - loss: 0.1062 - mean_squared_error: 0.2186\n",
      "Epoch 34: val_loss improved from 0.13383 to 0.13263, saving model to best_model_GRU_MultiVariate_Std_Scaler.h5\n",
      "10/10 [==============================] - 13s 1s/step - loss: 0.1062 - mean_squared_error: 0.2186 - val_loss: 0.1326 - val_mean_squared_error: 0.2708\n",
      "Epoch 35/100\n",
      "10/10 [==============================] - ETA: 0s - loss: 0.1045 - mean_squared_error: 0.2152\n",
      "Epoch 35: val_loss improved from 0.13263 to 0.13132, saving model to best_model_GRU_MultiVariate_Std_Scaler.h5\n",
      "10/10 [==============================] - 14s 1s/step - loss: 0.1045 - mean_squared_error: 0.2152 - val_loss: 0.1313 - val_mean_squared_error: 0.2683\n",
      "Epoch 36/100\n",
      "10/10 [==============================] - ETA: 0s - loss: 0.1030 - mean_squared_error: 0.2116\n",
      "Epoch 36: val_loss did not improve from 0.13132\n",
      "10/10 [==============================] - 13s 1s/step - loss: 0.1030 - mean_squared_error: 0.2116 - val_loss: 0.1326 - val_mean_squared_error: 0.2713\n",
      "Epoch 37/100\n",
      "10/10 [==============================] - ETA: 0s - loss: 0.1028 - mean_squared_error: 0.2113\n",
      "Epoch 37: val_loss did not improve from 0.13132\n",
      "10/10 [==============================] - 13s 1s/step - loss: 0.1028 - mean_squared_error: 0.2113 - val_loss: 0.1326 - val_mean_squared_error: 0.2716\n",
      "Epoch 38/100\n",
      "10/10 [==============================] - ETA: 0s - loss: 0.1022 - mean_squared_error: 0.2105\n",
      "Epoch 38: val_loss improved from 0.13132 to 0.13035, saving model to best_model_GRU_MultiVariate_Std_Scaler.h5\n",
      "10/10 [==============================] - 14s 1s/step - loss: 0.1022 - mean_squared_error: 0.2105 - val_loss: 0.1303 - val_mean_squared_error: 0.2667\n",
      "Epoch 39/100\n",
      "10/10 [==============================] - ETA: 0s - loss: 0.1009 - mean_squared_error: 0.2075\n",
      "Epoch 39: val_loss did not improve from 0.13035\n",
      "10/10 [==============================] - 13s 1s/step - loss: 0.1009 - mean_squared_error: 0.2075 - val_loss: 0.1308 - val_mean_squared_error: 0.2677\n",
      "Epoch 40/100\n",
      "10/10 [==============================] - ETA: 0s - loss: 0.1003 - mean_squared_error: 0.2062\n",
      "Epoch 40: val_loss improved from 0.13035 to 0.12856, saving model to best_model_GRU_MultiVariate_Std_Scaler.h5\n",
      "10/10 [==============================] - 13s 1s/step - loss: 0.1003 - mean_squared_error: 0.2062 - val_loss: 0.1286 - val_mean_squared_error: 0.2627\n",
      "Epoch 41/100\n",
      "10/10 [==============================] - ETA: 0s - loss: 0.0995 - mean_squared_error: 0.2045\n",
      "Epoch 41: val_loss improved from 0.12856 to 0.12854, saving model to best_model_GRU_MultiVariate_Std_Scaler.h5\n",
      "10/10 [==============================] - 14s 1s/step - loss: 0.0995 - mean_squared_error: 0.2045 - val_loss: 0.1285 - val_mean_squared_error: 0.2627\n",
      "Epoch 42/100\n",
      "10/10 [==============================] - ETA: 0s - loss: 0.0993 - mean_squared_error: 0.2040\n",
      "Epoch 42: val_loss improved from 0.12854 to 0.12666, saving model to best_model_GRU_MultiVariate_Std_Scaler.h5\n",
      "10/10 [==============================] - 13s 1s/step - loss: 0.0993 - mean_squared_error: 0.2040 - val_loss: 0.1267 - val_mean_squared_error: 0.2586\n",
      "Epoch 43/100\n",
      "10/10 [==============================] - ETA: 0s - loss: 0.0987 - mean_squared_error: 0.2028\n",
      "Epoch 43: val_loss did not improve from 0.12666\n",
      "10/10 [==============================] - 13s 1s/step - loss: 0.0987 - mean_squared_error: 0.2028 - val_loss: 0.1271 - val_mean_squared_error: 0.2594\n",
      "Epoch 44/100\n",
      "10/10 [==============================] - ETA: 0s - loss: 0.0980 - mean_squared_error: 0.2012\n",
      "Epoch 44: val_loss did not improve from 0.12666\n",
      "10/10 [==============================] - 14s 1s/step - loss: 0.0980 - mean_squared_error: 0.2012 - val_loss: 0.1267 - val_mean_squared_error: 0.2587\n",
      "Epoch 45/100\n",
      "10/10 [==============================] - ETA: 0s - loss: 0.0977 - mean_squared_error: 0.2003\n",
      "Epoch 45: val_loss improved from 0.12666 to 0.12666, saving model to best_model_GRU_MultiVariate_Std_Scaler.h5\n",
      "10/10 [==============================] - 14s 1s/step - loss: 0.0977 - mean_squared_error: 0.2003 - val_loss: 0.1267 - val_mean_squared_error: 0.2584\n",
      "Epoch 46/100\n",
      "10/10 [==============================] - ETA: 0s - loss: 0.0981 - mean_squared_error: 0.2013\n",
      "Epoch 46: val_loss improved from 0.12666 to 0.12082, saving model to best_model_GRU_MultiVariate_Std_Scaler.h5\n",
      "10/10 [==============================] - 14s 1s/step - loss: 0.0981 - mean_squared_error: 0.2013 - val_loss: 0.1208 - val_mean_squared_error: 0.2460\n",
      "Epoch 47/100\n",
      "10/10 [==============================] - ETA: 0s - loss: 0.0973 - mean_squared_error: 0.2001\n",
      "Epoch 47: val_loss did not improve from 0.12082\n",
      "10/10 [==============================] - 13s 1s/step - loss: 0.0973 - mean_squared_error: 0.2001 - val_loss: 0.1225 - val_mean_squared_error: 0.2496\n"
     ]
    },
    {
     "name": "stdout",
     "output_type": "stream",
     "text": [
      "Epoch 48/100\n",
      "10/10 [==============================] - ETA: 0s - loss: 0.0968 - mean_squared_error: 0.1985\n",
      "Epoch 48: val_loss did not improve from 0.12082\n",
      "10/10 [==============================] - 14s 1s/step - loss: 0.0968 - mean_squared_error: 0.1985 - val_loss: 0.1275 - val_mean_squared_error: 0.2604\n",
      "Epoch 49/100\n",
      "10/10 [==============================] - ETA: 0s - loss: 0.0961 - mean_squared_error: 0.1971\n",
      "Epoch 49: val_loss did not improve from 0.12082\n",
      "10/10 [==============================] - 13s 1s/step - loss: 0.0961 - mean_squared_error: 0.1971 - val_loss: 0.1223 - val_mean_squared_error: 0.2492\n",
      "Epoch 50/100\n",
      "10/10 [==============================] - ETA: 0s - loss: 0.0957 - mean_squared_error: 0.1966\n",
      "Epoch 50: val_loss did not improve from 0.12082\n",
      "10/10 [==============================] - 13s 1s/step - loss: 0.0957 - mean_squared_error: 0.1966 - val_loss: 0.1228 - val_mean_squared_error: 0.2502\n",
      "Epoch 51/100\n",
      "10/10 [==============================] - ETA: 0s - loss: 0.0958 - mean_squared_error: 0.1964\n",
      "Epoch 51: val_loss did not improve from 0.12082\n",
      "10/10 [==============================] - 13s 1s/step - loss: 0.0958 - mean_squared_error: 0.1964 - val_loss: 0.1266 - val_mean_squared_error: 0.2584\n",
      "Epoch 52/100\n",
      "10/10 [==============================] - ETA: 0s - loss: 0.0951 - mean_squared_error: 0.1948\n",
      "Epoch 52: val_loss did not improve from 0.12082\n",
      "10/10 [==============================] - 14s 1s/step - loss: 0.0951 - mean_squared_error: 0.1948 - val_loss: 0.1247 - val_mean_squared_error: 0.2545\n",
      "Epoch 53/100\n",
      "10/10 [==============================] - ETA: 0s - loss: 0.0947 - mean_squared_error: 0.1943\n",
      "Epoch 53: val_loss did not improve from 0.12082\n",
      "10/10 [==============================] - 14s 1s/step - loss: 0.0947 - mean_squared_error: 0.1943 - val_loss: 0.1217 - val_mean_squared_error: 0.2479\n",
      "Epoch 54/100\n",
      "10/10 [==============================] - ETA: 0s - loss: 0.0939 - mean_squared_error: 0.1928\n",
      "Epoch 54: val_loss did not improve from 0.12082\n",
      "10/10 [==============================] - 14s 1s/step - loss: 0.0939 - mean_squared_error: 0.1928 - val_loss: 0.1240 - val_mean_squared_error: 0.2529\n",
      "Epoch 55/100\n",
      "10/10 [==============================] - ETA: 0s - loss: 0.0936 - mean_squared_error: 0.1918\n",
      "Epoch 55: val_loss did not improve from 0.12082\n",
      "10/10 [==============================] - 13s 1s/step - loss: 0.0936 - mean_squared_error: 0.1918 - val_loss: 0.1249 - val_mean_squared_error: 0.2550\n",
      "Epoch 56/100\n",
      "10/10 [==============================] - ETA: 0s - loss: 0.0942 - mean_squared_error: 0.1931\n",
      "Epoch 56: val_loss did not improve from 0.12082\n",
      "10/10 [==============================] - 13s 1s/step - loss: 0.0942 - mean_squared_error: 0.1931 - val_loss: 0.1244 - val_mean_squared_error: 0.2540\n",
      "Epoch 57/100\n",
      "10/10 [==============================] - ETA: 0s - loss: 0.0934 - mean_squared_error: 0.1913\n",
      "Epoch 57: val_loss did not improve from 0.12082\n",
      "10/10 [==============================] - 13s 1s/step - loss: 0.0934 - mean_squared_error: 0.1913 - val_loss: 0.1290 - val_mean_squared_error: 0.2637\n",
      "Epoch 58/100\n",
      "10/10 [==============================] - ETA: 0s - loss: 0.0941 - mean_squared_error: 0.1925\n",
      "Epoch 58: val_loss did not improve from 0.12082\n",
      "10/10 [==============================] - 14s 1s/step - loss: 0.0941 - mean_squared_error: 0.1925 - val_loss: 0.1280 - val_mean_squared_error: 0.2616\n",
      "Epoch 59/100\n",
      "10/10 [==============================] - ETA: 0s - loss: 0.0937 - mean_squared_error: 0.1918\n",
      "Epoch 59: val_loss did not improve from 0.12082\n",
      "10/10 [==============================] - 14s 1s/step - loss: 0.0937 - mean_squared_error: 0.1918 - val_loss: 0.1242 - val_mean_squared_error: 0.2534\n",
      "Epoch 60/100\n",
      "10/10 [==============================] - ETA: 0s - loss: 0.0933 - mean_squared_error: 0.1910\n",
      "Epoch 60: val_loss did not improve from 0.12082\n",
      "10/10 [==============================] - 13s 1s/step - loss: 0.0933 - mean_squared_error: 0.1910 - val_loss: 0.1260 - val_mean_squared_error: 0.2571\n",
      "Epoch 61/100\n",
      "10/10 [==============================] - ETA: 0s - loss: 0.0942 - mean_squared_error: 0.1933\n",
      "Epoch 61: val_loss did not improve from 0.12082\n",
      "10/10 [==============================] - 13s 1s/step - loss: 0.0942 - mean_squared_error: 0.1933 - val_loss: 0.1209 - val_mean_squared_error: 0.2465\n",
      "Epoch 62/100\n",
      "10/10 [==============================] - ETA: 0s - loss: 0.0930 - mean_squared_error: 0.1911\n",
      "Epoch 62: val_loss did not improve from 0.12082\n",
      "10/10 [==============================] - 14s 1s/step - loss: 0.0930 - mean_squared_error: 0.1911 - val_loss: 0.1225 - val_mean_squared_error: 0.2497\n",
      "Epoch 63/100\n",
      "10/10 [==============================] - ETA: 0s - loss: 0.0921 - mean_squared_error: 0.1887\n",
      "Epoch 63: val_loss did not improve from 0.12082\n",
      "10/10 [==============================] - 13s 1s/step - loss: 0.0921 - mean_squared_error: 0.1887 - val_loss: 0.1273 - val_mean_squared_error: 0.2601\n",
      "Epoch 64/100\n",
      "10/10 [==============================] - ETA: 0s - loss: 0.0919 - mean_squared_error: 0.1881\n",
      "Epoch 64: val_loss did not improve from 0.12082\n",
      "10/10 [==============================] - 13s 1s/step - loss: 0.0919 - mean_squared_error: 0.1881 - val_loss: 0.1270 - val_mean_squared_error: 0.2592\n",
      "Epoch 65/100\n",
      "10/10 [==============================] - ETA: 0s - loss: 0.0919 - mean_squared_error: 0.1882\n",
      "Epoch 65: val_loss did not improve from 0.12082\n",
      "10/10 [==============================] - 13s 1s/step - loss: 0.0919 - mean_squared_error: 0.1882 - val_loss: 0.1233 - val_mean_squared_error: 0.2515\n",
      "Epoch 66/100\n",
      "10/10 [==============================] - ETA: 0s - loss: 0.0914 - mean_squared_error: 0.1873\n",
      "Epoch 66: val_loss did not improve from 0.12082\n",
      "10/10 [==============================] - 13s 1s/step - loss: 0.0914 - mean_squared_error: 0.1873 - val_loss: 0.1238 - val_mean_squared_error: 0.2528\n",
      "Epoch 66: early stopping\n"
     ]
    }
   ],
   "source": [
    "history = model.fit(x=tra_data_sli,y=tra_lab, epochs=MAX_EPOCH, batch_size=BATCH_SIZE,validation_data=(val_data_sli, val_lab), verbose=1,callbacks=[model_chk,ear_stop])"
   ]
  },
  {
   "cell_type": "code",
   "execution_count": 32,
   "id": "253991b6",
   "metadata": {},
   "outputs": [
    {
     "name": "stdout",
     "output_type": "stream",
     "text": [
      "5/5 [==============================] - 5s 137ms/step\n"
     ]
    }
   ],
   "source": [
    "predict = model.predict(x=tes_data_sli)"
   ]
  },
  {
   "cell_type": "code",
   "execution_count": 34,
   "id": "c8eb2db9",
   "metadata": {},
   "outputs": [
    {
     "name": "stdout",
     "output_type": "stream",
     "text": [
      "Mean Squared Error is: 429303.1216250789\n",
      "Mean Absolute Error is: 504.4902294594169\n"
     ]
    }
   ],
   "source": [
    "prediction = test_scaler.inverse_transform(np.repeat(predict.flatten().reshape(-1,1),8,axis=1))\n",
    "grou_tru = test_scaler.inverse_transform(np.repeat(tes_lab.flatten().reshape(-1,1),8,axis=1))\n",
    "print(\"Mean Squared Error is: \" + str(mean_squared_error(grou_tru[:,0],prediction[:,0])))\n",
    "print(\"Mean Absolute Error is: \" + str(mean_absolute_error(grou_tru[:,0],prediction[:,0])))"
   ]
  },
  {
   "cell_type": "code",
   "execution_count": 35,
   "id": "ba376ba4",
   "metadata": {},
   "outputs": [
    {
     "data": {
      "text/plain": [
       "<matplotlib.legend.Legend at 0x17f0f525d30>"
      ]
     },
     "execution_count": 35,
     "metadata": {},
     "output_type": "execute_result"
    },
    {
     "data": {
      "image/png": "[encoded data removed]",
      "text/plain": [
       "<Figure size 432x288 with 1 Axes>"
      ]
     },
     "metadata": {
      "needs_background": "light"
     },
     "output_type": "display_data"
    }
   ],
   "source": [
    "plt.plot(history.history['val_loss'])\n",
    "plt.plot(history.history['loss'])\n",
    "plt.legend(['val_loss', 'loss'], loc='upper left')\n"
   ]
  },
  {
   "cell_type": "code",
   "execution_count": 38,
   "id": "d7638e41",
   "metadata": {},
   "outputs": [],
   "source": [
    "def plot_compare(pred,label,day):\n",
    "    label=label[:,0].reshape(-1,24)\n",
    "    pred=pred[:,0].reshape(-1,24)\n",
    "    plt.plot(np.arange(24),pred[day],label='GRU')\n",
    "    plt.plot(np.arange(24),label[day],label='actual')\n",
    "    plt.xlabel('Hour of Day')\n",
    "    plt.ylabel('Load (kW)')\n",
    "    plt.legend()\n",
    "    plt.plot()"
   ]
  },
  {
   "cell_type": "code",
   "execution_count": 39,
   "id": "1c6d6d9a",
   "metadata": {},
   "outputs": [
    {
     "data": {
      "image/png": "[encoded data removed]",
      "text/plain": [
       "<Figure size 432x288 with 1 Axes>"
      ]
     },
     "metadata": {
      "needs_background": "light"
     },
     "output_type": "display_data"
    }
   ],
   "source": [
    "plot_compare(prediction,grou_tru,15)"
   ]
  },
  {
   "cell_type": "code",
   "execution_count": null,
   "id": "4fdbe536",
   "metadata": {},
   "outputs": [],
   "source": []
  },
  {
   "cell_type": "code",
   "execution_count": null,
   "id": "2e1acfe3",
   "metadata": {},
   "outputs": [],
   "source": []
  },
  {
   "cell_type": "code",
   "execution_count": null,
   "id": "c00fce29",
   "metadata": {},
   "outputs": [],
   "source": []
  },
  {
   "cell_type": "code",
   "execution_count": null,
   "id": "c0adcbe4",
   "metadata": {},
   "outputs": [],
   "source": []
  },
  {
   "cell_type": "code",
   "execution_count": null,
   "id": "af21915d",
   "metadata": {},
   "outputs": [],
   "source": []
  },
  {
   "cell_type": "code",
   "execution_count": null,
   "id": "fafab128",
   "metadata": {},
   "outputs": [],
   "source": []
  },
  {
   "cell_type": "code",
   "execution_count": null,
   "id": "89c67ae6",
   "metadata": {},
   "outputs": [],
   "source": []
  },
  {
   "cell_type": "code",
   "execution_count": null,
   "id": "c3a2b63b",
   "metadata": {},
   "outputs": [],
   "source": []
  },
  {
   "cell_type": "code",
   "execution_count": null,
   "id": "bb525216",
   "metadata": {},
   "outputs": [],
   "source": []
  },
  {
   "cell_type": "code",
   "execution_count": null,
   "id": "ae41a9f1",
   "metadata": {},
   "outputs": [],
   "source": []
  },
  {
   "cell_type": "code",
   "execution_count": null,
   "id": "cb22c82e",
   "metadata": {},
   "outputs": [],
   "source": []
  },
  {
   "cell_type": "code",
   "execution_count": null,
   "id": "bec46675",
   "metadata": {},
   "outputs": [],
   "source": []
  },
  {
   "cell_type": "code",
   "execution_count": null,
   "id": "36c8f5ab",
   "metadata": {},
   "outputs": [],
   "source": []
  },
  {
   "cell_type": "code",
   "execution_count": null,
   "id": "962ca98f",
   "metadata": {},
   "outputs": [],
   "source": []
  },
  {
   "cell_type": "code",
   "execution_count": null,
   "id": "d0215342",
   "metadata": {},
   "outputs": [],
   "source": []
  },
  {
   "cell_type": "code",
   "execution_count": null,
   "id": "a2863ec4",
   "metadata": {},
   "outputs": [],
   "source": []
  },
  {
   "cell_type": "code",
   "execution_count": null,
   "id": "c0ab8087",
   "metadata": {},
   "outputs": [],
   "source": []
  },
  {
   "cell_type": "code",
   "execution_count": null,
   "id": "0da7f2ff",
   "metadata": {},
   "outputs": [],
   "source": []
  },
  {
   "cell_type": "code",
   "execution_count": null,
   "id": "26c165d8",
   "metadata": {},
   "outputs": [],
   "source": []
  },
  {
   "cell_type": "code",
   "execution_count": null,
   "id": "337ba0ac",
   "metadata": {},
   "outputs": [],
   "source": []
  },
  {
   "cell_type": "code",
   "execution_count": null,
   "id": "3bb8480f",
   "metadata": {},
   "outputs": [],
   "source": []
  },
  {
   "cell_type": "code",
   "execution_count": null,
   "id": "9efaf170",
   "metadata": {},
   "outputs": [],
   "source": []
  },
  {
   "cell_type": "code",
   "execution_count": null,
   "id": "a2e17a4a",
   "metadata": {},
   "outputs": [],
   "source": []
  },
  {
   "cell_type": "code",
   "execution_count": null,
   "id": "b77f4e03",
   "metadata": {},
   "outputs": [],
   "source": []
  },
  {
   "cell_type": "code",
   "execution_count": null,
   "id": "67d39ab9",
   "metadata": {},
   "outputs": [],
   "source": []
  },
  {
   "cell_type": "code",
   "execution_count": null,
   "id": "8ec8428c",
   "metadata": {},
   "outputs": [],
   "source": []
  },
  {
   "cell_type": "code",
   "execution_count": null,
   "id": "0848e00f",
   "metadata": {},
   "outputs": [],
   "source": []
  },
  {
   "cell_type": "code",
   "execution_count": null,
   "id": "cb880bc8",
   "metadata": {},
   "outputs": [],
   "source": []
  },
  {
   "cell_type": "code",
   "execution_count": null,
   "id": "17889ee4",
   "metadata": {},
   "outputs": [],
   "source": []
  },
  {
   "cell_type": "code",
   "execution_count": null,
   "id": "c76bd6dc",
   "metadata": {},
   "outputs": [],
   "source": []
  },
  {
   "cell_type": "code",
   "execution_count": null,
   "id": "7dc528eb",
   "metadata": {},
   "outputs": [],
   "source": []
  },
  {
   "cell_type": "code",
   "execution_count": null,
   "id": "8b98575c",
   "metadata": {},
   "outputs": [],
   "source": []
  },
  {
   "cell_type": "code",
   "execution_count": null,
   "id": "d00446ce",
   "metadata": {},
   "outputs": [],
   "source": []
  },
  {
   "cell_type": "code",
   "execution_count": null,
   "id": "78ba88e3",
   "metadata": {},
   "outputs": [],
   "source": []
  },
  {
   "cell_type": "code",
   "execution_count": null,
   "id": "9ef69640",
   "metadata": {},
   "outputs": [],
   "source": []
  },
  {
   "cell_type": "code",
   "execution_count": null,
   "id": "b24f8890",
   "metadata": {},
   "outputs": [],
   "source": []
  },
  {
   "cell_type": "code",
   "execution_count": null,
   "id": "57e603bc",
   "metadata": {},
   "outputs": [],
   "source": []
  }
 ],
 "metadata": {
  "kernelspec": {
   "display_name": "Python 3 (ipykernel)",
   "language": "python",
   "name": "python3"
  },
  "language_info": {
   "codemirror_mode": {
    "name": "ipython",
    "version": 3
   },
   "file_extension": ".py",
   "mimetype": "text/x-python",
   "name": "python",
   "nbconvert_exporter": "python",
   "pygments_lexer": "ipython3",
   "version": "3.9.12"
  }
 },
 "nbformat": 4,
 "nbformat_minor": 5
}
