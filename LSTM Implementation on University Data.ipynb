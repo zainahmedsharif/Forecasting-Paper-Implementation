{
 "cells": [
  {
   "cell_type": "code",
   "execution_count": 1,
   "id": "1fe17a8b",
   "metadata": {},
   "outputs": [],
   "source": [
    "import pandas as pd\n",
    "import numpy as np\n",
    "import tensorflow as tf \n",
    "from tensorflow import keras\n",
    "import pickle\n",
    "from sklearn.metrics import mean_squared_error\n",
    "from sklearn.metrics import mean_absolute_error\n",
    "import seaborn as sns \n",
    "import matplotlib.pyplot as plt\n",
    "from numpy.lib.stride_tricks import sliding_window_view\n",
    "import datetime as dt\n",
    "import random\n",
    "import os \n",
    "import h5py\n",
    "from sklearn.preprocessing import StandardScaler\n",
    "\n",
    "BATCH_SIZE = 128\n",
    "PATIENCE = 20\n",
    "MAX_EPOCH = 100\n",
    "TRAIN_STEPS = 168\n",
    "PREDICT_STEPS = 24\n",
    "WINDOW_SIZE = TRAIN_STEPS + PREDICT_STEPS \n",
    "\n"
   ]
  },
  {
   "cell_type": "code",
   "execution_count": 2,
   "id": "57e5d269",
   "metadata": {},
   "outputs": [],
   "source": [
    "FILE_DIR = 'C:\\\\Users\\\\Zain Ahmed\\\\Desktop\\\\Literature review\\\\Project Folder\\\\Data.xlsx'\n"
   ]
  },
  {
   "cell_type": "markdown",
   "id": "4cb35c9f",
   "metadata": {},
   "source": [
    "# Loading the data from execl file"
   ]
  },
  {
   "cell_type": "code",
   "execution_count": 3,
   "id": "66d8867c",
   "metadata": {},
   "outputs": [],
   "source": [
    "data = pd.read_excel(FILE_DIR)\n",
    "data['Time']=data['Time'].astype(int)-1\n",
    "data = data.loc[:,('DATE','Time',' Load(KW)   ','Temp (°C)','Dew Point Temp (°C)','Rel Hum (%)','Wind Dir (10s deg)','Wind Spd (km/h)','Visibility (km)','Stn Press (kPa)')]\n",
    "data['datetime'] = data['DATE'].astype('str') + '-' + data['Time'].astype('str')\n",
    "data['datetime']=pd.to_datetime(data['datetime'],format='%Y-%m-%d-%H')\n",
    "#data['is_weekday'] = (data['datetime'].dt.weekday<=5).astype('int')\n",
    "#data['month'] = (data['datetime']).dt.month\n",
    "data = data.set_index('datetime')\n",
    "data = data.drop(columns=['DATE','Time'])\n",
    "#data['datetime']=pd.to_datetime(data['datetime'],format='%Y-%m-%d-%H')\n"
   ]
  },
  {
   "cell_type": "markdown",
   "id": "1354109b",
   "metadata": {},
   "source": [
    "# Keeping DATE,Time and Load Columns Only \n",
    "# Also keeping daily hours between 0-23"
   ]
  },
  {
   "cell_type": "code",
   "execution_count": 4,
   "id": "69ad8fbc",
   "metadata": {},
   "outputs": [],
   "source": [
    "#data = data.loc[:,('DATE','Time',' Load(KW)   ')]\n",
    "#DROPPING WIND CHILL DUE TO HIGH NANs\n",
    "#data = data.loc[:,('DATE','Time',' Load(KW)   ','Temp (°C)','Dew Point Temp (°C)','Rel Hum (%)','Wind Dir (10s deg)','Wind Spd (km/h)','Visibility (km)','Stn Press (kPa)')]"
   ]
  },
  {
   "cell_type": "markdown",
   "id": "764631f9",
   "metadata": {},
   "source": [
    "# Concatenate Date and Time"
   ]
  },
  {
   "cell_type": "code",
   "execution_count": 5,
   "id": "746ef898",
   "metadata": {},
   "outputs": [],
   "source": [
    "#data['datetime'] = data['DATE'].astype('str') + '-' + data['Time'].astype('str')"
   ]
  },
  {
   "cell_type": "code",
   "execution_count": 6,
   "id": "00c8869f",
   "metadata": {},
   "outputs": [],
   "source": [
    "#data['datetime']=pd.to_datetime(data['datetime'],format='%Y-%m-%d-%H')"
   ]
  },
  {
   "cell_type": "code",
   "execution_count": 7,
   "id": "cf857e85",
   "metadata": {},
   "outputs": [],
   "source": [
    "#data = data.set_index('datetime')"
   ]
  },
  {
   "cell_type": "code",
   "execution_count": 8,
   "id": "b4903309",
   "metadata": {},
   "outputs": [],
   "source": [
    "#data = data.drop(columns=['DATE','Time'])"
   ]
  },
  {
   "cell_type": "code",
   "execution_count": 9,
   "id": "97fb057a",
   "metadata": {},
   "outputs": [
    {
     "name": "stdout",
     "output_type": "stream",
     "text": [
      "The number of breaks in the data are 3 which is 0.0081 percent of the total data\n"
     ]
    }
   ],
   "source": [
    "num_of_bre = (data.asfreq(freq='1H').shape[0]) - (data.shape[0])\n",
    "percen = ((num_of_bre)/data.shape[0])*100\n",
    "print('The number of breaks in the data are {} which is {:0.2} percent of the total data'.format(num_of_bre,percen))"
   ]
  },
  {
   "cell_type": "markdown",
   "id": "74f8e982",
   "metadata": {},
   "source": [
    "# We will ensure the continuity of the data"
   ]
  },
  {
   "cell_type": "code",
   "execution_count": 10,
   "id": "cb73c2a3",
   "metadata": {},
   "outputs": [],
   "source": [
    "#num_of_bre = (data.asfreq(freq='1H').shape[0]) - (data.shape[0])\n",
    "#percen = ((num_of_bre)/data.shape[0])*100\n",
    "#print('The number of breaks in the data are {} which is {:0.2} percent of the total data'.format(num_of_bre,percen))"
   ]
  },
  {
   "cell_type": "markdown",
   "id": "5ee6de35",
   "metadata": {},
   "source": [
    "# Make the data continous "
   ]
  },
  {
   "cell_type": "code",
   "execution_count": 11,
   "id": "5b250c55",
   "metadata": {},
   "outputs": [],
   "source": [
    "data = data.asfreq(freq='1H')"
   ]
  },
  {
   "cell_type": "code",
   "execution_count": 12,
   "id": "8667cf5e",
   "metadata": {},
   "outputs": [],
   "source": [
    "#data = data.asfreq(freq='1H')"
   ]
  },
  {
   "cell_type": "code",
   "execution_count": 13,
   "id": "53f60a42",
   "metadata": {},
   "outputs": [
    {
     "data": {
      "text/plain": [
       "<AxesSubplot:xlabel='datetime'>"
      ]
     },
     "execution_count": 13,
     "metadata": {},
     "output_type": "execute_result"
    },
    {
     "data": {
      "image/png": "[encoded data removed]",
      "text/plain": [
       "<Figure size 432x288 with 1 Axes>"
      ]
     },
     "metadata": {
      "needs_background": "light"
     },
     "output_type": "display_data"
    }
   ],
   "source": [
    "data.plot(y=' Load(KW)   ')"
   ]
  },
  {
   "cell_type": "code",
   "execution_count": 14,
   "id": "b8e79530",
   "metadata": {},
   "outputs": [
    {
     "data": {
      "text/plain": [
       "(37224, 8)"
      ]
     },
     "execution_count": 14,
     "metadata": {},
     "output_type": "execute_result"
    }
   ],
   "source": [
    "data.shape"
   ]
  },
  {
   "cell_type": "markdown",
   "id": "5165aaf7",
   "metadata": {},
   "source": [
    "# We will divide our data in train, validation and test sets "
   ]
  },
  {
   "cell_type": "code",
   "execution_count": 15,
   "id": "71ec559c",
   "metadata": {},
   "outputs": [],
   "source": [
    "tr_id = int((data.shape[0]*0.75)/24)*24\n",
    "val_id = int((data.shape[0]*0.90)/24)*24\n",
    "tra_data = data.iloc[:tr_id,:]\n",
    "val_data = data.iloc[tr_id:val_id,:]\n",
    "tes_data = data.iloc[val_id:,:]"
   ]
  },
  {
   "cell_type": "code",
   "execution_count": 16,
   "id": "4be6d4bc",
   "metadata": {},
   "outputs": [
    {
     "data": {
      "text/plain": [
       "27912"
      ]
     },
     "execution_count": 16,
     "metadata": {},
     "output_type": "execute_result"
    }
   ],
   "source": [
    "tr_id"
   ]
  },
  {
   "cell_type": "markdown",
   "id": "9aba52d7",
   "metadata": {},
   "source": [
    "# Now we will write the proprocessing function"
   ]
  },
  {
   "cell_type": "code",
   "execution_count": 17,
   "id": "25a06c94",
   "metadata": {},
   "outputs": [],
   "source": [
    "def pre_process(sample):\n",
    "    '''\n",
    "    Takes a dataframe and \n",
    "            \n",
    "    - replaces NA values by forward filling\n",
    "    \n",
    "    '''\n",
    "    ## Use the below line of code to sample data based on hours \n",
    "    ##sample = sample[(sample.index.dayofweek<5) & ((of_da_fi.index.hour>4) & (of_da_fi.index.hour<19))]\n",
    "    \n",
    "    #using forward filling method to fill the missing data \n",
    "        \n",
    "    sample = sample.fillna(method='ffill')\n",
    "    \n",
    "    ## This line of code checks for NA values \n",
    "    \n",
    "    check_na = int(sample.isnull().sum().sum())\n",
    "    \n",
    "    print('There are {} NA values in the dataframe'.format(check_na))\n",
    "    \n",
    "    #plt.figure(figsize=(3,3))\n",
    "    \n",
    "    #sns.violinplot(data=sample)\n",
    "    \n",
    "    #plt.xticks(rotation=90)\n",
    "        \n",
    "    return sample"
   ]
  },
  {
   "cell_type": "code",
   "execution_count": 18,
   "id": "e5ac0169",
   "metadata": {},
   "outputs": [
    {
     "name": "stdout",
     "output_type": "stream",
     "text": [
      "There are 0 NA values in the dataframe\n"
     ]
    }
   ],
   "source": [
    "train_data = pre_process(tra_data)\n"
   ]
  },
  {
   "cell_type": "code",
   "execution_count": 19,
   "id": "234a624c",
   "metadata": {},
   "outputs": [
    {
     "name": "stdout",
     "output_type": "stream",
     "text": [
      "There are 0 NA values in the dataframe\n"
     ]
    }
   ],
   "source": [
    "vali_data = pre_process(val_data)\n"
   ]
  },
  {
   "cell_type": "code",
   "execution_count": 20,
   "id": "2fbeb1a2",
   "metadata": {},
   "outputs": [
    {
     "name": "stdout",
     "output_type": "stream",
     "text": [
      "There are 0 NA values in the dataframe\n"
     ]
    }
   ],
   "source": [
    "test_data = pre_process(tes_data)"
   ]
  },
  {
   "cell_type": "code",
   "execution_count": 21,
   "id": "66e9eeb9",
   "metadata": {},
   "outputs": [
    {
     "data": {
      "text/plain": [
       " Load(KW)              0\n",
       "Temp (°C)              0\n",
       "Dew Point Temp (°C)    0\n",
       "Rel Hum (%)            0\n",
       "Wind Dir (10s deg)     0\n",
       "Wind Spd (km/h)        0\n",
       "Visibility (km)        0\n",
       "Stn Press (kPa)        0\n",
       "dtype: int64"
      ]
     },
     "execution_count": 21,
     "metadata": {},
     "output_type": "execute_result"
    }
   ],
   "source": [
    "tes_data.fillna(method='ffill').isnull().sum()"
   ]
  },
  {
   "cell_type": "markdown",
   "id": "0a53925d",
   "metadata": {},
   "source": [
    "# Rolling window function "
   ]
  },
  {
   "cell_type": "code",
   "execution_count": 22,
   "id": "bfa201b2",
   "metadata": {},
   "outputs": [],
   "source": [
    "def rolling_window(array_data,input_size,output_size,offset):\n",
    "    '''\n",
    "    The function takes a series array_data of size (size,) \n",
    "\n",
    "    and generates\n",
    "    \n",
    "    a array of size (input_size,((array_size-(input_size+output_size)/stride)+1)) as inputs \n",
    "    \n",
    "    and array of size (array_size-(input_size+output_size)/stride)+1)as output \n",
    "    \n",
    "    '''\n",
    "        \n",
    "    # Normalizing the dataset\n",
    "        \n",
    "    scaler = StandardScaler()\n",
    "    \n",
    "    scaler = scaler.fit(array_data)\n",
    "    \n",
    "    array_data = scaler.transform(array_data)\n",
    "    \n",
    "#     lab_data = array_data[:,0]\n",
    "    \n",
    "#     for i in range(input_size,len(array_data)-output_size+1,offset):\n",
    "            \n",
    "#             data.append(array_data[i-input_size:i,0:array_data.shape[1]])\n",
    "    \n",
    "#             labels.append(lab_data[i:i+output_size])\n",
    "\n",
    "        \n",
    "    data_idx = sliding_window_view(np.arange(array_data.shape[0]).reshape(-1),window_shape=input_size)[::offset][:-1]\n",
    "    \n",
    "    data = array_data[data_idx]\n",
    "\n",
    "    labels = sliding_window_view(array_data[input_size:,0].reshape(-1),window_shape=output_size)[::offset]\n",
    "\n",
    "    \n",
    "    assert data.shape[0] == labels.shape[0],\"Training rows and labels are unequal\"    \n",
    "    \n",
    "#    if output_size == offset:\n",
    "        \n",
    "#        ra_in = random.randint(0,data.shape[0]-2) \n",
    "        \n",
    "#        a = data[ra_in+1,-offset:]\n",
    "        \n",
    "#        b = labels[ra_in]\n",
    "        \n",
    "#        np.alltrue(a == b)\n",
    "    \n",
    "#    data = np.expand_dims(data,axis=2)\n",
    "    \n",
    "#    labels = np.expand_dims(labels,axis=2)\n",
    "    \n",
    "#    data = np.array(data)\n",
    "    \n",
    "#    labels = np.array(labels)\n",
    "        \n",
    "    return data,labels,scaler,array_data"
   ]
  },
  {
   "cell_type": "markdown",
   "id": "92814007",
   "metadata": {},
   "source": [
    "# We will use the rolling window of size 168 and output window of size 24"
   ]
  },
  {
   "cell_type": "code",
   "execution_count": 23,
   "id": "7d0388c9",
   "metadata": {},
   "outputs": [],
   "source": [
    "tra_data_sli,tra_lab,tra_sca,tra_stan = rolling_window(train_data,input_size=TRAIN_STEPS,output_size=24,offset=24)\n",
    "val_data_sli,val_lab,val_sca,val_stan = rolling_window(vali_data,input_size=TRAIN_STEPS,output_size=24,offset=24)\n",
    "tes_data_sli,tes_lab,test_scaler,tes_stan = rolling_window(test_data,input_size=TRAIN_STEPS,output_size=24,offset=24)"
   ]
  },
  {
   "cell_type": "code",
   "execution_count": 24,
   "id": "744e66d0",
   "metadata": {},
   "outputs": [],
   "source": [
    "np.save('tra_data_sli',tra_data_sli)\n",
    "np.save('val_data_sli',val_data_sli)\n",
    "np.save('tes_data_sli',tes_data_sli)\n",
    "np.save('tra_lab',tra_lab)\n",
    "np.save('val_lab',val_lab)\n",
    "np.save('tes_lab',tes_lab)"
   ]
  },
  {
   "cell_type": "markdown",
   "id": "ba03cfa6",
   "metadata": {},
   "source": [
    "# We will now focus on network architecture Implementation"
   ]
  },
  {
   "cell_type": "code",
   "execution_count": 25,
   "id": "a0832752",
   "metadata": {},
   "outputs": [
    {
     "name": "stdout",
     "output_type": "stream",
     "text": [
      "Number of training samples are 1156\n",
      "Number of validation samples are 225\n",
      "Number of test samples are 149\n"
     ]
    }
   ],
   "source": [
    "print(\"Number of training samples are {}\".format(tra_data_sli.shape[0]))\n",
    "print(\"Number of validation samples are {}\".format(val_data_sli.shape[0]))\n",
    "print(\"Number of test samples are {}\".format(tes_data_sli.shape[0]))"
   ]
  },
  {
   "cell_type": "code",
   "execution_count": 26,
   "id": "3e776a50",
   "metadata": {},
   "outputs": [
    {
     "data": {
      "text/plain": [
       "(1156, 24)"
      ]
     },
     "execution_count": 26,
     "metadata": {},
     "output_type": "execute_result"
    }
   ],
   "source": [
    "tra_lab.shape"
   ]
  },
  {
   "cell_type": "code",
   "execution_count": 27,
   "id": "9454561c",
   "metadata": {},
   "outputs": [
    {
     "data": {
      "text/plain": [
       "(1156, 168, 8)"
      ]
     },
     "execution_count": 27,
     "metadata": {},
     "output_type": "execute_result"
    }
   ],
   "source": [
    "tra_data_sli.shape"
   ]
  },
  {
   "cell_type": "code",
   "execution_count": 28,
   "id": "c95d33bd",
   "metadata": {},
   "outputs": [],
   "source": [
    "model = tf.keras.models.Sequential([\n",
    "    tf.keras.layers.LSTM(128,return_sequences=True,input_shape=(tra_data_sli.shape[1],tra_data_sli.shape[2])),\n",
    "    tf.keras.layers.LSTM(128,return_sequences=True),\n",
    "    tf.keras.layers.LSTM(128,return_sequences=False),\n",
    "    tf.keras.layers.Dense(units=128,activation='relu'),\n",
    "    tf.keras.layers.Dense(units=24)\n",
    "]\n",
    ")\n"
   ]
  },
  {
   "cell_type": "code",
   "execution_count": null,
   "id": "94b5fea8",
   "metadata": {},
   "outputs": [],
   "source": []
  },
  {
   "cell_type": "code",
   "execution_count": 29,
   "id": "e0f15dd8",
   "metadata": {},
   "outputs": [],
   "source": [
    "#lr_schedule = tf.keras.optimizers.schedules.ExponentialDecay(\n",
    "#    0.1,\n",
    "#    decay_steps=1000,\n",
    "#    decay_rate=0.5)\n",
    "\n",
    "adam = tf.keras.optimizers.Adam(learning_rate=0.0001, beta_1=0.9, beta_2=0.999, amsgrad=False)\n",
    "\n",
    "ear_stop = tf.keras.callbacks.EarlyStopping(\n",
    "            monitor=\"val_loss\",mode='min',min_delta=5e-4,patience=20,verbose=1\n",
    ")\n",
    "\n",
    "model_chk = tf.keras.callbacks.ModelCheckpoint(\n",
    "            'LSTM University Data.h5',monitor=\"val_loss\",mode='min',verbose=1,save_best_only=True\n",
    ")\n"
   ]
  },
  {
   "cell_type": "code",
   "execution_count": 30,
   "id": "8a68676e",
   "metadata": {},
   "outputs": [],
   "source": [
    "model.compile(optimizer=adam,loss=tf.keras.losses.Huber(),metrics=[\"mean_squared_error\"])"
   ]
  },
  {
   "cell_type": "code",
   "execution_count": 31,
   "id": "558134de",
   "metadata": {},
   "outputs": [
    {
     "name": "stdout",
     "output_type": "stream",
     "text": [
      "Epoch 1/100\n",
      "10/10 [==============================] - ETA: 0s - loss: 0.4302 - mean_squared_error: 0.9811\n",
      "Epoch 1: val_loss improved from inf to 0.40388, saving model to LSTM University Data.h5\n",
      "10/10 [==============================] - 53s 2s/step - loss: 0.4302 - mean_squared_error: 0.9811 - val_loss: 0.4039 - val_mean_squared_error: 0.9090\n",
      "Epoch 2/100\n",
      "10/10 [==============================] - ETA: 0s - loss: 0.4074 - mean_squared_error: 0.9206\n",
      "Epoch 2: val_loss improved from 0.40388 to 0.37991, saving model to LSTM University Data.h5\n",
      "10/10 [==============================] - 18s 2s/step - loss: 0.4074 - mean_squared_error: 0.9206 - val_loss: 0.3799 - val_mean_squared_error: 0.8468\n",
      "Epoch 3/100\n",
      "10/10 [==============================] - ETA: 0s - loss: 0.3732 - mean_squared_error: 0.8323\n",
      "Epoch 3: val_loss improved from 0.37991 to 0.34045, saving model to LSTM University Data.h5\n",
      "10/10 [==============================] - 19s 2s/step - loss: 0.3732 - mean_squared_error: 0.8323 - val_loss: 0.3405 - val_mean_squared_error: 0.7481\n",
      "Epoch 4/100\n",
      "10/10 [==============================] - ETA: 0s - loss: 0.3189 - mean_squared_error: 0.6978\n",
      "Epoch 4: val_loss improved from 0.34045 to 0.28785, saving model to LSTM University Data.h5\n",
      "10/10 [==============================] - 19s 2s/step - loss: 0.3189 - mean_squared_error: 0.6978 - val_loss: 0.2879 - val_mean_squared_error: 0.6211\n",
      "Epoch 5/100\n",
      "10/10 [==============================] - ETA: 0s - loss: 0.2595 - mean_squared_error: 0.5568\n",
      "Epoch 5: val_loss improved from 0.28785 to 0.25321, saving model to LSTM University Data.h5\n",
      "10/10 [==============================] - 20s 2s/step - loss: 0.2595 - mean_squared_error: 0.5568 - val_loss: 0.2532 - val_mean_squared_error: 0.5375\n",
      "Epoch 6/100\n",
      "10/10 [==============================] - ETA: 0s - loss: 0.2201 - mean_squared_error: 0.4660\n",
      "Epoch 6: val_loss improved from 0.25321 to 0.22907, saving model to LSTM University Data.h5\n",
      "10/10 [==============================] - 19s 2s/step - loss: 0.2201 - mean_squared_error: 0.4660 - val_loss: 0.2291 - val_mean_squared_error: 0.4819\n",
      "Epoch 7/100\n",
      "10/10 [==============================] - ETA: 0s - loss: 0.1960 - mean_squared_error: 0.4119\n",
      "Epoch 7: val_loss improved from 0.22907 to 0.21276, saving model to LSTM University Data.h5\n",
      "10/10 [==============================] - 21s 2s/step - loss: 0.1960 - mean_squared_error: 0.4119 - val_loss: 0.2128 - val_mean_squared_error: 0.4446\n",
      "Epoch 8/100\n",
      "10/10 [==============================] - ETA: 0s - loss: 0.1795 - mean_squared_error: 0.3752\n",
      "Epoch 8: val_loss improved from 0.21276 to 0.20136, saving model to LSTM University Data.h5\n",
      "10/10 [==============================] - 21s 2s/step - loss: 0.1795 - mean_squared_error: 0.3752 - val_loss: 0.2014 - val_mean_squared_error: 0.4185\n",
      "Epoch 9/100\n",
      "10/10 [==============================] - ETA: 0s - loss: 0.1687 - mean_squared_error: 0.3518\n",
      "Epoch 9: val_loss improved from 0.20136 to 0.19330, saving model to LSTM University Data.h5\n",
      "10/10 [==============================] - 20s 2s/step - loss: 0.1687 - mean_squared_error: 0.3518 - val_loss: 0.1933 - val_mean_squared_error: 0.4001\n",
      "Epoch 10/100\n",
      "10/10 [==============================] - ETA: 0s - loss: 0.1621 - mean_squared_error: 0.3376\n",
      "Epoch 10: val_loss improved from 0.19330 to 0.18868, saving model to LSTM University Data.h5\n",
      "10/10 [==============================] - 20s 2s/step - loss: 0.1621 - mean_squared_error: 0.3376 - val_loss: 0.1887 - val_mean_squared_error: 0.3900\n",
      "Epoch 11/100\n",
      "10/10 [==============================] - ETA: 0s - loss: 0.1569 - mean_squared_error: 0.3262\n",
      "Epoch 11: val_loss improved from 0.18868 to 0.18533, saving model to LSTM University Data.h5\n",
      "10/10 [==============================] - 22s 2s/step - loss: 0.1569 - mean_squared_error: 0.3262 - val_loss: 0.1853 - val_mean_squared_error: 0.3829\n",
      "Epoch 12/100\n",
      "10/10 [==============================] - ETA: 0s - loss: 0.1528 - mean_squared_error: 0.3173\n",
      "Epoch 12: val_loss improved from 0.18533 to 0.17868, saving model to LSTM University Data.h5\n",
      "10/10 [==============================] - 21s 2s/step - loss: 0.1528 - mean_squared_error: 0.3173 - val_loss: 0.1787 - val_mean_squared_error: 0.3683\n",
      "Epoch 13/100\n",
      "10/10 [==============================] - ETA: 0s - loss: 0.1498 - mean_squared_error: 0.3115\n",
      "Epoch 13: val_loss improved from 0.17868 to 0.17283, saving model to LSTM University Data.h5\n",
      "10/10 [==============================] - 21s 2s/step - loss: 0.1498 - mean_squared_error: 0.3115 - val_loss: 0.1728 - val_mean_squared_error: 0.3557\n",
      "Epoch 14/100\n",
      "10/10 [==============================] - ETA: 0s - loss: 0.1480 - mean_squared_error: 0.3077\n",
      "Epoch 14: val_loss did not improve from 0.17283\n",
      "10/10 [==============================] - 23s 2s/step - loss: 0.1480 - mean_squared_error: 0.3077 - val_loss: 0.1742 - val_mean_squared_error: 0.3591\n",
      "Epoch 15/100\n",
      "10/10 [==============================] - ETA: 0s - loss: 0.1475 - mean_squared_error: 0.3066\n",
      "Epoch 15: val_loss improved from 0.17283 to 0.16928, saving model to LSTM University Data.h5\n",
      "10/10 [==============================] - 20s 2s/step - loss: 0.1475 - mean_squared_error: 0.3066 - val_loss: 0.1693 - val_mean_squared_error: 0.3483\n",
      "Epoch 16/100\n",
      "10/10 [==============================] - ETA: 0s - loss: 0.1451 - mean_squared_error: 0.3012\n",
      "Epoch 16: val_loss improved from 0.16928 to 0.16867, saving model to LSTM University Data.h5\n",
      "10/10 [==============================] - 21s 2s/step - loss: 0.1451 - mean_squared_error: 0.3012 - val_loss: 0.1687 - val_mean_squared_error: 0.3471\n",
      "Epoch 17/100\n",
      "10/10 [==============================] - ETA: 0s - loss: 0.1440 - mean_squared_error: 0.2992\n",
      "Epoch 17: val_loss improved from 0.16867 to 0.16474, saving model to LSTM University Data.h5\n",
      "10/10 [==============================] - 21s 2s/step - loss: 0.1440 - mean_squared_error: 0.2992 - val_loss: 0.1647 - val_mean_squared_error: 0.3384\n",
      "Epoch 18/100\n",
      "10/10 [==============================] - ETA: 0s - loss: 0.1418 - mean_squared_error: 0.2940\n",
      "Epoch 18: val_loss did not improve from 0.16474\n",
      "10/10 [==============================] - 22s 2s/step - loss: 0.1418 - mean_squared_error: 0.2940 - val_loss: 0.1653 - val_mean_squared_error: 0.3398\n",
      "Epoch 19/100\n",
      "10/10 [==============================] - ETA: 0s - loss: 0.1410 - mean_squared_error: 0.2920\n",
      "Epoch 19: val_loss did not improve from 0.16474\n",
      "10/10 [==============================] - 21s 2s/step - loss: 0.1410 - mean_squared_error: 0.2920 - val_loss: 0.1654 - val_mean_squared_error: 0.3397\n",
      "Epoch 20/100\n",
      "10/10 [==============================] - ETA: 0s - loss: 0.1430 - mean_squared_error: 0.2966\n",
      "Epoch 20: val_loss improved from 0.16474 to 0.16072, saving model to LSTM University Data.h5\n",
      "10/10 [==============================] - 22s 2s/step - loss: 0.1430 - mean_squared_error: 0.2966 - val_loss: 0.1607 - val_mean_squared_error: 0.3295\n",
      "Epoch 21/100\n",
      "10/10 [==============================] - ETA: 0s - loss: 0.1388 - mean_squared_error: 0.2873\n",
      "Epoch 21: val_loss improved from 0.16072 to 0.15861, saving model to LSTM University Data.h5\n",
      "10/10 [==============================] - 22s 2s/step - loss: 0.1388 - mean_squared_error: 0.2873 - val_loss: 0.1586 - val_mean_squared_error: 0.3249\n",
      "Epoch 22/100\n",
      "10/10 [==============================] - ETA: 0s - loss: 0.1378 - mean_squared_error: 0.2849\n",
      "Epoch 22: val_loss did not improve from 0.15861\n",
      "10/10 [==============================] - 23s 2s/step - loss: 0.1378 - mean_squared_error: 0.2849 - val_loss: 0.1586 - val_mean_squared_error: 0.3248\n",
      "Epoch 23/100\n",
      "10/10 [==============================] - ETA: 0s - loss: 0.1348 - mean_squared_error: 0.2793\n",
      "Epoch 23: val_loss improved from 0.15861 to 0.15498, saving model to LSTM University Data.h5\n",
      "10/10 [==============================] - 22s 2s/step - loss: 0.1348 - mean_squared_error: 0.2793 - val_loss: 0.1550 - val_mean_squared_error: 0.3168\n",
      "Epoch 24/100\n",
      "10/10 [==============================] - ETA: 0s - loss: 0.1332 - mean_squared_error: 0.2757\n",
      "Epoch 24: val_loss improved from 0.15498 to 0.15272, saving model to LSTM University Data.h5\n",
      "10/10 [==============================] - 22s 2s/step - loss: 0.1332 - mean_squared_error: 0.2757 - val_loss: 0.1527 - val_mean_squared_error: 0.3120\n",
      "Epoch 25/100\n"
     ]
    },
    {
     "name": "stdout",
     "output_type": "stream",
     "text": [
      "10/10 [==============================] - ETA: 0s - loss: 0.1320 - mean_squared_error: 0.2735\n",
      "Epoch 25: val_loss improved from 0.15272 to 0.14885, saving model to LSTM University Data.h5\n",
      "10/10 [==============================] - 21s 2s/step - loss: 0.1320 - mean_squared_error: 0.2735 - val_loss: 0.1489 - val_mean_squared_error: 0.3035\n",
      "Epoch 26/100\n",
      "10/10 [==============================] - ETA: 0s - loss: 0.1305 - mean_squared_error: 0.2699\n",
      "Epoch 26: val_loss improved from 0.14885 to 0.14835, saving model to LSTM University Data.h5\n",
      "10/10 [==============================] - 22s 2s/step - loss: 0.1305 - mean_squared_error: 0.2699 - val_loss: 0.1483 - val_mean_squared_error: 0.3023\n",
      "Epoch 27/100\n",
      "10/10 [==============================] - ETA: 0s - loss: 0.1294 - mean_squared_error: 0.2683\n",
      "Epoch 27: val_loss improved from 0.14835 to 0.14639, saving model to LSTM University Data.h5\n",
      "10/10 [==============================] - 22s 2s/step - loss: 0.1294 - mean_squared_error: 0.2683 - val_loss: 0.1464 - val_mean_squared_error: 0.2983\n",
      "Epoch 28/100\n",
      "10/10 [==============================] - ETA: 0s - loss: 0.1277 - mean_squared_error: 0.2641\n",
      "Epoch 28: val_loss improved from 0.14639 to 0.14521, saving model to LSTM University Data.h5\n",
      "10/10 [==============================] - 23s 2s/step - loss: 0.1277 - mean_squared_error: 0.2641 - val_loss: 0.1452 - val_mean_squared_error: 0.2957\n",
      "Epoch 29/100\n",
      "10/10 [==============================] - ETA: 0s - loss: 0.1299 - mean_squared_error: 0.2692\n",
      "Epoch 29: val_loss improved from 0.14521 to 0.14219, saving model to LSTM University Data.h5\n",
      "10/10 [==============================] - 21s 2s/step - loss: 0.1299 - mean_squared_error: 0.2692 - val_loss: 0.1422 - val_mean_squared_error: 0.2891\n",
      "Epoch 30/100\n",
      "10/10 [==============================] - ETA: 0s - loss: 0.1255 - mean_squared_error: 0.2595\n",
      "Epoch 30: val_loss did not improve from 0.14219\n",
      "10/10 [==============================] - 22s 2s/step - loss: 0.1255 - mean_squared_error: 0.2595 - val_loss: 0.1425 - val_mean_squared_error: 0.2899\n",
      "Epoch 31/100\n",
      "10/10 [==============================] - ETA: 0s - loss: 0.1250 - mean_squared_error: 0.2587\n",
      "Epoch 31: val_loss improved from 0.14219 to 0.14143, saving model to LSTM University Data.h5\n",
      "10/10 [==============================] - 21s 2s/step - loss: 0.1250 - mean_squared_error: 0.2587 - val_loss: 0.1414 - val_mean_squared_error: 0.2877\n",
      "Epoch 32/100\n",
      "10/10 [==============================] - ETA: 0s - loss: 0.1240 - mean_squared_error: 0.2559\n",
      "Epoch 32: val_loss did not improve from 0.14143\n",
      "10/10 [==============================] - 22s 2s/step - loss: 0.1240 - mean_squared_error: 0.2559 - val_loss: 0.1435 - val_mean_squared_error: 0.2921\n",
      "Epoch 33/100\n",
      "10/10 [==============================] - ETA: 0s - loss: 0.1245 - mean_squared_error: 0.2575\n",
      "Epoch 33: val_loss improved from 0.14143 to 0.13857, saving model to LSTM University Data.h5\n",
      "10/10 [==============================] - 21s 2s/step - loss: 0.1245 - mean_squared_error: 0.2575 - val_loss: 0.1386 - val_mean_squared_error: 0.2817\n",
      "Epoch 34/100\n",
      "10/10 [==============================] - ETA: 0s - loss: 0.1304 - mean_squared_error: 0.2697\n",
      "Epoch 34: val_loss did not improve from 0.13857\n",
      "10/10 [==============================] - 21s 2s/step - loss: 0.1304 - mean_squared_error: 0.2697 - val_loss: 0.1452 - val_mean_squared_error: 0.2966\n",
      "Epoch 35/100\n",
      "10/10 [==============================] - ETA: 0s - loss: 0.1242 - mean_squared_error: 0.2558\n",
      "Epoch 35: val_loss did not improve from 0.13857\n",
      "10/10 [==============================] - 20s 2s/step - loss: 0.1242 - mean_squared_error: 0.2558 - val_loss: 0.1448 - val_mean_squared_error: 0.2951\n",
      "Epoch 36/100\n",
      "10/10 [==============================] - ETA: 0s - loss: 0.1229 - mean_squared_error: 0.2539\n",
      "Epoch 36: val_loss improved from 0.13857 to 0.13713, saving model to LSTM University Data.h5\n",
      "10/10 [==============================] - 16s 2s/step - loss: 0.1229 - mean_squared_error: 0.2539 - val_loss: 0.1371 - val_mean_squared_error: 0.2788\n",
      "Epoch 37/100\n",
      "10/10 [==============================] - ETA: 0s - loss: 0.1211 - mean_squared_error: 0.2497\n",
      "Epoch 37: val_loss did not improve from 0.13713\n",
      "10/10 [==============================] - 14s 1s/step - loss: 0.1211 - mean_squared_error: 0.2497 - val_loss: 0.1390 - val_mean_squared_error: 0.2831\n",
      "Epoch 38/100\n",
      "10/10 [==============================] - ETA: 0s - loss: 0.1197 - mean_squared_error: 0.2466\n",
      "Epoch 38: val_loss improved from 0.13713 to 0.13662, saving model to LSTM University Data.h5\n",
      "10/10 [==============================] - 14s 1s/step - loss: 0.1197 - mean_squared_error: 0.2466 - val_loss: 0.1366 - val_mean_squared_error: 0.2778\n",
      "Epoch 39/100\n",
      "10/10 [==============================] - ETA: 0s - loss: 0.1184 - mean_squared_error: 0.2443\n",
      "Epoch 39: val_loss improved from 0.13662 to 0.13586, saving model to LSTM University Data.h5\n",
      "10/10 [==============================] - 14s 1s/step - loss: 0.1184 - mean_squared_error: 0.2443 - val_loss: 0.1359 - val_mean_squared_error: 0.2762\n",
      "Epoch 40/100\n",
      "10/10 [==============================] - ETA: 0s - loss: 0.1181 - mean_squared_error: 0.2430\n",
      "Epoch 40: val_loss did not improve from 0.13586\n",
      "10/10 [==============================] - 14s 1s/step - loss: 0.1181 - mean_squared_error: 0.2430 - val_loss: 0.1419 - val_mean_squared_error: 0.2895\n",
      "Epoch 41/100\n",
      "10/10 [==============================] - ETA: 0s - loss: 0.1202 - mean_squared_error: 0.2473\n",
      "Epoch 41: val_loss improved from 0.13586 to 0.13550, saving model to LSTM University Data.h5\n",
      "10/10 [==============================] - 15s 1s/step - loss: 0.1202 - mean_squared_error: 0.2473 - val_loss: 0.1355 - val_mean_squared_error: 0.2759\n",
      "Epoch 42/100\n",
      "10/10 [==============================] - ETA: 0s - loss: 0.1179 - mean_squared_error: 0.2435\n",
      "Epoch 42: val_loss improved from 0.13550 to 0.13232, saving model to LSTM University Data.h5\n",
      "10/10 [==============================] - 14s 1s/step - loss: 0.1179 - mean_squared_error: 0.2435 - val_loss: 0.1323 - val_mean_squared_error: 0.2693\n",
      "Epoch 43/100\n",
      "10/10 [==============================] - ETA: 0s - loss: 0.1162 - mean_squared_error: 0.2394\n",
      "Epoch 43: val_loss did not improve from 0.13232\n",
      "10/10 [==============================] - 14s 1s/step - loss: 0.1162 - mean_squared_error: 0.2394 - val_loss: 0.1384 - val_mean_squared_error: 0.2821\n",
      "Epoch 44/100\n",
      "10/10 [==============================] - ETA: 0s - loss: 0.1158 - mean_squared_error: 0.2385\n",
      "Epoch 44: val_loss did not improve from 0.13232\n",
      "10/10 [==============================] - 16s 2s/step - loss: 0.1158 - mean_squared_error: 0.2385 - val_loss: 0.1345 - val_mean_squared_error: 0.2742\n",
      "Epoch 45/100\n",
      "10/10 [==============================] - ETA: 0s - loss: 0.1147 - mean_squared_error: 0.2365\n",
      "Epoch 45: val_loss did not improve from 0.13232\n",
      "10/10 [==============================] - 15s 1s/step - loss: 0.1147 - mean_squared_error: 0.2365 - val_loss: 0.1337 - val_mean_squared_error: 0.2726\n",
      "Epoch 46/100\n",
      "10/10 [==============================] - ETA: 0s - loss: 0.1144 - mean_squared_error: 0.2356\n",
      "Epoch 46: val_loss did not improve from 0.13232\n",
      "10/10 [==============================] - 14s 1s/step - loss: 0.1144 - mean_squared_error: 0.2356 - val_loss: 0.1351 - val_mean_squared_error: 0.2752\n",
      "Epoch 47/100\n",
      "10/10 [==============================] - ETA: 0s - loss: 0.1131 - mean_squared_error: 0.2329\n",
      "Epoch 47: val_loss did not improve from 0.13232\n",
      "10/10 [==============================] - 14s 1s/step - loss: 0.1131 - mean_squared_error: 0.2329 - val_loss: 0.1351 - val_mean_squared_error: 0.2754\n",
      "Epoch 48/100\n",
      "10/10 [==============================] - ETA: 0s - loss: 0.1162 - mean_squared_error: 0.2389\n",
      "Epoch 48: val_loss did not improve from 0.13232\n",
      "10/10 [==============================] - 14s 1s/step - loss: 0.1162 - mean_squared_error: 0.2389 - val_loss: 0.1392 - val_mean_squared_error: 0.2845\n",
      "Epoch 49/100\n",
      "10/10 [==============================] - ETA: 0s - loss: 0.1127 - mean_squared_error: 0.2320\n",
      "Epoch 49: val_loss improved from 0.13232 to 0.13046, saving model to LSTM University Data.h5\n",
      "10/10 [==============================] - 15s 1s/step - loss: 0.1127 - mean_squared_error: 0.2320 - val_loss: 0.1305 - val_mean_squared_error: 0.2661\n",
      "Epoch 50/100\n"
     ]
    },
    {
     "name": "stdout",
     "output_type": "stream",
     "text": [
      "10/10 [==============================] - ETA: 0s - loss: 0.1117 - mean_squared_error: 0.2300\n",
      "Epoch 50: val_loss did not improve from 0.13046\n",
      "10/10 [==============================] - 14s 1s/step - loss: 0.1117 - mean_squared_error: 0.2300 - val_loss: 0.1327 - val_mean_squared_error: 0.2707\n",
      "Epoch 51/100\n",
      "10/10 [==============================] - ETA: 0s - loss: 0.1105 - mean_squared_error: 0.2272\n",
      "Epoch 51: val_loss did not improve from 0.13046\n",
      "10/10 [==============================] - 14s 1s/step - loss: 0.1105 - mean_squared_error: 0.2272 - val_loss: 0.1311 - val_mean_squared_error: 0.2672\n",
      "Epoch 52/100\n",
      "10/10 [==============================] - ETA: 0s - loss: 0.1112 - mean_squared_error: 0.2291\n",
      "Epoch 52: val_loss did not improve from 0.13046\n",
      "10/10 [==============================] - 14s 1s/step - loss: 0.1112 - mean_squared_error: 0.2291 - val_loss: 0.1328 - val_mean_squared_error: 0.2709\n",
      "Epoch 53/100\n",
      "10/10 [==============================] - ETA: 0s - loss: 0.1102 - mean_squared_error: 0.2266\n",
      "Epoch 53: val_loss did not improve from 0.13046\n",
      "10/10 [==============================] - 14s 1s/step - loss: 0.1102 - mean_squared_error: 0.2266 - val_loss: 0.1329 - val_mean_squared_error: 0.2711\n",
      "Epoch 54/100\n",
      "10/10 [==============================] - ETA: 0s - loss: 0.1095 - mean_squared_error: 0.2254\n",
      "Epoch 54: val_loss improved from 0.13046 to 0.12991, saving model to LSTM University Data.h5\n",
      "10/10 [==============================] - 15s 2s/step - loss: 0.1095 - mean_squared_error: 0.2254 - val_loss: 0.1299 - val_mean_squared_error: 0.2650\n",
      "Epoch 55/100\n",
      "10/10 [==============================] - ETA: 0s - loss: 0.1086 - mean_squared_error: 0.2233\n",
      "Epoch 55: val_loss did not improve from 0.12991\n",
      "10/10 [==============================] - 15s 1s/step - loss: 0.1086 - mean_squared_error: 0.2233 - val_loss: 0.1317 - val_mean_squared_error: 0.2688\n",
      "Epoch 56/100\n",
      "10/10 [==============================] - ETA: 0s - loss: 0.1076 - mean_squared_error: 0.2212\n",
      "Epoch 56: val_loss did not improve from 0.12991\n",
      "10/10 [==============================] - 14s 1s/step - loss: 0.1076 - mean_squared_error: 0.2212 - val_loss: 0.1300 - val_mean_squared_error: 0.2652\n",
      "Epoch 57/100\n",
      "10/10 [==============================] - ETA: 0s - loss: 0.1072 - mean_squared_error: 0.2199\n",
      "Epoch 57: val_loss did not improve from 0.12991\n",
      "10/10 [==============================] - 14s 1s/step - loss: 0.1072 - mean_squared_error: 0.2199 - val_loss: 0.1309 - val_mean_squared_error: 0.2672\n",
      "Epoch 58/100\n",
      "10/10 [==============================] - ETA: 0s - loss: 0.1061 - mean_squared_error: 0.2177\n",
      "Epoch 58: val_loss did not improve from 0.12991\n",
      "10/10 [==============================] - 14s 1s/step - loss: 0.1061 - mean_squared_error: 0.2177 - val_loss: 0.1318 - val_mean_squared_error: 0.2693\n",
      "Epoch 59/100\n",
      "10/10 [==============================] - ETA: 0s - loss: 0.1068 - mean_squared_error: 0.2193\n",
      "Epoch 59: val_loss did not improve from 0.12991\n",
      "10/10 [==============================] - 15s 2s/step - loss: 0.1068 - mean_squared_error: 0.2193 - val_loss: 0.1300 - val_mean_squared_error: 0.2657\n",
      "Epoch 60/100\n",
      "10/10 [==============================] - ETA: 0s - loss: 0.1071 - mean_squared_error: 0.2204\n",
      "Epoch 60: val_loss did not improve from 0.12991\n",
      "10/10 [==============================] - 15s 1s/step - loss: 0.1071 - mean_squared_error: 0.2204 - val_loss: 0.1320 - val_mean_squared_error: 0.2701\n",
      "Epoch 61/100\n",
      "10/10 [==============================] - ETA: 0s - loss: 0.1072 - mean_squared_error: 0.2200\n",
      "Epoch 61: val_loss did not improve from 0.12991\n",
      "10/10 [==============================] - 14s 1s/step - loss: 0.1072 - mean_squared_error: 0.2200 - val_loss: 0.1344 - val_mean_squared_error: 0.2753\n",
      "Epoch 62/100\n",
      "10/10 [==============================] - ETA: 0s - loss: 0.1031 - mean_squared_error: 0.2118\n",
      "Epoch 62: val_loss improved from 0.12991 to 0.12836, saving model to LSTM University Data.h5\n",
      "10/10 [==============================] - 14s 1s/step - loss: 0.1031 - mean_squared_error: 0.2118 - val_loss: 0.1284 - val_mean_squared_error: 0.2623\n",
      "Epoch 63/100\n",
      "10/10 [==============================] - ETA: 0s - loss: 0.1038 - mean_squared_error: 0.2131\n",
      "Epoch 63: val_loss did not improve from 0.12836\n",
      "10/10 [==============================] - 14s 1s/step - loss: 0.1038 - mean_squared_error: 0.2131 - val_loss: 0.1330 - val_mean_squared_error: 0.2725\n",
      "Epoch 64/100\n",
      "10/10 [==============================] - ETA: 0s - loss: 0.1019 - mean_squared_error: 0.2090\n",
      "Epoch 64: val_loss did not improve from 0.12836\n",
      "10/10 [==============================] - 14s 1s/step - loss: 0.1019 - mean_squared_error: 0.2090 - val_loss: 0.1297 - val_mean_squared_error: 0.2659\n",
      "Epoch 65/100\n",
      "10/10 [==============================] - ETA: 0s - loss: 0.1005 - mean_squared_error: 0.2061\n",
      "Epoch 65: val_loss did not improve from 0.12836\n",
      "10/10 [==============================] - 15s 2s/step - loss: 0.1005 - mean_squared_error: 0.2061 - val_loss: 0.1354 - val_mean_squared_error: 0.2772\n",
      "Epoch 66/100\n",
      "10/10 [==============================] - ETA: 0s - loss: 0.1040 - mean_squared_error: 0.2132\n",
      "Epoch 66: val_loss improved from 0.12836 to 0.12799, saving model to LSTM University Data.h5\n",
      "10/10 [==============================] - 14s 1s/step - loss: 0.1040 - mean_squared_error: 0.2132 - val_loss: 0.1280 - val_mean_squared_error: 0.2616\n",
      "Epoch 67/100\n",
      "10/10 [==============================] - ETA: 0s - loss: 0.1022 - mean_squared_error: 0.2100\n",
      "Epoch 67: val_loss improved from 0.12799 to 0.12505, saving model to LSTM University Data.h5\n",
      "10/10 [==============================] - 14s 1s/step - loss: 0.1022 - mean_squared_error: 0.2100 - val_loss: 0.1251 - val_mean_squared_error: 0.2556\n",
      "Epoch 68/100\n",
      "10/10 [==============================] - ETA: 0s - loss: 0.1007 - mean_squared_error: 0.2067\n",
      "Epoch 68: val_loss did not improve from 0.12505\n",
      "10/10 [==============================] - 14s 1s/step - loss: 0.1007 - mean_squared_error: 0.2067 - val_loss: 0.1312 - val_mean_squared_error: 0.2687\n",
      "Epoch 69/100\n",
      "10/10 [==============================] - ETA: 0s - loss: 0.0992 - mean_squared_error: 0.2034\n",
      "Epoch 69: val_loss did not improve from 0.12505\n",
      "10/10 [==============================] - 14s 1s/step - loss: 0.0992 - mean_squared_error: 0.2034 - val_loss: 0.1270 - val_mean_squared_error: 0.2602\n",
      "Epoch 70/100\n",
      "10/10 [==============================] - ETA: 0s - loss: 0.1013 - mean_squared_error: 0.2076\n",
      "Epoch 70: val_loss did not improve from 0.12505\n",
      "10/10 [==============================] - 14s 1s/step - loss: 0.1013 - mean_squared_error: 0.2076 - val_loss: 0.1349 - val_mean_squared_error: 0.2770\n",
      "Epoch 71/100\n",
      "10/10 [==============================] - ETA: 0s - loss: 0.1016 - mean_squared_error: 0.2083\n",
      "Epoch 71: val_loss did not improve from 0.12505\n",
      "10/10 [==============================] - 14s 1s/step - loss: 0.1016 - mean_squared_error: 0.2083 - val_loss: 0.1309 - val_mean_squared_error: 0.2683\n",
      "Epoch 72/100\n",
      "10/10 [==============================] - ETA: 0s - loss: 0.0975 - mean_squared_error: 0.1997\n",
      "Epoch 72: val_loss did not improve from 0.12505\n",
      "10/10 [==============================] - 14s 1s/step - loss: 0.0975 - mean_squared_error: 0.1997 - val_loss: 0.1282 - val_mean_squared_error: 0.2627\n",
      "Epoch 73/100\n",
      "10/10 [==============================] - ETA: 0s - loss: 0.0965 - mean_squared_error: 0.1976\n",
      "Epoch 73: val_loss did not improve from 0.12505\n",
      "10/10 [==============================] - 16s 2s/step - loss: 0.0965 - mean_squared_error: 0.1976 - val_loss: 0.1282 - val_mean_squared_error: 0.2627\n",
      "Epoch 74/100\n",
      "10/10 [==============================] - ETA: 0s - loss: 0.0953 - mean_squared_error: 0.1951\n",
      "Epoch 74: val_loss did not improve from 0.12505\n",
      "10/10 [==============================] - 14s 1s/step - loss: 0.0953 - mean_squared_error: 0.1951 - val_loss: 0.1268 - val_mean_squared_error: 0.2601\n",
      "Epoch 75/100\n",
      "10/10 [==============================] - ETA: 0s - loss: 0.0950 - mean_squared_error: 0.1946\n",
      "Epoch 75: val_loss did not improve from 0.12505\n",
      "10/10 [==============================] - 14s 1s/step - loss: 0.0950 - mean_squared_error: 0.1946 - val_loss: 0.1285 - val_mean_squared_error: 0.2639\n",
      "Epoch 76/100\n",
      "10/10 [==============================] - ETA: 0s - loss: 0.0936 - mean_squared_error: 0.1916\n",
      "Epoch 76: val_loss did not improve from 0.12505\n"
     ]
    },
    {
     "name": "stdout",
     "output_type": "stream",
     "text": [
      "10/10 [==============================] - 14s 1s/step - loss: 0.0936 - mean_squared_error: 0.1916 - val_loss: 0.1263 - val_mean_squared_error: 0.2593\n",
      "Epoch 77/100\n",
      "10/10 [==============================] - ETA: 0s - loss: 0.0927 - mean_squared_error: 0.1896\n",
      "Epoch 77: val_loss did not improve from 0.12505\n",
      "10/10 [==============================] - 14s 1s/step - loss: 0.0927 - mean_squared_error: 0.1896 - val_loss: 0.1267 - val_mean_squared_error: 0.2597\n",
      "Epoch 78/100\n",
      "10/10 [==============================] - ETA: 0s - loss: 0.0924 - mean_squared_error: 0.1889\n",
      "Epoch 78: val_loss did not improve from 0.12505\n",
      "10/10 [==============================] - 14s 1s/step - loss: 0.0924 - mean_squared_error: 0.1889 - val_loss: 0.1322 - val_mean_squared_error: 0.2711\n",
      "Epoch 79/100\n",
      "10/10 [==============================] - ETA: 0s - loss: 0.1005 - mean_squared_error: 0.2060\n",
      "Epoch 79: val_loss improved from 0.12505 to 0.12375, saving model to LSTM University Data.h5\n",
      "10/10 [==============================] - 14s 1s/step - loss: 0.1005 - mean_squared_error: 0.2060 - val_loss: 0.1237 - val_mean_squared_error: 0.2538\n",
      "Epoch 80/100\n",
      "10/10 [==============================] - ETA: 0s - loss: 0.0959 - mean_squared_error: 0.1965\n",
      "Epoch 80: val_loss did not improve from 0.12375\n",
      "10/10 [==============================] - 15s 2s/step - loss: 0.0959 - mean_squared_error: 0.1965 - val_loss: 0.1280 - val_mean_squared_error: 0.2625\n",
      "Epoch 81/100\n",
      "10/10 [==============================] - ETA: 0s - loss: 0.0925 - mean_squared_error: 0.1893\n",
      "Epoch 81: val_loss did not improve from 0.12375\n",
      "10/10 [==============================] - 14s 1s/step - loss: 0.0925 - mean_squared_error: 0.1893 - val_loss: 0.1253 - val_mean_squared_error: 0.2570\n",
      "Epoch 82/100\n",
      "10/10 [==============================] - ETA: 0s - loss: 0.0917 - mean_squared_error: 0.1877\n",
      "Epoch 82: val_loss did not improve from 0.12375\n",
      "10/10 [==============================] - 14s 1s/step - loss: 0.0917 - mean_squared_error: 0.1877 - val_loss: 0.1241 - val_mean_squared_error: 0.2540\n",
      "Epoch 83/100\n",
      "10/10 [==============================] - ETA: 0s - loss: 0.0917 - mean_squared_error: 0.1876\n",
      "Epoch 83: val_loss did not improve from 0.12375\n",
      "10/10 [==============================] - 14s 1s/step - loss: 0.0917 - mean_squared_error: 0.1876 - val_loss: 0.1243 - val_mean_squared_error: 0.2542\n",
      "Epoch 84/100\n",
      "10/10 [==============================] - ETA: 0s - loss: 0.0911 - mean_squared_error: 0.1862\n",
      "Epoch 84: val_loss did not improve from 0.12375\n",
      "10/10 [==============================] - 13s 1s/step - loss: 0.0911 - mean_squared_error: 0.1862 - val_loss: 0.1251 - val_mean_squared_error: 0.2563\n",
      "Epoch 85/100\n",
      "10/10 [==============================] - ETA: 0s - loss: 0.0887 - mean_squared_error: 0.1814\n",
      "Epoch 85: val_loss did not improve from 0.12375\n",
      "10/10 [==============================] - 14s 1s/step - loss: 0.0887 - mean_squared_error: 0.1814 - val_loss: 0.1273 - val_mean_squared_error: 0.2610\n",
      "Epoch 86/100\n",
      "10/10 [==============================] - ETA: 0s - loss: 0.0889 - mean_squared_error: 0.1816\n",
      "Epoch 86: val_loss did not improve from 0.12375\n",
      "10/10 [==============================] - 14s 1s/step - loss: 0.0889 - mean_squared_error: 0.1816 - val_loss: 0.1246 - val_mean_squared_error: 0.2549\n",
      "Epoch 87/100\n",
      "10/10 [==============================] - ETA: 0s - loss: 0.0879 - mean_squared_error: 0.1797\n",
      "Epoch 87: val_loss did not improve from 0.12375\n",
      "10/10 [==============================] - 14s 1s/step - loss: 0.0879 - mean_squared_error: 0.1797 - val_loss: 0.1268 - val_mean_squared_error: 0.2595\n",
      "Epoch 88/100\n",
      "10/10 [==============================] - ETA: 0s - loss: 0.0893 - mean_squared_error: 0.1823\n",
      "Epoch 88: val_loss improved from 0.12375 to 0.12022, saving model to LSTM University Data.h5\n",
      "10/10 [==============================] - 14s 1s/step - loss: 0.0893 - mean_squared_error: 0.1823 - val_loss: 0.1202 - val_mean_squared_error: 0.2459\n",
      "Epoch 89/100\n",
      "10/10 [==============================] - ETA: 0s - loss: 0.0928 - mean_squared_error: 0.1899\n",
      "Epoch 89: val_loss did not improve from 0.12022\n",
      "10/10 [==============================] - 14s 1s/step - loss: 0.0928 - mean_squared_error: 0.1899 - val_loss: 0.1262 - val_mean_squared_error: 0.2591\n",
      "Epoch 90/100\n",
      "10/10 [==============================] - ETA: 0s - loss: 0.0896 - mean_squared_error: 0.1831\n",
      "Epoch 90: val_loss did not improve from 0.12022\n",
      "10/10 [==============================] - 14s 1s/step - loss: 0.0896 - mean_squared_error: 0.1831 - val_loss: 0.1239 - val_mean_squared_error: 0.2530\n",
      "Epoch 91/100\n",
      "10/10 [==============================] - ETA: 0s - loss: 0.0873 - mean_squared_error: 0.1780\n",
      "Epoch 91: val_loss did not improve from 0.12022\n",
      "10/10 [==============================] - 14s 1s/step - loss: 0.0873 - mean_squared_error: 0.1780 - val_loss: 0.1286 - val_mean_squared_error: 0.2632\n",
      "Epoch 92/100\n",
      "10/10 [==============================] - ETA: 0s - loss: 0.0889 - mean_squared_error: 0.1817\n",
      "Epoch 92: val_loss did not improve from 0.12022\n",
      "10/10 [==============================] - 13s 1s/step - loss: 0.0889 - mean_squared_error: 0.1817 - val_loss: 0.1243 - val_mean_squared_error: 0.2549\n",
      "Epoch 93/100\n",
      "10/10 [==============================] - ETA: 0s - loss: 0.0863 - mean_squared_error: 0.1764\n",
      "Epoch 93: val_loss did not improve from 0.12022\n",
      "10/10 [==============================] - 14s 1s/step - loss: 0.0863 - mean_squared_error: 0.1764 - val_loss: 0.1243 - val_mean_squared_error: 0.2552\n",
      "Epoch 94/100\n",
      "10/10 [==============================] - ETA: 0s - loss: 0.0850 - mean_squared_error: 0.1736\n",
      "Epoch 94: val_loss did not improve from 0.12022\n",
      "10/10 [==============================] - 14s 1s/step - loss: 0.0850 - mean_squared_error: 0.1736 - val_loss: 0.1231 - val_mean_squared_error: 0.2523\n",
      "Epoch 95/100\n",
      "10/10 [==============================] - ETA: 0s - loss: 0.0844 - mean_squared_error: 0.1720\n",
      "Epoch 95: val_loss improved from 0.12022 to 0.11921, saving model to LSTM University Data.h5\n",
      "10/10 [==============================] - 15s 1s/step - loss: 0.0844 - mean_squared_error: 0.1720 - val_loss: 0.1192 - val_mean_squared_error: 0.2442\n",
      "Epoch 96/100\n",
      "10/10 [==============================] - ETA: 0s - loss: 0.0826 - mean_squared_error: 0.1685\n",
      "Epoch 96: val_loss did not improve from 0.11921\n",
      "10/10 [==============================] - 14s 1s/step - loss: 0.0826 - mean_squared_error: 0.1685 - val_loss: 0.1194 - val_mean_squared_error: 0.2447\n",
      "Epoch 97/100\n",
      "10/10 [==============================] - ETA: 0s - loss: 0.0834 - mean_squared_error: 0.1704\n",
      "Epoch 97: val_loss did not improve from 0.11921\n",
      "10/10 [==============================] - 13s 1s/step - loss: 0.0834 - mean_squared_error: 0.1704 - val_loss: 0.1194 - val_mean_squared_error: 0.2451\n",
      "Epoch 98/100\n",
      "10/10 [==============================] - ETA: 0s - loss: 0.0859 - mean_squared_error: 0.1754\n",
      "Epoch 98: val_loss did not improve from 0.11921\n",
      "10/10 [==============================] - 13s 1s/step - loss: 0.0859 - mean_squared_error: 0.1754 - val_loss: 0.1263 - val_mean_squared_error: 0.2584\n",
      "Epoch 99/100\n",
      "10/10 [==============================] - ETA: 0s - loss: 0.0833 - mean_squared_error: 0.1700\n",
      "Epoch 99: val_loss did not improve from 0.11921\n",
      "10/10 [==============================] - 15s 1s/step - loss: 0.0833 - mean_squared_error: 0.1700 - val_loss: 0.1220 - val_mean_squared_error: 0.2498\n",
      "Epoch 100/100\n",
      "10/10 [==============================] - ETA: 0s - loss: 0.0809 - mean_squared_error: 0.1652\n",
      "Epoch 100: val_loss did not improve from 0.11921\n",
      "10/10 [==============================] - 14s 1s/step - loss: 0.0809 - mean_squared_error: 0.1652 - val_loss: 0.1222 - val_mean_squared_error: 0.2495\n"
     ]
    }
   ],
   "source": [
    "history = model.fit(x=tra_data_sli,y=tra_lab, epochs=MAX_EPOCH, batch_size=BATCH_SIZE,validation_data=(val_data_sli, val_lab), verbose=1,callbacks=[model_chk,ear_stop])"
   ]
  },
  {
   "cell_type": "code",
   "execution_count": 32,
   "id": "253991b6",
   "metadata": {},
   "outputs": [
    {
     "name": "stdout",
     "output_type": "stream",
     "text": [
      "5/5 [==============================] - 3s 139ms/step\n"
     ]
    }
   ],
   "source": [
    "predict = model.predict(x=tes_data_sli)"
   ]
  },
  {
   "cell_type": "code",
   "execution_count": 33,
   "id": "c8eb2db9",
   "metadata": {},
   "outputs": [
    {
     "name": "stdout",
     "output_type": "stream",
     "text": [
      "Mean Squared Error is: 498594.5646694162\n",
      "Mean Absolute Error is: 548.7449820089661\n"
     ]
    }
   ],
   "source": [
    "prediction = test_scaler.inverse_transform(np.repeat(predict.flatten().reshape(-1,1),8,axis=1))\n",
    "grou_tru = test_scaler.inverse_transform(np.repeat(tes_lab.flatten().reshape(-1,1),8,axis=1))\n",
    "print(\"Mean Squared Error is: \" + str(mean_squared_error(grou_tru[:,0],prediction[:,0])))\n",
    "print(\"Mean Absolute Error is: \" + str(mean_absolute_error(grou_tru[:,0],prediction[:,0])))"
   ]
  },
  {
   "cell_type": "code",
   "execution_count": 34,
   "id": "ba376ba4",
   "metadata": {},
   "outputs": [
    {
     "data": {
      "text/plain": [
       "<matplotlib.legend.Legend at 0x22b2dbb7d30>"
      ]
     },
     "execution_count": 34,
     "metadata": {},
     "output_type": "execute_result"
    },
    {
     "data": {
      "image/png": "[encoded data removed]",
      "text/plain": [
       "<Figure size 432x288 with 1 Axes>"
      ]
     },
     "metadata": {
      "needs_background": "light"
     },
     "output_type": "display_data"
    }
   ],
   "source": [
    "plt.plot(history.history['val_loss'])\n",
    "plt.plot(history.history['loss'])\n",
    "plt.legend(['val_loss', 'loss'], loc='upper left')\n"
   ]
  },
  {
   "cell_type": "code",
   "execution_count": 37,
   "id": "d7638e41",
   "metadata": {},
   "outputs": [],
   "source": [
    "def plot_compare(pred,label,day):\n",
    "    label=label[:,0].reshape(-1,24)\n",
    "    pred=pred[:,0].reshape(-1,24)\n",
    "    plt.plot(np.arange(24),pred[day],label='LSTM')\n",
    "    plt.plot(np.arange(24),label[day],label='actual')\n",
    "    plt.xlabel('Hour of Day')\n",
    "    plt.ylabel('Load (kW)')\n",
    "    plt.legend()\n",
    "    plt.plot()"
   ]
  },
  {
   "cell_type": "code",
   "execution_count": 38,
   "id": "1c6d6d9a",
   "metadata": {},
   "outputs": [
    {
     "data": {
      "image/png": "[encoded data removed]",
      "text/plain": [
       "<Figure size 432x288 with 1 Axes>"
      ]
     },
     "metadata": {
      "needs_background": "light"
     },
     "output_type": "display_data"
    }
   ],
   "source": [
    "plot_compare(prediction,grou_tru,15)"
   ]
  },
  {
   "cell_type": "code",
   "execution_count": null,
   "id": "4fdbe536",
   "metadata": {},
   "outputs": [],
   "source": []
  },
  {
   "cell_type": "code",
   "execution_count": null,
   "id": "2e1acfe3",
   "metadata": {},
   "outputs": [],
   "source": []
  },
  {
   "cell_type": "code",
   "execution_count": null,
   "id": "c00fce29",
   "metadata": {},
   "outputs": [],
   "source": []
  },
  {
   "cell_type": "code",
   "execution_count": null,
   "id": "c0adcbe4",
   "metadata": {},
   "outputs": [],
   "source": []
  },
  {
   "cell_type": "code",
   "execution_count": null,
   "id": "af21915d",
   "metadata": {},
   "outputs": [],
   "source": []
  },
  {
   "cell_type": "code",
   "execution_count": null,
   "id": "fafab128",
   "metadata": {},
   "outputs": [],
   "source": []
  },
  {
   "cell_type": "code",
   "execution_count": null,
   "id": "89c67ae6",
   "metadata": {},
   "outputs": [],
   "source": []
  },
  {
   "cell_type": "code",
   "execution_count": null,
   "id": "c3a2b63b",
   "metadata": {},
   "outputs": [],
   "source": []
  },
  {
   "cell_type": "code",
   "execution_count": null,
   "id": "bb525216",
   "metadata": {},
   "outputs": [],
   "source": []
  },
  {
   "cell_type": "code",
   "execution_count": null,
   "id": "ae41a9f1",
   "metadata": {},
   "outputs": [],
   "source": []
  },
  {
   "cell_type": "code",
   "execution_count": null,
   "id": "cb22c82e",
   "metadata": {},
   "outputs": [],
   "source": []
  },
  {
   "cell_type": "code",
   "execution_count": null,
   "id": "bec46675",
   "metadata": {},
   "outputs": [],
   "source": []
  },
  {
   "cell_type": "code",
   "execution_count": null,
   "id": "36c8f5ab",
   "metadata": {},
   "outputs": [],
   "source": []
  },
  {
   "cell_type": "code",
   "execution_count": null,
   "id": "962ca98f",
   "metadata": {},
   "outputs": [],
   "source": []
  },
  {
   "cell_type": "code",
   "execution_count": null,
   "id": "d0215342",
   "metadata": {},
   "outputs": [],
   "source": []
  },
  {
   "cell_type": "code",
   "execution_count": null,
   "id": "a2863ec4",
   "metadata": {},
   "outputs": [],
   "source": []
  },
  {
   "cell_type": "code",
   "execution_count": null,
   "id": "c0ab8087",
   "metadata": {},
   "outputs": [],
   "source": []
  },
  {
   "cell_type": "code",
   "execution_count": null,
   "id": "0da7f2ff",
   "metadata": {},
   "outputs": [],
   "source": []
  },
  {
   "cell_type": "code",
   "execution_count": null,
   "id": "26c165d8",
   "metadata": {},
   "outputs": [],
   "source": []
  },
  {
   "cell_type": "code",
   "execution_count": null,
   "id": "337ba0ac",
   "metadata": {},
   "outputs": [],
   "source": []
  },
  {
   "cell_type": "code",
   "execution_count": null,
   "id": "3bb8480f",
   "metadata": {},
   "outputs": [],
   "source": []
  },
  {
   "cell_type": "code",
   "execution_count": null,
   "id": "9efaf170",
   "metadata": {},
   "outputs": [],
   "source": []
  },
  {
   "cell_type": "code",
   "execution_count": null,
   "id": "a2e17a4a",
   "metadata": {},
   "outputs": [],
   "source": []
  },
  {
   "cell_type": "code",
   "execution_count": null,
   "id": "b77f4e03",
   "metadata": {},
   "outputs": [],
   "source": []
  },
  {
   "cell_type": "code",
   "execution_count": null,
   "id": "67d39ab9",
   "metadata": {},
   "outputs": [],
   "source": []
  },
  {
   "cell_type": "code",
   "execution_count": null,
   "id": "8ec8428c",
   "metadata": {},
   "outputs": [],
   "source": []
  },
  {
   "cell_type": "code",
   "execution_count": null,
   "id": "0848e00f",
   "metadata": {},
   "outputs": [],
   "source": []
  },
  {
   "cell_type": "code",
   "execution_count": null,
   "id": "cb880bc8",
   "metadata": {},
   "outputs": [],
   "source": []
  },
  {
   "cell_type": "code",
   "execution_count": null,
   "id": "17889ee4",
   "metadata": {},
   "outputs": [],
   "source": []
  },
  {
   "cell_type": "code",
   "execution_count": null,
   "id": "c76bd6dc",
   "metadata": {},
   "outputs": [],
   "source": []
  },
  {
   "cell_type": "code",
   "execution_count": null,
   "id": "7dc528eb",
   "metadata": {},
   "outputs": [],
   "source": []
  },
  {
   "cell_type": "code",
   "execution_count": null,
   "id": "8b98575c",
   "metadata": {},
   "outputs": [],
   "source": []
  },
  {
   "cell_type": "code",
   "execution_count": null,
   "id": "d00446ce",
   "metadata": {},
   "outputs": [],
   "source": []
  },
  {
   "cell_type": "code",
   "execution_count": null,
   "id": "78ba88e3",
   "metadata": {},
   "outputs": [],
   "source": []
  },
  {
   "cell_type": "code",
   "execution_count": null,
   "id": "9ef69640",
   "metadata": {},
   "outputs": [],
   "source": []
  },
  {
   "cell_type": "code",
   "execution_count": null,
   "id": "70255351",
   "metadata": {},
   "outputs": [],
   "source": []
  },
  {
   "cell_type": "code",
   "execution_count": null,
   "id": "a28d5d5d",
   "metadata": {},
   "outputs": [],
   "source": []
  },
  {
   "cell_type": "code",
   "execution_count": null,
   "id": "d79bfb7e",
   "metadata": {},
   "outputs": [],
   "source": []
  }
 ],
 "metadata": {
  "kernelspec": {
   "display_name": "Python 3 (ipykernel)",
   "language": "python",
   "name": "python3"
  },
  "language_info": {
   "codemirror_mode": {
    "name": "ipython",
    "version": 3
   },
   "file_extension": ".py",
   "mimetype": "text/x-python",
   "name": "python",
   "nbconvert_exporter": "python",
   "pygments_lexer": "ipython3",
   "version": "3.9.12"
  }
 },
 "nbformat": 4,
 "nbformat_minor": 5
}
